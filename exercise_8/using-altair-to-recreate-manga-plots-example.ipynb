{
 "cells": [
  {
   "cell_type": "markdown",
   "id": "a92879f3",
   "metadata": {},
   "source": [
    "# Altairで「マンガ雑誌のデータ」の図を作り直す"
   ]
  },
  {
   "cell_type": "markdown",
   "id": "44dc45d7",
   "metadata": {},
   "source": [
    "今回は、文化庁の[メディア芸術データベース・ラボ（MADB Lab）](https://mediag.bunka.go.jp/madb_lab/)で公開されている四大少年誌（週刊少年サンデー、週刊少年ジャンプ、週刊少年チャンピオン、週刊少年マガジン）のデータを使って、量的データと質的データの可視化を練習します。\n",
    "\n",
    "まず、「四大少年誌それぞれの掲載作品のジャンルと著者にはどのような特徴があるのか？」という大きな問いを立て、可視化手法を学びながらデータを見て、具体的な問いを決めていきましょう。\n",
    "\n",
    "[マンガと学ぶデータビジュアライゼーション](https://kakeami.github.io/viz-madb/index.html)の内容を全面的に参考にし、一部改変しています。"
   ]
  },
  {
   "cell_type": "markdown",
   "id": "1a7aa910",
   "metadata": {},
   "source": [
    "[Plotlyで作られた図](./visualizing-quantitative-and-qualitative-data.ipynb)の中から、好きな図を3つ選んで、Altairで再現しましょう。\n",
    "\n",
    "再現する時には、変数の性質（名義、順序、間隔、比例）に注意して、どのタイプの図がどの変数をうまく扱えるかを考えてみましょう。\n",
    "\n",
    "複雑な図を再現したい時は、[Altair Example Gallery](https://altair-viz.github.io/gallery/index.html)を参考にしてみてください。"
   ]
  },
  {
   "cell_type": "markdown",
   "id": "2f0144b1",
   "metadata": {},
   "source": [
    "## ライブラリの読み込み"
   ]
  },
  {
   "cell_type": "code",
   "execution_count": null,
   "id": "4fbc3526",
   "metadata": {},
   "outputs": [
    {
     "name": "stdout",
     "output_type": "stream",
     "text": [
      "Collecting vl-convert-python\n",
      "  Downloading vl_convert_python-1.7.0-cp37-abi3-macosx_11_0_arm64.whl.metadata (5.2 kB)\n",
      "Downloading vl_convert_python-1.7.0-cp37-abi3-macosx_11_0_arm64.whl (26.9 MB)\n",
      "\u001b[2K   \u001b[38;2;114;156;31m━━━━━━━━━━━━━━━━━━━━━━━━━━━━━━━━━━━━━━━━\u001b[0m \u001b[32m26.9/26.9 MB\u001b[0m \u001b[31m45.8 MB/s\u001b[0m eta \u001b[36m0:00:00\u001b[0m MB/s\u001b[0m eta \u001b[36m0:00:01\u001b[0m\n",
      "\u001b[?25hInstalling collected packages: vl-convert-python\n",
      "Successfully installed vl-convert-python-1.7.0\n"
     ]
    }
   ],
   "source": [
    "# ライブラリのインストール。必要に応じてコメントアウトする。\n",
    "# !pip install altair\n",
    "# !pip install vl-convert-python"
   ]
  },
  {
   "cell_type": "code",
   "execution_count": 2,
   "id": "018f7d95",
   "metadata": {},
   "outputs": [],
   "source": [
    "import pandas as pd\n",
    "\n",
    "import altair as alt"
   ]
  },
  {
   "cell_type": "code",
   "execution_count": 3,
   "id": "476bdae1",
   "metadata": {},
   "outputs": [],
   "source": [
    "import itertools\n",
    "import warnings\n",
    "warnings.filterwarnings('ignore')"
   ]
  },
  {
   "cell_type": "code",
   "execution_count": 4,
   "id": "351803ca",
   "metadata": {},
   "outputs": [
    {
     "data": {
      "text/plain": [
       "DataTransformerRegistry.enable('default')"
      ]
     },
     "execution_count": 4,
     "metadata": {},
     "output_type": "execute_result"
    }
   ],
   "source": [
    "# 5000行の制限をはずす\n",
    "alt.data_transformers.disable_max_rows()"
   ]
  },
  {
   "cell_type": "markdown",
   "id": "80181144",
   "metadata": {},
   "source": [
    "## 準備関数"
   ]
  },
  {
   "cell_type": "code",
   "execution_count": 5,
   "id": "824154b1",
   "metadata": {},
   "outputs": [],
   "source": [
    "# weekdayを曜日に変換\n",
    "WD2STR = {\n",
    "    0: 'Mon.',\n",
    "    1: 'Tue.',\n",
    "    2: 'Wed.',\n",
    "    3: 'Thu.',\n",
    "    4: 'Fri.',\n",
    "    5: 'Sat.',\n",
    "    6: 'Sun.',}"
   ]
  },
  {
   "cell_type": "code",
   "execution_count": 6,
   "id": "c7ffca46",
   "metadata": {},
   "outputs": [],
   "source": [
    "def add_years_to_df(df, unit_years=10):\n",
    "    \"\"\"unit_years単位で区切ったyears列を追加\"\"\"\n",
    "    df_new = df.copy()\n",
    "    df_new['years'] = \\\n",
    "        pd.to_datetime(df['datePublished']).dt.year \\\n",
    "        // unit_years * unit_years\n",
    "    df_new['years'] = df_new['years'].astype(str)\n",
    "    return df_new"
   ]
  },
  {
   "cell_type": "code",
   "execution_count": 7,
   "id": "d060fcbb",
   "metadata": {},
   "outputs": [],
   "source": [
    "def add_weekday_to_df(df):\n",
    "    \"\"\"曜日情報をdfに追加\"\"\"\n",
    "    df_new = df.copy()\n",
    "    df_new['weekday'] = \\\n",
    "        pd.to_datetime(df_new['datePublished']).dt.weekday\n",
    "    df_new['weekday_str'] = df_new['weekday'].apply(\n",
    "        lambda x: WD2STR[x])\n",
    "    return df_new"
   ]
  },
  {
   "cell_type": "code",
   "execution_count": 8,
   "id": "c4b2b5ac",
   "metadata": {},
   "outputs": [],
   "source": [
    "def add_mcid_to_df(df):\n",
    "    \"\"\"mcnameのindexをdfに追加\"\"\"\n",
    "    df_new = df.copy()\n",
    "    mcname2mcid = {\n",
    "        x: i for i, x in enumerate(df['mcname'].unique())}\n",
    "    df_new['mcid'] = df_new['mcname'].apply(\n",
    "        lambda x: mcname2mcid[x])\n",
    "    return df_new"
   ]
  },
  {
   "cell_type": "code",
   "execution_count": 9,
   "id": "fe78c1d1",
   "metadata": {},
   "outputs": [],
   "source": [
    "def resample_df_by_cname_and_years(df):\n",
    "    \"\"\"cnameとyearsのすべての組み合わせが存在するように0埋め\n",
    "    この処理を実施しないと作図時にX軸方向の順序が変わってしまう\"\"\"\n",
    "    df_new = df.copy()\n",
    "    yearss = df['years'].unique()\n",
    "    cnames = df['cname'].unique()\n",
    "    for cname, years in itertools.product(cnames, yearss):\n",
    "        df_tmp = df_new[\n",
    "            (df_new['cname'] == cname)&\\\n",
    "            (df_new['years'] == years)]\n",
    "        if df_tmp.shape[0] == 0:\n",
    "            s = pd.DataFrame(\n",
    "                {'cname': cname,\n",
    "                 'years': years,\n",
    "                 'weeks': 0,},\n",
    "                index=df_tmp.columns)\n",
    "            df_new = pd.concat(\n",
    "                [df_new, s], ignore_index=True)\n",
    "    return df_new"
   ]
  },
  {
   "cell_type": "code",
   "execution_count": 10,
   "id": "f708ba0d",
   "metadata": {},
   "outputs": [],
   "source": [
    "def resample_df_by_creator_and_years(df):\n",
    "    \"\"\"creatorとyearsのすべての組み合わせが存在するように0埋め\n",
    "    この処理を実施しないと作図時にX軸方向の順序が変わってしまう\"\"\"\n",
    "    df_new = df.copy()\n",
    "    yearss = df['years'].unique()\n",
    "    creators = df['creator'].unique()\n",
    "    for creator, years in itertools.product(creators, yearss):\n",
    "        df_tmp = df_new[\n",
    "            (df_new['creator'] == creator)&\\\n",
    "            (df_new['years'] == years)]\n",
    "        if df_tmp.shape[0] == 0:\n",
    "            s = pd.Series(\n",
    "                {'creator': creator,\n",
    "                 'years': years,\n",
    "                 'weeks': 0,},\n",
    "                index=df_tmp.columns)\n",
    "            df_new = pd.concat(\n",
    "                [df_new, s], ignore_index=True)\n",
    "    return df_new"
   ]
  },
  {
   "cell_type": "markdown",
   "id": "860c6585",
   "metadata": {},
   "source": [
    "## データの用意\n",
    "\n",
    "四大少年誌の`1970-07-27`から`2017-07-06`までの全ての掲載作品のデータを使います。\n",
    "\n",
    "すでに前処理がされているデータがあるので、そちらを使います。"
   ]
  },
  {
   "cell_type": "code",
   "execution_count": 11,
   "id": "636aad5d",
   "metadata": {},
   "outputs": [],
   "source": [
    "file = \"./data/episodes.csv\""
   ]
  },
  {
   "cell_type": "code",
   "execution_count": 13,
   "id": "e68fa0c8",
   "metadata": {},
   "outputs": [],
   "source": [
    "df = pd.read_csv(file)"
   ]
  },
  {
   "cell_type": "code",
   "execution_count": 14,
   "id": "b8a15294",
   "metadata": {},
   "outputs": [
    {
     "data": {
      "text/plain": [
       "(179931, 17)"
      ]
     },
     "execution_count": 14,
     "metadata": {},
     "output_type": "execute_result"
    }
   ],
   "source": [
    "df.shape"
   ]
  },
  {
   "cell_type": "markdown",
   "id": "947c9925",
   "metadata": {},
   "source": [
    "各週の掲載作品を一行ずつ格納しているため、合計で約18万行程度になります。"
   ]
  },
  {
   "cell_type": "code",
   "execution_count": 15,
   "id": "377d9456",
   "metadata": {},
   "outputs": [
    {
     "data": {
      "text/plain": [
       "Index(['mcname', 'miid', 'miname', 'cid', 'cname', 'epname', 'creator',\n",
       "       'pageStart', 'pageEnd', 'numberOfPages', 'datePublished', 'price',\n",
       "       'publisher', 'editor', 'pages', 'pageEndMax', 'pageStartPosition'],\n",
       "      dtype='object')"
      ]
     },
     "execution_count": 15,
     "metadata": {},
     "output_type": "execute_result"
    }
   ],
   "source": [
    "df.columns"
   ]
  },
  {
   "cell_type": "markdown",
   "id": "1617c9de",
   "metadata": {},
   "source": [
    "- `mcname`: 雑誌名（**M**gazine **C**ollection **NAME**）\n",
    "- `miid`：雑誌巻号ID（**M**agazine **I**tem **ID**）\n",
    "- `miname`: 雑誌巻号名（**M**agazine **I**tem **NAME**）\n",
    "- `cid`: マンガ作品ID（**C**omic **ID**）\n",
    "- `cname`: マンガ作品名（**C**omic **NAME**）\n",
    "- `epname`: 各話タイトル（**EP**isode **NAME**）\n",
    "- `creator`: 作者名\n",
    "- `pageStart`: 開始ページ\n",
    "- `pageEnd`: 終了ページ\n",
    "- `numberOfPages`: 雑誌の合計ページ数\n",
    "- `datePublished`: 雑誌の発行日\n",
    "- `price`: 雑誌の価格\n",
    "- `publisher`: 雑誌の出版社\n",
    "- `editor`: 雑誌の編集者（編集長）\n",
    "- `pages`: 各話のページ数（`pageEnd` - `pageStart` + 1）\n",
    "- `pageEndMax`: 雑誌に掲載されているマンガ作品のうち，`pageEnd`の最大値\n",
    "- `pageStartPosition`: 各話の`pageStart`の相対的な位置（`pageStart` / `pageEndMax`）"
   ]
  },
  {
   "cell_type": "code",
   "execution_count": 16,
   "id": "1095370b",
   "metadata": {},
   "outputs": [
    {
     "data": {
      "text/html": [
       "<div>\n",
       "<style scoped>\n",
       "    .dataframe tbody tr th:only-of-type {\n",
       "        vertical-align: middle;\n",
       "    }\n",
       "\n",
       "    .dataframe tbody tr th {\n",
       "        vertical-align: top;\n",
       "    }\n",
       "\n",
       "    .dataframe thead th {\n",
       "        text-align: right;\n",
       "    }\n",
       "</style>\n",
       "<table border=\"1\" class=\"dataframe\">\n",
       "  <thead>\n",
       "    <tr style=\"text-align: right;\">\n",
       "      <th></th>\n",
       "      <th>mcname</th>\n",
       "      <th>miid</th>\n",
       "      <th>miname</th>\n",
       "      <th>cid</th>\n",
       "      <th>cname</th>\n",
       "      <th>epname</th>\n",
       "      <th>creator</th>\n",
       "      <th>pageStart</th>\n",
       "      <th>pageEnd</th>\n",
       "      <th>numberOfPages</th>\n",
       "      <th>datePublished</th>\n",
       "      <th>price</th>\n",
       "      <th>publisher</th>\n",
       "      <th>editor</th>\n",
       "      <th>pages</th>\n",
       "      <th>pageEndMax</th>\n",
       "      <th>pageStartPosition</th>\n",
       "    </tr>\n",
       "  </thead>\n",
       "  <tbody>\n",
       "    <tr>\n",
       "      <th>0</th>\n",
       "      <td>週刊少年ジャンプ</td>\n",
       "      <td>M616363</td>\n",
       "      <td>週刊少年ジャンプ 1970年 表示号数31</td>\n",
       "      <td>C88180</td>\n",
       "      <td>男一匹ガキ大将</td>\n",
       "      <td>土佐の源蔵の巻</td>\n",
       "      <td>本宮ひろ志</td>\n",
       "      <td>7.0</td>\n",
       "      <td>37.0</td>\n",
       "      <td>280.0</td>\n",
       "      <td>1970-07-27</td>\n",
       "      <td>80.0</td>\n",
       "      <td>集英社</td>\n",
       "      <td>長野規</td>\n",
       "      <td>31.0</td>\n",
       "      <td>275.0</td>\n",
       "      <td>0.025455</td>\n",
       "    </tr>\n",
       "    <tr>\n",
       "      <th>1</th>\n",
       "      <td>週刊少年チャンピオン</td>\n",
       "      <td>M558279</td>\n",
       "      <td>週刊少年チャンピオン 1970年 表示号数14</td>\n",
       "      <td>C94272</td>\n",
       "      <td>朝日の恋人</td>\n",
       "      <td>NaN</td>\n",
       "      <td>かざま鋭二</td>\n",
       "      <td>15.0</td>\n",
       "      <td>43.0</td>\n",
       "      <td>292.0</td>\n",
       "      <td>1970-07-27</td>\n",
       "      <td>80.0</td>\n",
       "      <td>秋田書店　∥　アキタショテン</td>\n",
       "      <td>成田清美</td>\n",
       "      <td>29.0</td>\n",
       "      <td>290.0</td>\n",
       "      <td>0.051724</td>\n",
       "    </tr>\n",
       "    <tr>\n",
       "      <th>2</th>\n",
       "      <td>週刊少年ジャンプ</td>\n",
       "      <td>M616363</td>\n",
       "      <td>週刊少年ジャンプ 1970年 表示号数31</td>\n",
       "      <td>C87448</td>\n",
       "      <td>ど根性ガエル</td>\n",
       "      <td>男はつらいよの巻</td>\n",
       "      <td>吉沢やすみ</td>\n",
       "      <td>39.0</td>\n",
       "      <td>53.0</td>\n",
       "      <td>280.0</td>\n",
       "      <td>1970-07-27</td>\n",
       "      <td>80.0</td>\n",
       "      <td>集英社</td>\n",
       "      <td>長野規</td>\n",
       "      <td>15.0</td>\n",
       "      <td>275.0</td>\n",
       "      <td>0.141818</td>\n",
       "    </tr>\n",
       "    <tr>\n",
       "      <th>3</th>\n",
       "      <td>週刊少年チャンピオン</td>\n",
       "      <td>M558279</td>\n",
       "      <td>週刊少年チャンピオン 1970年 表示号数14</td>\n",
       "      <td>C94289</td>\n",
       "      <td>あばしり一家</td>\n",
       "      <td>アバシリ吉三の美人地獄編</td>\n",
       "      <td>永井豪</td>\n",
       "      <td>48.0</td>\n",
       "      <td>66.0</td>\n",
       "      <td>292.0</td>\n",
       "      <td>1970-07-27</td>\n",
       "      <td>80.0</td>\n",
       "      <td>秋田書店　∥　アキタショテン</td>\n",
       "      <td>成田清美</td>\n",
       "      <td>19.0</td>\n",
       "      <td>290.0</td>\n",
       "      <td>0.165517</td>\n",
       "    </tr>\n",
       "    <tr>\n",
       "      <th>4</th>\n",
       "      <td>週刊少年ジャンプ</td>\n",
       "      <td>M616363</td>\n",
       "      <td>週刊少年ジャンプ 1970年 表示号数31</td>\n",
       "      <td>C88021</td>\n",
       "      <td>あらし!三匹</td>\n",
       "      <td>ミヒル登場の巻</td>\n",
       "      <td>池沢さとし</td>\n",
       "      <td>56.0</td>\n",
       "      <td>70.0</td>\n",
       "      <td>280.0</td>\n",
       "      <td>1970-07-27</td>\n",
       "      <td>80.0</td>\n",
       "      <td>集英社</td>\n",
       "      <td>長野規</td>\n",
       "      <td>15.0</td>\n",
       "      <td>275.0</td>\n",
       "      <td>0.203636</td>\n",
       "    </tr>\n",
       "  </tbody>\n",
       "</table>\n",
       "</div>"
      ],
      "text/plain": [
       "       mcname     miid                   miname     cid    cname  \\\n",
       "0    週刊少年ジャンプ  M616363    週刊少年ジャンプ 1970年 表示号数31  C88180  男一匹ガキ大将   \n",
       "1  週刊少年チャンピオン  M558279  週刊少年チャンピオン 1970年 表示号数14  C94272    朝日の恋人   \n",
       "2    週刊少年ジャンプ  M616363    週刊少年ジャンプ 1970年 表示号数31  C87448   ど根性ガエル   \n",
       "3  週刊少年チャンピオン  M558279  週刊少年チャンピオン 1970年 表示号数14  C94289   あばしり一家   \n",
       "4    週刊少年ジャンプ  M616363    週刊少年ジャンプ 1970年 表示号数31  C88021   あらし!三匹   \n",
       "\n",
       "         epname creator  pageStart  pageEnd  numberOfPages datePublished  \\\n",
       "0       土佐の源蔵の巻   本宮ひろ志        7.0     37.0          280.0    1970-07-27   \n",
       "1           NaN   かざま鋭二       15.0     43.0          292.0    1970-07-27   \n",
       "2      男はつらいよの巻   吉沢やすみ       39.0     53.0          280.0    1970-07-27   \n",
       "3  アバシリ吉三の美人地獄編     永井豪       48.0     66.0          292.0    1970-07-27   \n",
       "4       ミヒル登場の巻   池沢さとし       56.0     70.0          280.0    1970-07-27   \n",
       "\n",
       "   price       publisher editor  pages  pageEndMax  pageStartPosition  \n",
       "0   80.0             集英社    長野規   31.0       275.0           0.025455  \n",
       "1   80.0  秋田書店　∥　アキタショテン   成田清美   29.0       290.0           0.051724  \n",
       "2   80.0             集英社    長野規   15.0       275.0           0.141818  \n",
       "3   80.0  秋田書店　∥　アキタショテン   成田清美   19.0       290.0           0.165517  \n",
       "4   80.0             集英社    長野規   15.0       275.0           0.203636  "
      ]
     },
     "execution_count": 16,
     "metadata": {},
     "output_type": "execute_result"
    }
   ],
   "source": [
    "df.head()"
   ]
  },
  {
   "cell_type": "code",
   "execution_count": 17,
   "id": "5601cb80",
   "metadata": {},
   "outputs": [
    {
     "data": {
      "text/html": [
       "<div>\n",
       "<style scoped>\n",
       "    .dataframe tbody tr th:only-of-type {\n",
       "        vertical-align: middle;\n",
       "    }\n",
       "\n",
       "    .dataframe tbody tr th {\n",
       "        vertical-align: top;\n",
       "    }\n",
       "\n",
       "    .dataframe thead th {\n",
       "        text-align: right;\n",
       "    }\n",
       "</style>\n",
       "<table border=\"1\" class=\"dataframe\">\n",
       "  <thead>\n",
       "    <tr style=\"text-align: right;\">\n",
       "      <th></th>\n",
       "      <th>pageStart</th>\n",
       "      <th>pageEnd</th>\n",
       "      <th>numberOfPages</th>\n",
       "      <th>price</th>\n",
       "      <th>pages</th>\n",
       "      <th>pageEndMax</th>\n",
       "      <th>pageStartPosition</th>\n",
       "    </tr>\n",
       "  </thead>\n",
       "  <tbody>\n",
       "    <tr>\n",
       "      <th>count</th>\n",
       "      <td>179931.000000</td>\n",
       "      <td>179931.000000</td>\n",
       "      <td>179624.000000</td>\n",
       "      <td>179893.000000</td>\n",
       "      <td>179931.000000</td>\n",
       "      <td>179931.000000</td>\n",
       "      <td>179931.000000</td>\n",
       "    </tr>\n",
       "    <tr>\n",
       "      <th>mean</th>\n",
       "      <td>210.845105</td>\n",
       "      <td>228.371240</td>\n",
       "      <td>417.376325</td>\n",
       "      <td>203.871740</td>\n",
       "      <td>18.526135</td>\n",
       "      <td>408.249379</td>\n",
       "      <td>0.514837</td>\n",
       "    </tr>\n",
       "    <tr>\n",
       "      <th>std</th>\n",
       "      <td>123.860878</td>\n",
       "      <td>122.038708</td>\n",
       "      <td>67.418723</td>\n",
       "      <td>41.955489</td>\n",
       "      <td>7.712730</td>\n",
       "      <td>69.804101</td>\n",
       "      <td>0.283146</td>\n",
       "    </tr>\n",
       "    <tr>\n",
       "      <th>min</th>\n",
       "      <td>1.000000</td>\n",
       "      <td>1.000000</td>\n",
       "      <td>36.000000</td>\n",
       "      <td>80.000000</td>\n",
       "      <td>1.000000</td>\n",
       "      <td>200.000000</td>\n",
       "      <td>0.002045</td>\n",
       "    </tr>\n",
       "    <tr>\n",
       "      <th>25%</th>\n",
       "      <td>107.000000</td>\n",
       "      <td>126.000000</td>\n",
       "      <td>356.000000</td>\n",
       "      <td>180.000000</td>\n",
       "      <td>17.000000</td>\n",
       "      <td>346.000000</td>\n",
       "      <td>0.274840</td>\n",
       "    </tr>\n",
       "    <tr>\n",
       "      <th>50%</th>\n",
       "      <td>205.000000</td>\n",
       "      <td>222.000000</td>\n",
       "      <td>437.000000</td>\n",
       "      <td>210.000000</td>\n",
       "      <td>19.000000</td>\n",
       "      <td>433.000000</td>\n",
       "      <td>0.520588</td>\n",
       "    </tr>\n",
       "    <tr>\n",
       "      <th>75%</th>\n",
       "      <td>305.000000</td>\n",
       "      <td>322.000000</td>\n",
       "      <td>464.000000</td>\n",
       "      <td>236.000000</td>\n",
       "      <td>20.000000</td>\n",
       "      <td>457.000000</td>\n",
       "      <td>0.759626</td>\n",
       "    </tr>\n",
       "    <tr>\n",
       "      <th>max</th>\n",
       "      <td>581.000000</td>\n",
       "      <td>600.000000</td>\n",
       "      <td>600.000000</td>\n",
       "      <td>371.000000</td>\n",
       "      <td>487.000000</td>\n",
       "      <td>600.000000</td>\n",
       "      <td>1.000000</td>\n",
       "    </tr>\n",
       "  </tbody>\n",
       "</table>\n",
       "</div>"
      ],
      "text/plain": [
       "           pageStart        pageEnd  numberOfPages          price  \\\n",
       "count  179931.000000  179931.000000  179624.000000  179893.000000   \n",
       "mean      210.845105     228.371240     417.376325     203.871740   \n",
       "std       123.860878     122.038708      67.418723      41.955489   \n",
       "min         1.000000       1.000000      36.000000      80.000000   \n",
       "25%       107.000000     126.000000     356.000000     180.000000   \n",
       "50%       205.000000     222.000000     437.000000     210.000000   \n",
       "75%       305.000000     322.000000     464.000000     236.000000   \n",
       "max       581.000000     600.000000     600.000000     371.000000   \n",
       "\n",
       "               pages     pageEndMax  pageStartPosition  \n",
       "count  179931.000000  179931.000000      179931.000000  \n",
       "mean       18.526135     408.249379           0.514837  \n",
       "std         7.712730      69.804101           0.283146  \n",
       "min         1.000000     200.000000           0.002045  \n",
       "25%        17.000000     346.000000           0.274840  \n",
       "50%        19.000000     433.000000           0.520588  \n",
       "75%        20.000000     457.000000           0.759626  \n",
       "max       487.000000     600.000000           1.000000  "
      ]
     },
     "execution_count": 17,
     "metadata": {},
     "output_type": "execute_result"
    }
   ],
   "source": [
    "df.describe()"
   ]
  },
  {
   "cell_type": "markdown",
   "id": "fecac2e1",
   "metadata": {},
   "source": [
    "欠損値を確認してみます。\n",
    "\n",
    "特に`epname`と`publisher`の欠測が多いことがわかります．"
   ]
  },
  {
   "cell_type": "code",
   "execution_count": 18,
   "id": "4e058698",
   "metadata": {},
   "outputs": [
    {
     "data": {
      "text/html": [
       "<div>\n",
       "<style scoped>\n",
       "    .dataframe tbody tr th:only-of-type {\n",
       "        vertical-align: middle;\n",
       "    }\n",
       "\n",
       "    .dataframe tbody tr th {\n",
       "        vertical-align: top;\n",
       "    }\n",
       "\n",
       "    .dataframe thead th {\n",
       "        text-align: right;\n",
       "    }\n",
       "</style>\n",
       "<table border=\"1\" class=\"dataframe\">\n",
       "  <thead>\n",
       "    <tr style=\"text-align: right;\">\n",
       "      <th></th>\n",
       "      <th>index</th>\n",
       "      <th>0</th>\n",
       "    </tr>\n",
       "  </thead>\n",
       "  <tbody>\n",
       "    <tr>\n",
       "      <th>0</th>\n",
       "      <td>mcname</td>\n",
       "      <td>0</td>\n",
       "    </tr>\n",
       "    <tr>\n",
       "      <th>1</th>\n",
       "      <td>miid</td>\n",
       "      <td>0</td>\n",
       "    </tr>\n",
       "    <tr>\n",
       "      <th>2</th>\n",
       "      <td>miname</td>\n",
       "      <td>0</td>\n",
       "    </tr>\n",
       "    <tr>\n",
       "      <th>3</th>\n",
       "      <td>cid</td>\n",
       "      <td>9</td>\n",
       "    </tr>\n",
       "    <tr>\n",
       "      <th>4</th>\n",
       "      <td>cname</td>\n",
       "      <td>9</td>\n",
       "    </tr>\n",
       "    <tr>\n",
       "      <th>5</th>\n",
       "      <td>epname</td>\n",
       "      <td>26807</td>\n",
       "    </tr>\n",
       "    <tr>\n",
       "      <th>6</th>\n",
       "      <td>creator</td>\n",
       "      <td>441</td>\n",
       "    </tr>\n",
       "    <tr>\n",
       "      <th>7</th>\n",
       "      <td>pageStart</td>\n",
       "      <td>0</td>\n",
       "    </tr>\n",
       "    <tr>\n",
       "      <th>8</th>\n",
       "      <td>pageEnd</td>\n",
       "      <td>0</td>\n",
       "    </tr>\n",
       "    <tr>\n",
       "      <th>9</th>\n",
       "      <td>numberOfPages</td>\n",
       "      <td>307</td>\n",
       "    </tr>\n",
       "    <tr>\n",
       "      <th>10</th>\n",
       "      <td>datePublished</td>\n",
       "      <td>0</td>\n",
       "    </tr>\n",
       "    <tr>\n",
       "      <th>11</th>\n",
       "      <td>price</td>\n",
       "      <td>38</td>\n",
       "    </tr>\n",
       "    <tr>\n",
       "      <th>12</th>\n",
       "      <td>publisher</td>\n",
       "      <td>24658</td>\n",
       "    </tr>\n",
       "    <tr>\n",
       "      <th>13</th>\n",
       "      <td>editor</td>\n",
       "      <td>2092</td>\n",
       "    </tr>\n",
       "    <tr>\n",
       "      <th>14</th>\n",
       "      <td>pages</td>\n",
       "      <td>0</td>\n",
       "    </tr>\n",
       "    <tr>\n",
       "      <th>15</th>\n",
       "      <td>pageEndMax</td>\n",
       "      <td>0</td>\n",
       "    </tr>\n",
       "    <tr>\n",
       "      <th>16</th>\n",
       "      <td>pageStartPosition</td>\n",
       "      <td>0</td>\n",
       "    </tr>\n",
       "  </tbody>\n",
       "</table>\n",
       "</div>"
      ],
      "text/plain": [
       "                index      0\n",
       "0              mcname      0\n",
       "1                miid      0\n",
       "2              miname      0\n",
       "3                 cid      9\n",
       "4               cname      9\n",
       "5              epname  26807\n",
       "6             creator    441\n",
       "7           pageStart      0\n",
       "8             pageEnd      0\n",
       "9       numberOfPages    307\n",
       "10      datePublished      0\n",
       "11              price     38\n",
       "12          publisher  24658\n",
       "13             editor   2092\n",
       "14              pages      0\n",
       "15         pageEndMax      0\n",
       "16  pageStartPosition      0"
      ]
     },
     "execution_count": 18,
     "metadata": {},
     "output_type": "execute_result"
    }
   ],
   "source": [
    "df.isna().sum().reset_index()"
   ]
  },
  {
   "cell_type": "markdown",
   "id": "c97742bc",
   "metadata": {},
   "source": [
    "## デザインガイド\n",
    "\n",
    "* 図の構成要素\n",
    "    * 全体のサイズ：650〜900px\n",
    "    * 図番号：つけない\n",
    "    * タイトル：上部につける\n",
    "    * サブタイトル：タイトル下部につける\n",
    "    * 軸タイトル：つける\n",
    "    * 軸ラベル：つける\n",
    "    * 軸と目盛り：つける\n",
    "    * グリッド線：横方向のみつける\n",
    "    * データソース・注記：下部につける\n",
    "    * ロゴ：つけない\n",
    "    * 凡例：必要に応じてつける\n",
    "    * ラベル：必要に応じてつける\n",
    "* 色\n",
    "    * データに基づいてカラースケールを決める\n",
    "    * CVDセーフな配色を使う\n",
    "* 書体\n",
    "    * キャプション：源ノ角ゴシック\n",
    "    * ラベル：Input Mono Condensed\n",
    "* 保存形式：PDF\n",
    "* アクセシビリティ：\n",
    "    * 文字を大きくする\n",
    "    * 行間を開ける\n",
    "    * CVDセーフな配色を使う"
   ]
  },
  {
   "cell_type": "code",
   "execution_count": 81,
   "id": "a7f3de70",
   "metadata": {},
   "outputs": [],
   "source": [
    "ud_colors = [\"#e69f00\", \"#56b4e9\", \"#009e73\", \"#f0e442\", \"#0072b2\", \"#d55e00\", \"#cc79a7\"]"
   ]
  },
  {
   "cell_type": "markdown",
   "id": "966be9c4",
   "metadata": {},
   "source": [
    "## （例）Altairで再現1：作品別・年代別の掲載週数（上位20作品）"
   ]
  },
  {
   "cell_type": "code",
   "execution_count": 113,
   "id": "fc175663",
   "metadata": {},
   "outputs": [],
   "source": [
    "# dfに10年区切りの年代情報を追加\n",
    "df = add_years_to_df(df)"
   ]
  },
  {
   "cell_type": "code",
   "execution_count": 114,
   "id": "822cc3c3",
   "metadata": {},
   "outputs": [],
   "source": [
    "# プロット用に集計\n",
    "df_plot = df.groupby('cname')['years'].value_counts().\\\n",
    "    reset_index(name='weeks')\n",
    "# 連載週数上位10作品を抽出\n",
    "cnames = list(df.value_counts('cname').head(20).index)\n",
    "df_plot = df_plot[df_plot['cname'].isin(cnames)].\\\n",
    "    reset_index(drop=True)\n",
    "# cname，yearsでアップサンプリング\n",
    "df_plot = resample_df_by_cname_and_years(df_plot)"
   ]
  },
  {
   "cell_type": "code",
   "execution_count": 115,
   "id": "ea540365",
   "metadata": {},
   "outputs": [],
   "source": [
    "# 合計連載週数で降順ソート\n",
    "df_plot['order'] = df_plot['cname'].apply(\n",
    "    lambda x: cnames.index(x))\n",
    "df_plot = df_plot.sort_values(\n",
    "    ['order', 'years'], ignore_index=True)"
   ]
  },
  {
   "cell_type": "code",
   "execution_count": null,
   "id": "46d91891",
   "metadata": {},
   "outputs": [],
   "source": [
    "chart = alt.Chart(df_plot).mark_bar().encode(\n",
    "    alt.X(\"cname:N\", sort=\"-y\", title=\"作品名\", axis=alt.Axis(grid=False, labelPadding=10, labelLimit=200)),\n",
    "    alt.Y(\"weeks:Q\", title=\"掲載週数\", axis=alt.Axis(grid=True, titleX=-50, labelFont=\"Input Mono Condensed\")),\n",
    "    alt.XOffset(\"years:N\"),\n",
    "    alt.Color(\"years:N\", title=\"年代\", scale=alt.Scale(range=ud_colors)),\n",
    "    alt.Tooltip([\"weeks\"])\n",
    ").properties(\n",
    "    title=\"作品別・年代別の掲載週数（上位20作品）\",\n",
    "    width=900\n",
    ").configure_axis(\n",
    "    labelFont=\"Source Han Sans\",\n",
    "    labelFontSize=14,\n",
    "    titleFont=\"Source Han Sans\",\n",
    "    titleFontSize=16\n",
    ").configure_title(\n",
    "    font=\"Source Han Sans\",\n",
    "    fontSize=18\n",
    ").configure_legend(\n",
    "    labelFont=\"Input Mono Condensed\",\n",
    "    labelFontSize=14,\n",
    "    titleFont=\"Source Han Sans\",\n",
    "    titleFontSize=16\n",
    ")\n",
    "\n",
    "chart.save(\"./figs/weeks_by_cname_and_years.pdf\")\n",
    "chart.save(\"./figs/weeks_by_cname_and_years.png\", scale_factor=1.0)"
   ]
  },
  {
   "cell_type": "code",
   "execution_count": 118,
   "id": "e37cf604",
   "metadata": {},
   "outputs": [
    {
     "data": {
      "text/html": [
       "\n",
       "<style>\n",
       "  #altair-viz-8ab3fbbdfd0d439681d828156f528549.vega-embed {\n",
       "    width: 100%;\n",
       "    display: flex;\n",
       "  }\n",
       "\n",
       "  #altair-viz-8ab3fbbdfd0d439681d828156f528549.vega-embed details,\n",
       "  #altair-viz-8ab3fbbdfd0d439681d828156f528549.vega-embed details summary {\n",
       "    position: relative;\n",
       "  }\n",
       "</style>\n",
       "<div id=\"altair-viz-8ab3fbbdfd0d439681d828156f528549\"></div>\n",
       "<script type=\"text/javascript\">\n",
       "  var VEGA_DEBUG = (typeof VEGA_DEBUG == \"undefined\") ? {} : VEGA_DEBUG;\n",
       "  (function(spec, embedOpt){\n",
       "    let outputDiv = document.currentScript.previousElementSibling;\n",
       "    if (outputDiv.id !== \"altair-viz-8ab3fbbdfd0d439681d828156f528549\") {\n",
       "      outputDiv = document.getElementById(\"altair-viz-8ab3fbbdfd0d439681d828156f528549\");\n",
       "    }\n",
       "    const paths = {\n",
       "      \"vega\": \"https://cdn.jsdelivr.net/npm/vega@5?noext\",\n",
       "      \"vega-lib\": \"https://cdn.jsdelivr.net/npm/vega-lib?noext\",\n",
       "      \"vega-lite\": \"https://cdn.jsdelivr.net/npm/vega-lite@5.20.1?noext\",\n",
       "      \"vega-embed\": \"https://cdn.jsdelivr.net/npm/vega-embed@6?noext\",\n",
       "    };\n",
       "\n",
       "    function maybeLoadScript(lib, version) {\n",
       "      var key = `${lib.replace(\"-\", \"\")}_version`;\n",
       "      return (VEGA_DEBUG[key] == version) ?\n",
       "        Promise.resolve(paths[lib]) :\n",
       "        new Promise(function(resolve, reject) {\n",
       "          var s = document.createElement('script');\n",
       "          document.getElementsByTagName(\"head\")[0].appendChild(s);\n",
       "          s.async = true;\n",
       "          s.onload = () => {\n",
       "            VEGA_DEBUG[key] = version;\n",
       "            return resolve(paths[lib]);\n",
       "          };\n",
       "          s.onerror = () => reject(`Error loading script: ${paths[lib]}`);\n",
       "          s.src = paths[lib];\n",
       "        });\n",
       "    }\n",
       "\n",
       "    function showError(err) {\n",
       "      outputDiv.innerHTML = `<div class=\"error\" style=\"color:red;\">${err}</div>`;\n",
       "      throw err;\n",
       "    }\n",
       "\n",
       "    function displayChart(vegaEmbed) {\n",
       "      vegaEmbed(outputDiv, spec, embedOpt)\n",
       "        .catch(err => showError(`Javascript Error: ${err.message}<br>This usually means there's a typo in your chart specification. See the javascript console for the full traceback.`));\n",
       "    }\n",
       "\n",
       "    if(typeof define === \"function\" && define.amd) {\n",
       "      requirejs.config({paths});\n",
       "      require([\"vega-embed\"], displayChart, err => showError(`Error loading script: ${err.message}`));\n",
       "    } else {\n",
       "      maybeLoadScript(\"vega\", \"5\")\n",
       "        .then(() => maybeLoadScript(\"vega-lite\", \"5.20.1\"))\n",
       "        .then(() => maybeLoadScript(\"vega-embed\", \"6\"))\n",
       "        .catch(showError)\n",
       "        .then(() => displayChart(vegaEmbed));\n",
       "    }\n",
       "  })({\"config\": {\"view\": {\"continuousWidth\": 300, \"continuousHeight\": 300}, \"axis\": {\"labelFont\": \"Source Han Sans\", \"labelFontSize\": 14, \"titleFont\": \"Source Han Sans\", \"titleFontSize\": 16}, \"legend\": {\"labelFont\": \"Input Mono Condensed\", \"labelFontSize\": 14, \"titleFont\": \"Source Han Sans\", \"titleFontSize\": 16}, \"title\": {\"font\": \"Source Han Sans\", \"fontSize\": 18}}, \"data\": {\"name\": \"data-bc0d0a4e7dedced6c39c69afcd127b9d\"}, \"mark\": {\"type\": \"bar\"}, \"encoding\": {\"color\": {\"field\": \"years\", \"scale\": {\"range\": [\"#e69f00\", \"#56b4e9\", \"#009e73\", \"#f0e442\", \"#0072b2\", \"#d55e00\", \"#cc79a7\"]}, \"title\": \"\\u5e74\\u4ee3\", \"type\": \"nominal\"}, \"tooltip\": [{\"field\": \"weeks\", \"type\": \"quantitative\"}], \"x\": {\"axis\": {\"grid\": false, \"labelLimit\": 200, \"labelPadding\": 10}, \"field\": \"cname\", \"sort\": \"-y\", \"title\": \"\\u4f5c\\u54c1\\u540d\", \"type\": \"nominal\"}, \"xOffset\": {\"field\": \"years\", \"type\": \"nominal\"}, \"y\": {\"axis\": {\"grid\": true, \"labelFont\": \"Input Mono Condensed\", \"titleX\": -50}, \"field\": \"weeks\", \"title\": \"\\u63b2\\u8f09\\u9031\\u6570\", \"type\": \"quantitative\"}}, \"title\": \"\\u4f5c\\u54c1\\u5225\\u30fb\\u5e74\\u4ee3\\u5225\\u306e\\u63b2\\u8f09\\u9031\\u6570\\uff08\\u4e0a\\u4f4d20\\u4f5c\\u54c1\\uff09\", \"width\": 900, \"$schema\": \"https://vega.github.io/schema/vega-lite/v5.20.1.json\", \"datasets\": {\"data-bc0d0a4e7dedced6c39c69afcd127b9d\": [{\"cname\": \"\\u3053\\u3061\\u3089\\u845b\\u98fe\\u533a\\u4e80\\u6709\\u516c\\u5712\\u524d\\u6d3e\\u51fa\\u6240\", \"years\": \"1970\", \"weeks\": 160, \"order\": 0}, {\"cname\": \"\\u3053\\u3061\\u3089\\u845b\\u98fe\\u533a\\u4e80\\u6709\\u516c\\u5712\\u524d\\u6d3e\\u51fa\\u6240\", \"years\": \"1980\", \"weeks\": 501, \"order\": 0}, {\"cname\": \"\\u3053\\u3061\\u3089\\u845b\\u98fe\\u533a\\u4e80\\u6709\\u516c\\u5712\\u524d\\u6d3e\\u51fa\\u6240\", \"years\": \"1990\", \"weeks\": 482, \"order\": 0}, {\"cname\": \"\\u3053\\u3061\\u3089\\u845b\\u98fe\\u533a\\u4e80\\u6709\\u516c\\u5712\\u524d\\u6d3e\\u51fa\\u6240\", \"years\": \"2000\", \"weeks\": 492, \"order\": 0}, {\"cname\": \"\\u3053\\u3061\\u3089\\u845b\\u98fe\\u533a\\u4e80\\u6709\\u516c\\u5712\\u524d\\u6d3e\\u51fa\\u6240\", \"years\": \"2010\", \"weeks\": 333, \"order\": 0}, {\"cname\": \"\\u306f\\u3058\\u3081\\u306e\\u4e00\\u6b69\", \"years\": \"1970\", \"weeks\": 0, \"order\": 1}, {\"cname\": \"\\u306f\\u3058\\u3081\\u306e\\u4e00\\u6b69\", \"years\": \"1970\", \"weeks\": 0, \"order\": 1}, {\"cname\": \"\\u306f\\u3058\\u3081\\u306e\\u4e00\\u6b69\", \"years\": \"1970\", \"weeks\": 0, \"order\": 1}, {\"cname\": \"\\u306f\\u3058\\u3081\\u306e\\u4e00\\u6b69\", \"years\": \"1980\", \"weeks\": 10, \"order\": 1}, {\"cname\": \"\\u306f\\u3058\\u3081\\u306e\\u4e00\\u6b69\", \"years\": \"1990\", \"weeks\": 451, \"order\": 1}, {\"cname\": \"\\u306f\\u3058\\u3081\\u306e\\u4e00\\u6b69\", \"years\": \"2000\", \"weeks\": 414, \"order\": 1}, {\"cname\": \"\\u306f\\u3058\\u3081\\u306e\\u4e00\\u6b69\", \"years\": \"2010\", \"weeks\": 309, \"order\": 1}, {\"cname\": \"\\u540d\\u63a2\\u5075\\u30b3\\u30ca\\u30f3\", \"years\": \"1970\", \"weeks\": 0, \"order\": 2}, {\"cname\": \"\\u540d\\u63a2\\u5075\\u30b3\\u30ca\\u30f3\", \"years\": \"1970\", \"weeks\": 0, \"order\": 2}, {\"cname\": \"\\u540d\\u63a2\\u5075\\u30b3\\u30ca\\u30f3\", \"years\": \"1970\", \"weeks\": 0, \"order\": 2}, {\"cname\": \"\\u540d\\u63a2\\u5075\\u30b3\\u30ca\\u30f3\", \"years\": \"1980\", \"weeks\": 0, \"order\": 2}, {\"cname\": \"\\u540d\\u63a2\\u5075\\u30b3\\u30ca\\u30f3\", \"years\": \"1980\", \"weeks\": 0, \"order\": 2}, {\"cname\": \"\\u540d\\u63a2\\u5075\\u30b3\\u30ca\\u30f3\", \"years\": \"1980\", \"weeks\": 0, \"order\": 2}, {\"cname\": \"\\u540d\\u63a2\\u5075\\u30b3\\u30ca\\u30f3\", \"years\": \"1990\", \"weeks\": 279, \"order\": 2}, {\"cname\": \"\\u540d\\u63a2\\u5075\\u30b3\\u30ca\\u30f3\", \"years\": \"2000\", \"weeks\": 441, \"order\": 2}, {\"cname\": \"\\u540d\\u63a2\\u5075\\u30b3\\u30ca\\u30f3\", \"years\": \"2010\", \"weeks\": 289, \"order\": 2}, {\"cname\": \"ONE PIECE\", \"years\": \"1970\", \"weeks\": 0, \"order\": 3}, {\"cname\": \"ONE PIECE\", \"years\": \"1970\", \"weeks\": 0, \"order\": 3}, {\"cname\": \"ONE PIECE\", \"years\": \"1970\", \"weeks\": 0, \"order\": 3}, {\"cname\": \"ONE PIECE\", \"years\": \"1980\", \"weeks\": 0, \"order\": 3}, {\"cname\": \"ONE PIECE\", \"years\": \"1980\", \"weeks\": 0, \"order\": 3}, {\"cname\": \"ONE PIECE\", \"years\": \"1980\", \"weeks\": 0, \"order\": 3}, {\"cname\": \"ONE PIECE\", \"years\": \"1990\", \"weeks\": 114, \"order\": 3}, {\"cname\": \"ONE PIECE\", \"years\": \"2000\", \"weeks\": 463, \"order\": 3}, {\"cname\": \"ONE PIECE\", \"years\": \"2010\", \"weeks\": 313, \"order\": 3}, {\"cname\": \"MAJOR\", \"years\": \"1970\", \"weeks\": 0, \"order\": 4}, {\"cname\": \"MAJOR\", \"years\": \"1970\", \"weeks\": 0, \"order\": 4}, {\"cname\": \"MAJOR\", \"years\": \"1970\", \"weeks\": 0, \"order\": 4}, {\"cname\": \"MAJOR\", \"years\": \"1980\", \"weeks\": 0, \"order\": 4}, {\"cname\": \"MAJOR\", \"years\": \"1980\", \"weeks\": 0, \"order\": 4}, {\"cname\": \"MAJOR\", \"years\": \"1980\", \"weeks\": 0, \"order\": 4}, {\"cname\": \"MAJOR\", \"years\": \"1990\", \"weeks\": 257, \"order\": 4}, {\"cname\": \"MAJOR\", \"years\": \"2000\", \"weeks\": 463, \"order\": 4}, {\"cname\": \"MAJOR\", \"years\": \"2010\", \"weeks\": 28, \"order\": 4}, {\"cname\": \"NARUTO-\\u30ca\\u30eb\\u30c8-\", \"years\": \"1970\", \"weeks\": 0, \"order\": 5}, {\"cname\": \"NARUTO-\\u30ca\\u30eb\\u30c8-\", \"years\": \"1970\", \"weeks\": 0, \"order\": 5}, {\"cname\": \"NARUTO-\\u30ca\\u30eb\\u30c8-\", \"years\": \"1970\", \"weeks\": 0, \"order\": 5}, {\"cname\": \"NARUTO-\\u30ca\\u30eb\\u30c8-\", \"years\": \"1980\", \"weeks\": 0, \"order\": 5}, {\"cname\": \"NARUTO-\\u30ca\\u30eb\\u30c8-\", \"years\": \"1980\", \"weeks\": 0, \"order\": 5}, {\"cname\": \"NARUTO-\\u30ca\\u30eb\\u30c8-\", \"years\": \"1980\", \"weeks\": 0, \"order\": 5}, {\"cname\": \"NARUTO-\\u30ca\\u30eb\\u30c8-\", \"years\": \"1990\", \"weeks\": 10, \"order\": 5}, {\"cname\": \"NARUTO-\\u30ca\\u30eb\\u30c8-\", \"years\": \"2000\", \"weeks\": 469, \"order\": 5}, {\"cname\": \"NARUTO-\\u30ca\\u30eb\\u30c8-\", \"years\": \"2010\", \"weeks\": 243, \"order\": 5}, {\"cname\": \"BLEACH\", \"years\": \"1970\", \"weeks\": 0, \"order\": 6}, {\"cname\": \"BLEACH\", \"years\": \"1970\", \"weeks\": 0, \"order\": 6}, {\"cname\": \"BLEACH\", \"years\": \"1970\", \"weeks\": 0, \"order\": 6}, {\"cname\": \"BLEACH\", \"years\": \"1980\", \"weeks\": 0, \"order\": 6}, {\"cname\": \"BLEACH\", \"years\": \"1980\", \"weeks\": 0, \"order\": 6}, {\"cname\": \"BLEACH\", \"years\": \"1980\", \"weeks\": 0, \"order\": 6}, {\"cname\": \"BLEACH\", \"years\": \"1990\", \"weeks\": 0, \"order\": 6}, {\"cname\": \"BLEACH\", \"years\": \"1990\", \"weeks\": 0, \"order\": 6}, {\"cname\": \"BLEACH\", \"years\": \"1990\", \"weeks\": 0, \"order\": 6}, {\"cname\": \"BLEACH\", \"years\": \"2000\", \"weeks\": 406, \"order\": 6}, {\"cname\": \"BLEACH\", \"years\": \"2010\", \"weeks\": 309, \"order\": 6}, {\"cname\": \"\\u9280\\u9b42\", \"years\": \"1970\", \"weeks\": 0, \"order\": 7}, {\"cname\": \"\\u9280\\u9b42\", \"years\": \"1970\", \"weeks\": 0, \"order\": 7}, {\"cname\": \"\\u9280\\u9b42\", \"years\": \"1970\", \"weeks\": 0, \"order\": 7}, {\"cname\": \"\\u9280\\u9b42\", \"years\": \"1980\", \"weeks\": 0, \"order\": 7}, {\"cname\": \"\\u9280\\u9b42\", \"years\": \"1980\", \"weeks\": 0, \"order\": 7}, {\"cname\": \"\\u9280\\u9b42\", \"years\": \"1980\", \"weeks\": 0, \"order\": 7}, {\"cname\": \"\\u9280\\u9b42\", \"years\": \"1990\", \"weeks\": 0, \"order\": 7}, {\"cname\": \"\\u9280\\u9b42\", \"years\": \"1990\", \"weeks\": 0, \"order\": 7}, {\"cname\": \"\\u9280\\u9b42\", \"years\": \"1990\", \"weeks\": 0, \"order\": 7}, {\"cname\": \"\\u9280\\u9b42\", \"years\": \"2000\", \"weeks\": 294, \"order\": 7}, {\"cname\": \"\\u9280\\u9b42\", \"years\": \"2010\", \"weeks\": 358, \"order\": 7}, {\"cname\": \"\\u30c9\\u30ab\\u30d9\\u30f3\", \"years\": \"1970\", \"weeks\": 380, \"order\": 8}, {\"cname\": \"\\u30c9\\u30ab\\u30d9\\u30f3\", \"years\": \"1980\", \"weeks\": 65, \"order\": 8}, {\"cname\": \"\\u30c9\\u30ab\\u30d9\\u30f3\", \"years\": \"1990\", \"weeks\": 187, \"order\": 8}, {\"cname\": \"\\u30c9\\u30ab\\u30d9\\u30f3\", \"years\": \"2000\", \"weeks\": 2, \"order\": 8}, {\"cname\": \"\\u30c9\\u30ab\\u30d9\\u30f3\", \"years\": \"2010\", \"weeks\": 1, \"order\": 8}, {\"cname\": \"\\u30b8\\u30e7\\u30b8\\u30e7\\u306e\\u5947\\u5999\\u306a\\u5192\\u967a\", \"years\": \"1970\", \"weeks\": 0, \"order\": 9}, {\"cname\": \"\\u30b8\\u30e7\\u30b8\\u30e7\\u306e\\u5947\\u5999\\u306a\\u5192\\u967a\", \"years\": \"1970\", \"weeks\": 0, \"order\": 9}, {\"cname\": \"\\u30b8\\u30e7\\u30b8\\u30e7\\u306e\\u5947\\u5999\\u306a\\u5192\\u967a\", \"years\": \"1970\", \"weeks\": 0, \"order\": 9}, {\"cname\": \"\\u30b8\\u30e7\\u30b8\\u30e7\\u306e\\u5947\\u5999\\u306a\\u5192\\u967a\", \"years\": \"1980\", \"weeks\": 150, \"order\": 9}, {\"cname\": \"\\u30b8\\u30e7\\u30b8\\u30e7\\u306e\\u5947\\u5999\\u306a\\u5192\\u967a\", \"years\": \"1990\", \"weeks\": 441, \"order\": 9}, {\"cname\": \"\\u30b8\\u30e7\\u30b8\\u30e7\\u306e\\u5947\\u5999\\u306a\\u5192\\u967a\", \"years\": \"2000\", \"weeks\": 3, \"order\": 9}, {\"cname\": \"\\u30b8\\u30e7\\u30b8\\u30e7\\u306e\\u5947\\u5999\\u306a\\u5192\\u967a\", \"years\": \"2010\", \"weeks\": 0, \"order\": 9}, {\"cname\": \"\\u30b8\\u30e7\\u30b8\\u30e7\\u306e\\u5947\\u5999\\u306a\\u5192\\u967a\", \"years\": \"2010\", \"weeks\": 0, \"order\": 9}, {\"cname\": \"\\u30b8\\u30e7\\u30b8\\u30e7\\u306e\\u5947\\u5999\\u306a\\u5192\\u967a\", \"years\": \"2010\", \"weeks\": 0, \"order\": 9}, {\"cname\": \"\\u30c0\\u30e1\\u304a\\u3084\\u3058\", \"years\": \"1970\", \"weeks\": 460, \"order\": 10}, {\"cname\": \"\\u30c0\\u30e1\\u304a\\u3084\\u3058\", \"years\": \"1980\", \"weeks\": 125, \"order\": 10}, {\"cname\": \"\\u30c0\\u30e1\\u304a\\u3084\\u3058\", \"years\": \"1990\", \"weeks\": 0, \"order\": 10}, {\"cname\": \"\\u30c0\\u30e1\\u304a\\u3084\\u3058\", \"years\": \"1990\", \"weeks\": 0, \"order\": 10}, {\"cname\": \"\\u30c0\\u30e1\\u304a\\u3084\\u3058\", \"years\": \"1990\", \"weeks\": 0, \"order\": 10}, {\"cname\": \"\\u30c0\\u30e1\\u304a\\u3084\\u3058\", \"years\": \"2000\", \"weeks\": 0, \"order\": 10}, {\"cname\": \"\\u30c0\\u30e1\\u304a\\u3084\\u3058\", \"years\": \"2000\", \"weeks\": 0, \"order\": 10}, {\"cname\": \"\\u30c0\\u30e1\\u304a\\u3084\\u3058\", \"years\": \"2000\", \"weeks\": 0, \"order\": 10}, {\"cname\": \"\\u30c0\\u30e1\\u304a\\u3084\\u3058\", \"years\": \"2010\", \"weeks\": 0, \"order\": 10}, {\"cname\": \"\\u30c0\\u30e1\\u304a\\u3084\\u3058\", \"years\": \"2010\", \"weeks\": 0, \"order\": 10}, {\"cname\": \"\\u30c0\\u30e1\\u304a\\u3084\\u3058\", \"years\": \"2010\", \"weeks\": 0, \"order\": 10}, {\"cname\": \"\\u53f2\\u4e0a\\u6700\\u5f37\\u306e\\u5f1f\\u5b50\\u30b1\\u30f3\\u30a4\\u30c1\", \"years\": \"1970\", \"weeks\": 0, \"order\": 11}, {\"cname\": \"\\u53f2\\u4e0a\\u6700\\u5f37\\u306e\\u5f1f\\u5b50\\u30b1\\u30f3\\u30a4\\u30c1\", \"years\": \"1970\", \"weeks\": 0, \"order\": 11}, {\"cname\": \"\\u53f2\\u4e0a\\u6700\\u5f37\\u306e\\u5f1f\\u5b50\\u30b1\\u30f3\\u30a4\\u30c1\", \"years\": \"1970\", \"weeks\": 0, \"order\": 11}, {\"cname\": \"\\u53f2\\u4e0a\\u6700\\u5f37\\u306e\\u5f1f\\u5b50\\u30b1\\u30f3\\u30a4\\u30c1\", \"years\": \"1980\", \"weeks\": 0, \"order\": 11}, {\"cname\": \"\\u53f2\\u4e0a\\u6700\\u5f37\\u306e\\u5f1f\\u5b50\\u30b1\\u30f3\\u30a4\\u30c1\", \"years\": \"1980\", \"weeks\": 0, \"order\": 11}, {\"cname\": \"\\u53f2\\u4e0a\\u6700\\u5f37\\u306e\\u5f1f\\u5b50\\u30b1\\u30f3\\u30a4\\u30c1\", \"years\": \"1980\", \"weeks\": 0, \"order\": 11}, {\"cname\": \"\\u53f2\\u4e0a\\u6700\\u5f37\\u306e\\u5f1f\\u5b50\\u30b1\\u30f3\\u30a4\\u30c1\", \"years\": \"1990\", \"weeks\": 0, \"order\": 11}, {\"cname\": \"\\u53f2\\u4e0a\\u6700\\u5f37\\u306e\\u5f1f\\u5b50\\u30b1\\u30f3\\u30a4\\u30c1\", \"years\": \"1990\", \"weeks\": 0, \"order\": 11}, {\"cname\": \"\\u53f2\\u4e0a\\u6700\\u5f37\\u306e\\u5f1f\\u5b50\\u30b1\\u30f3\\u30a4\\u30c1\", \"years\": \"1990\", \"weeks\": 0, \"order\": 11}, {\"cname\": \"\\u53f2\\u4e0a\\u6700\\u5f37\\u306e\\u5f1f\\u5b50\\u30b1\\u30f3\\u30a4\\u30c1\", \"years\": \"2000\", \"weeks\": 363, \"order\": 11}, {\"cname\": \"\\u53f2\\u4e0a\\u6700\\u5f37\\u306e\\u5f1f\\u5b50\\u30b1\\u30f3\\u30a4\\u30c1\", \"years\": \"2010\", \"weeks\": 219, \"order\": 11}, {\"cname\": \"\\u3042\\u3072\\u308b\\u306e\\u7a7a\", \"years\": \"1970\", \"weeks\": 0, \"order\": 12}, {\"cname\": \"\\u3042\\u3072\\u308b\\u306e\\u7a7a\", \"years\": \"1970\", \"weeks\": 0, \"order\": 12}, {\"cname\": \"\\u3042\\u3072\\u308b\\u306e\\u7a7a\", \"years\": \"1970\", \"weeks\": 0, \"order\": 12}, {\"cname\": \"\\u3042\\u3072\\u308b\\u306e\\u7a7a\", \"years\": \"1980\", \"weeks\": 0, \"order\": 12}, {\"cname\": \"\\u3042\\u3072\\u308b\\u306e\\u7a7a\", \"years\": \"1980\", \"weeks\": 0, \"order\": 12}, {\"cname\": \"\\u3042\\u3072\\u308b\\u306e\\u7a7a\", \"years\": \"1980\", \"weeks\": 0, \"order\": 12}, {\"cname\": \"\\u3042\\u3072\\u308b\\u306e\\u7a7a\", \"years\": \"1990\", \"weeks\": 0, \"order\": 12}, {\"cname\": \"\\u3042\\u3072\\u308b\\u306e\\u7a7a\", \"years\": \"1990\", \"weeks\": 0, \"order\": 12}, {\"cname\": \"\\u3042\\u3072\\u308b\\u306e\\u7a7a\", \"years\": \"1990\", \"weeks\": 0, \"order\": 12}, {\"cname\": \"\\u3042\\u3072\\u308b\\u306e\\u7a7a\", \"years\": \"2000\", \"weeks\": 263, \"order\": 12}, {\"cname\": \"\\u3042\\u3072\\u308b\\u306e\\u7a7a\", \"years\": \"2010\", \"weeks\": 308, \"order\": 12}, {\"cname\": \"\\u30cf\\u30e4\\u30c6\\u306e\\u3054\\u3068\\u304f!\", \"years\": \"1970\", \"weeks\": 0, \"order\": 13}, {\"cname\": \"\\u30cf\\u30e4\\u30c6\\u306e\\u3054\\u3068\\u304f!\", \"years\": \"1970\", \"weeks\": 0, \"order\": 13}, {\"cname\": \"\\u30cf\\u30e4\\u30c6\\u306e\\u3054\\u3068\\u304f!\", \"years\": \"1970\", \"weeks\": 0, \"order\": 13}, {\"cname\": \"\\u30cf\\u30e4\\u30c6\\u306e\\u3054\\u3068\\u304f!\", \"years\": \"1980\", \"weeks\": 0, \"order\": 13}, {\"cname\": \"\\u30cf\\u30e4\\u30c6\\u306e\\u3054\\u3068\\u304f!\", \"years\": \"1980\", \"weeks\": 0, \"order\": 13}, {\"cname\": \"\\u30cf\\u30e4\\u30c6\\u306e\\u3054\\u3068\\u304f!\", \"years\": \"1980\", \"weeks\": 0, \"order\": 13}, {\"cname\": \"\\u30cf\\u30e4\\u30c6\\u306e\\u3054\\u3068\\u304f!\", \"years\": \"1990\", \"weeks\": 0, \"order\": 13}, {\"cname\": \"\\u30cf\\u30e4\\u30c6\\u306e\\u3054\\u3068\\u304f!\", \"years\": \"1990\", \"weeks\": 0, \"order\": 13}, {\"cname\": \"\\u30cf\\u30e4\\u30c6\\u306e\\u3054\\u3068\\u304f!\", \"years\": \"1990\", \"weeks\": 0, \"order\": 13}, {\"cname\": \"\\u30cf\\u30e4\\u30c6\\u306e\\u3054\\u3068\\u304f!\", \"years\": \"2000\", \"weeks\": 251, \"order\": 13}, {\"cname\": \"\\u30cf\\u30e4\\u30c6\\u306e\\u3054\\u3068\\u304f!\", \"years\": \"2010\", \"weeks\": 315, \"order\": 13}, {\"cname\": \"\\u72ac\\u591c\\u53c9\", \"years\": \"1970\", \"weeks\": 0, \"order\": 14}, {\"cname\": \"\\u72ac\\u591c\\u53c9\", \"years\": \"1970\", \"weeks\": 0, \"order\": 14}, {\"cname\": \"\\u72ac\\u591c\\u53c9\", \"years\": \"1970\", \"weeks\": 0, \"order\": 14}, {\"cname\": \"\\u72ac\\u591c\\u53c9\", \"years\": \"1980\", \"weeks\": 0, \"order\": 14}, {\"cname\": \"\\u72ac\\u591c\\u53c9\", \"years\": \"1980\", \"weeks\": 0, \"order\": 14}, {\"cname\": \"\\u72ac\\u591c\\u53c9\", \"years\": \"1980\", \"weeks\": 0, \"order\": 14}, {\"cname\": \"\\u72ac\\u591c\\u53c9\", \"years\": \"1990\", \"weeks\": 146, \"order\": 14}, {\"cname\": \"\\u72ac\\u591c\\u53c9\", \"years\": \"2000\", \"weeks\": 411, \"order\": 14}, {\"cname\": \"\\u72ac\\u591c\\u53c9\", \"years\": \"2010\", \"weeks\": 1, \"order\": 14}, {\"cname\": \"\\u30b3\\u30fc\\u30bf\\u30ed\\u30fc\\u307e\\u304b\\u308a\\u3068\\u304a\\u308b!\", \"years\": \"1970\", \"weeks\": 0, \"order\": 15}, {\"cname\": \"\\u30b3\\u30fc\\u30bf\\u30ed\\u30fc\\u307e\\u304b\\u308a\\u3068\\u304a\\u308b!\", \"years\": \"1970\", \"weeks\": 0, \"order\": 15}, {\"cname\": \"\\u30b3\\u30fc\\u30bf\\u30ed\\u30fc\\u307e\\u304b\\u308a\\u3068\\u304a\\u308b!\", \"years\": \"1970\", \"weeks\": 0, \"order\": 15}, {\"cname\": \"\\u30b3\\u30fc\\u30bf\\u30ed\\u30fc\\u307e\\u304b\\u308a\\u3068\\u304a\\u308b!\", \"years\": \"1980\", \"weeks\": 339, \"order\": 15}, {\"cname\": \"\\u30b3\\u30fc\\u30bf\\u30ed\\u30fc\\u307e\\u304b\\u308a\\u3068\\u304a\\u308b!\", \"years\": \"1990\", \"weeks\": 219, \"order\": 15}, {\"cname\": \"\\u30b3\\u30fc\\u30bf\\u30ed\\u30fc\\u307e\\u304b\\u308a\\u3068\\u304a\\u308b!\", \"years\": \"2000\", \"weeks\": 0, \"order\": 15}, {\"cname\": \"\\u30b3\\u30fc\\u30bf\\u30ed\\u30fc\\u307e\\u304b\\u308a\\u3068\\u304a\\u308b!\", \"years\": \"2000\", \"weeks\": 0, \"order\": 15}, {\"cname\": \"\\u30b3\\u30fc\\u30bf\\u30ed\\u30fc\\u307e\\u304b\\u308a\\u3068\\u304a\\u308b!\", \"years\": \"2000\", \"weeks\": 0, \"order\": 15}, {\"cname\": \"\\u30b3\\u30fc\\u30bf\\u30ed\\u30fc\\u307e\\u304b\\u308a\\u3068\\u304a\\u308b!\", \"years\": \"2010\", \"weeks\": 0, \"order\": 15}, {\"cname\": \"\\u30b3\\u30fc\\u30bf\\u30ed\\u30fc\\u307e\\u304b\\u308a\\u3068\\u304a\\u308b!\", \"years\": \"2010\", \"weeks\": 0, \"order\": 15}, {\"cname\": \"\\u30b3\\u30fc\\u30bf\\u30ed\\u30fc\\u307e\\u304b\\u308a\\u3068\\u304a\\u308b!\", \"years\": \"2010\", \"weeks\": 0, \"order\": 15}, {\"cname\": \"FAIRY TAIL\", \"years\": \"1970\", \"weeks\": 0, \"order\": 16}, {\"cname\": \"FAIRY TAIL\", \"years\": \"1970\", \"weeks\": 0, \"order\": 16}, {\"cname\": \"FAIRY TAIL\", \"years\": \"1970\", \"weeks\": 0, \"order\": 16}, {\"cname\": \"FAIRY TAIL\", \"years\": \"1980\", \"weeks\": 0, \"order\": 16}, {\"cname\": \"FAIRY TAIL\", \"years\": \"1980\", \"weeks\": 0, \"order\": 16}, {\"cname\": \"FAIRY TAIL\", \"years\": \"1980\", \"weeks\": 0, \"order\": 16}, {\"cname\": \"FAIRY TAIL\", \"years\": \"1990\", \"weeks\": 0, \"order\": 16}, {\"cname\": \"FAIRY TAIL\", \"years\": \"1990\", \"weeks\": 0, \"order\": 16}, {\"cname\": \"FAIRY TAIL\", \"years\": \"1990\", \"weeks\": 0, \"order\": 16}, {\"cname\": \"FAIRY TAIL\", \"years\": \"2000\", \"weeks\": 161, \"order\": 16}, {\"cname\": \"FAIRY TAIL\", \"years\": \"2010\", \"weeks\": 385, \"order\": 16}, {\"cname\": \"DRAGON\\u3000BALL\", \"years\": \"1970\", \"weeks\": 0, \"order\": 17}, {\"cname\": \"DRAGON\\u3000BALL\", \"years\": \"1970\", \"weeks\": 0, \"order\": 17}, {\"cname\": \"DRAGON\\u3000BALL\", \"years\": \"1970\", \"weeks\": 0, \"order\": 17}, {\"cname\": \"DRAGON\\u3000BALL\", \"years\": \"1980\", \"weeks\": 253, \"order\": 17}, {\"cname\": \"DRAGON\\u3000BALL\", \"years\": \"1990\", \"weeks\": 266, \"order\": 17}, {\"cname\": \"DRAGON\\u3000BALL\", \"years\": \"2000\", \"weeks\": 0, \"order\": 17}, {\"cname\": \"DRAGON\\u3000BALL\", \"years\": \"2000\", \"weeks\": 0, \"order\": 17}, {\"cname\": \"DRAGON\\u3000BALL\", \"years\": \"2000\", \"weeks\": 0, \"order\": 17}, {\"cname\": \"DRAGON\\u3000BALL\", \"years\": \"2010\", \"weeks\": 0, \"order\": 17}, {\"cname\": \"DRAGON\\u3000BALL\", \"years\": \"2010\", \"weeks\": 0, \"order\": 17}, {\"cname\": \"DRAGON\\u3000BALL\", \"years\": \"2010\", \"weeks\": 0, \"order\": 17}, {\"cname\": \"\\u91d1\\u7530\\u4e00\\u5c11\\u5e74\\u306e\\u4e8b\\u4ef6\\u7c3f\", \"years\": \"1970\", \"weeks\": 0, \"order\": 18}, {\"cname\": \"\\u91d1\\u7530\\u4e00\\u5c11\\u5e74\\u306e\\u4e8b\\u4ef6\\u7c3f\", \"years\": \"1970\", \"weeks\": 0, \"order\": 18}, {\"cname\": \"\\u91d1\\u7530\\u4e00\\u5c11\\u5e74\\u306e\\u4e8b\\u4ef6\\u7c3f\", \"years\": \"1970\", \"weeks\": 0, \"order\": 18}, {\"cname\": \"\\u91d1\\u7530\\u4e00\\u5c11\\u5e74\\u306e\\u4e8b\\u4ef6\\u7c3f\", \"years\": \"1980\", \"weeks\": 0, \"order\": 18}, {\"cname\": \"\\u91d1\\u7530\\u4e00\\u5c11\\u5e74\\u306e\\u4e8b\\u4ef6\\u7c3f\", \"years\": \"1980\", \"weeks\": 0, \"order\": 18}, {\"cname\": \"\\u91d1\\u7530\\u4e00\\u5c11\\u5e74\\u306e\\u4e8b\\u4ef6\\u7c3f\", \"years\": \"1980\", \"weeks\": 0, \"order\": 18}, {\"cname\": \"\\u91d1\\u7530\\u4e00\\u5c11\\u5e74\\u306e\\u4e8b\\u4ef6\\u7c3f\", \"years\": \"1990\", \"weeks\": 319, \"order\": 18}, {\"cname\": \"\\u91d1\\u7530\\u4e00\\u5c11\\u5e74\\u306e\\u4e8b\\u4ef6\\u7c3f\", \"years\": \"2000\", \"weeks\": 129, \"order\": 18}, {\"cname\": \"\\u91d1\\u7530\\u4e00\\u5c11\\u5e74\\u306e\\u4e8b\\u4ef6\\u7c3f\", \"years\": \"2010\", \"weeks\": 65, \"order\": 18}, {\"cname\": \"\\u30a8\\u30ea\\u30a2\\u306e\\u9a0e\\u58eb\", \"years\": \"1970\", \"weeks\": 0, \"order\": 19}, {\"cname\": \"\\u30a8\\u30ea\\u30a2\\u306e\\u9a0e\\u58eb\", \"years\": \"1970\", \"weeks\": 0, \"order\": 19}, {\"cname\": \"\\u30a8\\u30ea\\u30a2\\u306e\\u9a0e\\u58eb\", \"years\": \"1970\", \"weeks\": 0, \"order\": 19}, {\"cname\": \"\\u30a8\\u30ea\\u30a2\\u306e\\u9a0e\\u58eb\", \"years\": \"1980\", \"weeks\": 0, \"order\": 19}, {\"cname\": \"\\u30a8\\u30ea\\u30a2\\u306e\\u9a0e\\u58eb\", \"years\": \"1980\", \"weeks\": 0, \"order\": 19}, {\"cname\": \"\\u30a8\\u30ea\\u30a2\\u306e\\u9a0e\\u58eb\", \"years\": \"1980\", \"weeks\": 0, \"order\": 19}, {\"cname\": \"\\u30a8\\u30ea\\u30a2\\u306e\\u9a0e\\u58eb\", \"years\": \"1990\", \"weeks\": 0, \"order\": 19}, {\"cname\": \"\\u30a8\\u30ea\\u30a2\\u306e\\u9a0e\\u58eb\", \"years\": \"1990\", \"weeks\": 0, \"order\": 19}, {\"cname\": \"\\u30a8\\u30ea\\u30a2\\u306e\\u9a0e\\u58eb\", \"years\": \"1990\", \"weeks\": 0, \"order\": 19}, {\"cname\": \"\\u30a8\\u30ea\\u30a2\\u306e\\u9a0e\\u58eb\", \"years\": \"2000\", \"weeks\": 163, \"order\": 19}, {\"cname\": \"\\u30a8\\u30ea\\u30a2\\u306e\\u9a0e\\u58eb\", \"years\": \"2010\", \"weeks\": 340, \"order\": 19}]}}, {\"mode\": \"vega-lite\"});\n",
       "</script>"
      ],
      "text/plain": [
       "alt.Chart(...)"
      ]
     },
     "execution_count": 118,
     "metadata": {},
     "output_type": "execute_result"
    }
   ],
   "source": [
    "chart"
   ]
  },
  {
   "cell_type": "markdown",
   "id": "aec1f31e",
   "metadata": {},
   "source": [
    "## （例）Altairで再現2：雑誌別の年毎のエピソード数の推移"
   ]
  },
  {
   "cell_type": "code",
   "execution_count": 101,
   "id": "326e5bcb",
   "metadata": {},
   "outputs": [],
   "source": [
    "# 1年単位で区切ったyearsを追加\n",
    "df = add_years_to_df(df, 1)"
   ]
  },
  {
   "cell_type": "code",
   "execution_count": 102,
   "id": "98aff95c",
   "metadata": {},
   "outputs": [],
   "source": [
    "df_plot = df.groupby([\"years\", \"mcname\"])[\"cname\"].count().reset_index(name=\"count\")"
   ]
  },
  {
   "cell_type": "code",
   "execution_count": null,
   "id": "ef97f6c8",
   "metadata": {},
   "outputs": [],
   "source": [
    "chart = alt.Chart(df_plot).mark_line().encode(\n",
    "    alt.X(\"years:O\", title=\"年代\", axis=alt.Axis(grid=False)),\n",
    "    alt.Y(\"count:Q\", title=\"作品数\", axis=alt.Axis(grid=True, titleX=-50)),\n",
    "    alt.Color(\"mcname:N\", title=\"雑誌名\", scale=alt.Scale(range=ud_colors)),\n",
    ").properties(\n",
    "    title=\"雑誌別の年毎のエピソード数の推移\",\n",
    "    width=800\n",
    ").configure_axis(\n",
    "    labelFont=\"Input Mono Condensed\",\n",
    "    labelFontSize=14,\n",
    "    titleFont=\"Source Han Sans\",\n",
    "    titleFontSize=16\n",
    ").configure_title(\n",
    "    font=\"Source Han Sans\",\n",
    "    fontSize=18\n",
    ").configure_legend(\n",
    "    labelFont=\"Source Han Sans\",\n",
    "    labelFontSize=14,\n",
    "    titleFont=\"Source Han Sans\",\n",
    "    titleFontSize=16\n",
    ")\n",
    "\n",
    "chart.save(\"./figs/episodes_by_years_and_mcname.pdf\")"
   ]
  },
  {
   "cell_type": "code",
   "execution_count": 111,
   "id": "ae8c1e2f",
   "metadata": {},
   "outputs": [
    {
     "data": {
      "text/html": [
       "\n",
       "<style>\n",
       "  #altair-viz-7ae27b04b0674b3cb73f5b49f8c0305a.vega-embed {\n",
       "    width: 100%;\n",
       "    display: flex;\n",
       "  }\n",
       "\n",
       "  #altair-viz-7ae27b04b0674b3cb73f5b49f8c0305a.vega-embed details,\n",
       "  #altair-viz-7ae27b04b0674b3cb73f5b49f8c0305a.vega-embed details summary {\n",
       "    position: relative;\n",
       "  }\n",
       "</style>\n",
       "<div id=\"altair-viz-7ae27b04b0674b3cb73f5b49f8c0305a\"></div>\n",
       "<script type=\"text/javascript\">\n",
       "  var VEGA_DEBUG = (typeof VEGA_DEBUG == \"undefined\") ? {} : VEGA_DEBUG;\n",
       "  (function(spec, embedOpt){\n",
       "    let outputDiv = document.currentScript.previousElementSibling;\n",
       "    if (outputDiv.id !== \"altair-viz-7ae27b04b0674b3cb73f5b49f8c0305a\") {\n",
       "      outputDiv = document.getElementById(\"altair-viz-7ae27b04b0674b3cb73f5b49f8c0305a\");\n",
       "    }\n",
       "    const paths = {\n",
       "      \"vega\": \"https://cdn.jsdelivr.net/npm/vega@5?noext\",\n",
       "      \"vega-lib\": \"https://cdn.jsdelivr.net/npm/vega-lib?noext\",\n",
       "      \"vega-lite\": \"https://cdn.jsdelivr.net/npm/vega-lite@5.20.1?noext\",\n",
       "      \"vega-embed\": \"https://cdn.jsdelivr.net/npm/vega-embed@6?noext\",\n",
       "    };\n",
       "\n",
       "    function maybeLoadScript(lib, version) {\n",
       "      var key = `${lib.replace(\"-\", \"\")}_version`;\n",
       "      return (VEGA_DEBUG[key] == version) ?\n",
       "        Promise.resolve(paths[lib]) :\n",
       "        new Promise(function(resolve, reject) {\n",
       "          var s = document.createElement('script');\n",
       "          document.getElementsByTagName(\"head\")[0].appendChild(s);\n",
       "          s.async = true;\n",
       "          s.onload = () => {\n",
       "            VEGA_DEBUG[key] = version;\n",
       "            return resolve(paths[lib]);\n",
       "          };\n",
       "          s.onerror = () => reject(`Error loading script: ${paths[lib]}`);\n",
       "          s.src = paths[lib];\n",
       "        });\n",
       "    }\n",
       "\n",
       "    function showError(err) {\n",
       "      outputDiv.innerHTML = `<div class=\"error\" style=\"color:red;\">${err}</div>`;\n",
       "      throw err;\n",
       "    }\n",
       "\n",
       "    function displayChart(vegaEmbed) {\n",
       "      vegaEmbed(outputDiv, spec, embedOpt)\n",
       "        .catch(err => showError(`Javascript Error: ${err.message}<br>This usually means there's a typo in your chart specification. See the javascript console for the full traceback.`));\n",
       "    }\n",
       "\n",
       "    if(typeof define === \"function\" && define.amd) {\n",
       "      requirejs.config({paths});\n",
       "      require([\"vega-embed\"], displayChart, err => showError(`Error loading script: ${err.message}`));\n",
       "    } else {\n",
       "      maybeLoadScript(\"vega\", \"5\")\n",
       "        .then(() => maybeLoadScript(\"vega-lite\", \"5.20.1\"))\n",
       "        .then(() => maybeLoadScript(\"vega-embed\", \"6\"))\n",
       "        .catch(showError)\n",
       "        .then(() => displayChart(vegaEmbed));\n",
       "    }\n",
       "  })({\"config\": {\"view\": {\"continuousWidth\": 300, \"continuousHeight\": 300}, \"axis\": {\"labelFont\": \"Input Mono Condensed\", \"labelFontSize\": 14, \"titleFont\": \"Source Han Sans\", \"titleFontSize\": 16}, \"legend\": {\"labelFont\": \"Source Han Sans\", \"labelFontSize\": 14, \"titleFont\": \"Source Han Sans\", \"titleFontSize\": 16}, \"title\": {\"font\": \"Source Han Sans\", \"fontSize\": 18}}, \"data\": {\"name\": \"data-7438b265b0110bdf0f0d00f99427eda8\"}, \"mark\": {\"type\": \"line\"}, \"encoding\": {\"color\": {\"field\": \"mcname\", \"scale\": {\"range\": [\"#e69f00\", \"#56b4e9\", \"#009e73\", \"#f0e442\", \"#0072b2\", \"#d55e00\", \"#cc79a7\"]}, \"title\": \"\\u96d1\\u8a8c\\u540d\", \"type\": \"nominal\"}, \"x\": {\"axis\": {\"grid\": false}, \"field\": \"years\", \"title\": \"\\u5e74\\u4ee3\", \"type\": \"ordinal\"}, \"y\": {\"axis\": {\"grid\": true, \"titleX\": -50}, \"field\": \"count\", \"title\": \"\\u4f5c\\u54c1\\u6570\", \"type\": \"quantitative\"}}, \"title\": \"\\u96d1\\u8a8c\\u5225\\u306e\\u5e74\\u6bce\\u306e\\u30a8\\u30d4\\u30bd\\u30fc\\u30c9\\u6570\\u306e\\u63a8\\u79fb\", \"width\": 800, \"$schema\": \"https://vega.github.io/schema/vega-lite/v5.20.1.json\", \"datasets\": {\"data-7438b265b0110bdf0f0d00f99427eda8\": [{\"years\": \"1970\", \"mcname\": \"\\u9031\\u520a\\u5c11\\u5e74\\u30b5\\u30f3\\u30c7\\u30fc\", \"count\": 259}, {\"years\": \"1970\", \"mcname\": \"\\u9031\\u520a\\u5c11\\u5e74\\u30b8\\u30e3\\u30f3\\u30d7\", \"count\": 327}, {\"years\": \"1970\", \"mcname\": \"\\u9031\\u520a\\u5c11\\u5e74\\u30c1\\u30e3\\u30f3\\u30d4\\u30aa\\u30f3\", \"count\": 387}, {\"years\": \"1970\", \"mcname\": \"\\u9031\\u520a\\u5c11\\u5e74\\u30de\\u30ac\\u30b8\\u30f3\", \"count\": 228}, {\"years\": \"1971\", \"mcname\": \"\\u9031\\u520a\\u5c11\\u5e74\\u30b5\\u30f3\\u30c7\\u30fc\", \"count\": 633}, {\"years\": \"1971\", \"mcname\": \"\\u9031\\u520a\\u5c11\\u5e74\\u30b8\\u30e3\\u30f3\\u30d7\", \"count\": 724}, {\"years\": \"1971\", \"mcname\": \"\\u9031\\u520a\\u5c11\\u5e74\\u30c1\\u30e3\\u30f3\\u30d4\\u30aa\\u30f3\", \"count\": 796}, {\"years\": \"1971\", \"mcname\": \"\\u9031\\u520a\\u5c11\\u5e74\\u30de\\u30ac\\u30b8\\u30f3\", \"count\": 593}, {\"years\": \"1972\", \"mcname\": \"\\u9031\\u520a\\u5c11\\u5e74\\u30b5\\u30f3\\u30c7\\u30fc\", \"count\": 666}, {\"years\": \"1972\", \"mcname\": \"\\u9031\\u520a\\u5c11\\u5e74\\u30b8\\u30e3\\u30f3\\u30d7\", \"count\": 746}, {\"years\": \"1972\", \"mcname\": \"\\u9031\\u520a\\u5c11\\u5e74\\u30c1\\u30e3\\u30f3\\u30d4\\u30aa\\u30f3\", \"count\": 728}, {\"years\": \"1972\", \"mcname\": \"\\u9031\\u520a\\u5c11\\u5e74\\u30de\\u30ac\\u30b8\\u30f3\", \"count\": 600}, {\"years\": \"1973\", \"mcname\": \"\\u9031\\u520a\\u5c11\\u5e74\\u30b5\\u30f3\\u30c7\\u30fc\", \"count\": 670}, {\"years\": \"1973\", \"mcname\": \"\\u9031\\u520a\\u5c11\\u5e74\\u30b8\\u30e3\\u30f3\\u30d7\", \"count\": 822}, {\"years\": \"1973\", \"mcname\": \"\\u9031\\u520a\\u5c11\\u5e74\\u30c1\\u30e3\\u30f3\\u30d4\\u30aa\\u30f3\", \"count\": 720}, {\"years\": \"1973\", \"mcname\": \"\\u9031\\u520a\\u5c11\\u5e74\\u30de\\u30ac\\u30b8\\u30f3\", \"count\": 616}, {\"years\": \"1974\", \"mcname\": \"\\u9031\\u520a\\u5c11\\u5e74\\u30b5\\u30f3\\u30c7\\u30fc\", \"count\": 551}, {\"years\": \"1974\", \"mcname\": \"\\u9031\\u520a\\u5c11\\u5e74\\u30b8\\u30e3\\u30f3\\u30d7\", \"count\": 714}, {\"years\": \"1974\", \"mcname\": \"\\u9031\\u520a\\u5c11\\u5e74\\u30c1\\u30e3\\u30f3\\u30d4\\u30aa\\u30f3\", \"count\": 623}, {\"years\": \"1974\", \"mcname\": \"\\u9031\\u520a\\u5c11\\u5e74\\u30de\\u30ac\\u30b8\\u30f3\", \"count\": 499}, {\"years\": \"1975\", \"mcname\": \"\\u9031\\u520a\\u5c11\\u5e74\\u30b5\\u30f3\\u30c7\\u30fc\", \"count\": 593}, {\"years\": \"1975\", \"mcname\": \"\\u9031\\u520a\\u5c11\\u5e74\\u30b8\\u30e3\\u30f3\\u30d7\", \"count\": 687}, {\"years\": \"1975\", \"mcname\": \"\\u9031\\u520a\\u5c11\\u5e74\\u30c1\\u30e3\\u30f3\\u30d4\\u30aa\\u30f3\", \"count\": 631}, {\"years\": \"1975\", \"mcname\": \"\\u9031\\u520a\\u5c11\\u5e74\\u30de\\u30ac\\u30b8\\u30f3\", \"count\": 566}, {\"years\": \"1976\", \"mcname\": \"\\u9031\\u520a\\u5c11\\u5e74\\u30b5\\u30f3\\u30c7\\u30fc\", \"count\": 680}, {\"years\": \"1976\", \"mcname\": \"\\u9031\\u520a\\u5c11\\u5e74\\u30b8\\u30e3\\u30f3\\u30d7\", \"count\": 731}, {\"years\": \"1976\", \"mcname\": \"\\u9031\\u520a\\u5c11\\u5e74\\u30c1\\u30e3\\u30f3\\u30d4\\u30aa\\u30f3\", \"count\": 683}, {\"years\": \"1976\", \"mcname\": \"\\u9031\\u520a\\u5c11\\u5e74\\u30de\\u30ac\\u30b8\\u30f3\", \"count\": 671}, {\"years\": \"1977\", \"mcname\": \"\\u9031\\u520a\\u5c11\\u5e74\\u30b5\\u30f3\\u30c7\\u30fc\", \"count\": 652}, {\"years\": \"1977\", \"mcname\": \"\\u9031\\u520a\\u5c11\\u5e74\\u30b8\\u30e3\\u30f3\\u30d7\", \"count\": 744}, {\"years\": \"1977\", \"mcname\": \"\\u9031\\u520a\\u5c11\\u5e74\\u30c1\\u30e3\\u30f3\\u30d4\\u30aa\\u30f3\", \"count\": 737}, {\"years\": \"1977\", \"mcname\": \"\\u9031\\u520a\\u5c11\\u5e74\\u30de\\u30ac\\u30b8\\u30f3\", \"count\": 706}, {\"years\": \"1978\", \"mcname\": \"\\u9031\\u520a\\u5c11\\u5e74\\u30b5\\u30f3\\u30c7\\u30fc\", \"count\": 647}, {\"years\": \"1978\", \"mcname\": \"\\u9031\\u520a\\u5c11\\u5e74\\u30b8\\u30e3\\u30f3\\u30d7\", \"count\": 730}, {\"years\": \"1978\", \"mcname\": \"\\u9031\\u520a\\u5c11\\u5e74\\u30c1\\u30e3\\u30f3\\u30d4\\u30aa\\u30f3\", \"count\": 736}, {\"years\": \"1978\", \"mcname\": \"\\u9031\\u520a\\u5c11\\u5e74\\u30de\\u30ac\\u30b8\\u30f3\", \"count\": 730}, {\"years\": \"1979\", \"mcname\": \"\\u9031\\u520a\\u5c11\\u5e74\\u30b5\\u30f3\\u30c7\\u30fc\", \"count\": 713}, {\"years\": \"1979\", \"mcname\": \"\\u9031\\u520a\\u5c11\\u5e74\\u30b8\\u30e3\\u30f3\\u30d7\", \"count\": 752}, {\"years\": \"1979\", \"mcname\": \"\\u9031\\u520a\\u5c11\\u5e74\\u30c1\\u30e3\\u30f3\\u30d4\\u30aa\\u30f3\", \"count\": 743}, {\"years\": \"1979\", \"mcname\": \"\\u9031\\u520a\\u5c11\\u5e74\\u30de\\u30ac\\u30b8\\u30f3\", \"count\": 799}, {\"years\": \"1980\", \"mcname\": \"\\u9031\\u520a\\u5c11\\u5e74\\u30b5\\u30f3\\u30c7\\u30fc\", \"count\": 757}, {\"years\": \"1980\", \"mcname\": \"\\u9031\\u520a\\u5c11\\u5e74\\u30b8\\u30e3\\u30f3\\u30d7\", \"count\": 789}, {\"years\": \"1980\", \"mcname\": \"\\u9031\\u520a\\u5c11\\u5e74\\u30c1\\u30e3\\u30f3\\u30d4\\u30aa\\u30f3\", \"count\": 804}, {\"years\": \"1980\", \"mcname\": \"\\u9031\\u520a\\u5c11\\u5e74\\u30de\\u30ac\\u30b8\\u30f3\", \"count\": 773}, {\"years\": \"1981\", \"mcname\": \"\\u9031\\u520a\\u5c11\\u5e74\\u30b5\\u30f3\\u30c7\\u30fc\", \"count\": 784}, {\"years\": \"1981\", \"mcname\": \"\\u9031\\u520a\\u5c11\\u5e74\\u30b8\\u30e3\\u30f3\\u30d7\", \"count\": 830}, {\"years\": \"1981\", \"mcname\": \"\\u9031\\u520a\\u5c11\\u5e74\\u30c1\\u30e3\\u30f3\\u30d4\\u30aa\\u30f3\", \"count\": 809}, {\"years\": \"1981\", \"mcname\": \"\\u9031\\u520a\\u5c11\\u5e74\\u30de\\u30ac\\u30b8\\u30f3\", \"count\": 784}, {\"years\": \"1982\", \"mcname\": \"\\u9031\\u520a\\u5c11\\u5e74\\u30b5\\u30f3\\u30c7\\u30fc\", \"count\": 856}, {\"years\": \"1982\", \"mcname\": \"\\u9031\\u520a\\u5c11\\u5e74\\u30b8\\u30e3\\u30f3\\u30d7\", \"count\": 827}, {\"years\": \"1982\", \"mcname\": \"\\u9031\\u520a\\u5c11\\u5e74\\u30c1\\u30e3\\u30f3\\u30d4\\u30aa\\u30f3\", \"count\": 806}, {\"years\": \"1982\", \"mcname\": \"\\u9031\\u520a\\u5c11\\u5e74\\u30de\\u30ac\\u30b8\\u30f3\", \"count\": 739}, {\"years\": \"1983\", \"mcname\": \"\\u9031\\u520a\\u5c11\\u5e74\\u30b5\\u30f3\\u30c7\\u30fc\", \"count\": 872}, {\"years\": \"1983\", \"mcname\": \"\\u9031\\u520a\\u5c11\\u5e74\\u30b8\\u30e3\\u30f3\\u30d7\", \"count\": 822}, {\"years\": \"1983\", \"mcname\": \"\\u9031\\u520a\\u5c11\\u5e74\\u30c1\\u30e3\\u30f3\\u30d4\\u30aa\\u30f3\", \"count\": 820}, {\"years\": \"1983\", \"mcname\": \"\\u9031\\u520a\\u5c11\\u5e74\\u30de\\u30ac\\u30b8\\u30f3\", \"count\": 770}, {\"years\": \"1984\", \"mcname\": \"\\u9031\\u520a\\u5c11\\u5e74\\u30b5\\u30f3\\u30c7\\u30fc\", \"count\": 809}, {\"years\": \"1984\", \"mcname\": \"\\u9031\\u520a\\u5c11\\u5e74\\u30b8\\u30e3\\u30f3\\u30d7\", \"count\": 811}, {\"years\": \"1984\", \"mcname\": \"\\u9031\\u520a\\u5c11\\u5e74\\u30c1\\u30e3\\u30f3\\u30d4\\u30aa\\u30f3\", \"count\": 851}, {\"years\": \"1984\", \"mcname\": \"\\u9031\\u520a\\u5c11\\u5e74\\u30de\\u30ac\\u30b8\\u30f3\", \"count\": 795}, {\"years\": \"1985\", \"mcname\": \"\\u9031\\u520a\\u5c11\\u5e74\\u30b5\\u30f3\\u30c7\\u30fc\", \"count\": 753}, {\"years\": \"1985\", \"mcname\": \"\\u9031\\u520a\\u5c11\\u5e74\\u30b8\\u30e3\\u30f3\\u30d7\", \"count\": 799}, {\"years\": \"1985\", \"mcname\": \"\\u9031\\u520a\\u5c11\\u5e74\\u30c1\\u30e3\\u30f3\\u30d4\\u30aa\\u30f3\", \"count\": 847}, {\"years\": \"1985\", \"mcname\": \"\\u9031\\u520a\\u5c11\\u5e74\\u30de\\u30ac\\u30b8\\u30f3\", \"count\": 794}, {\"years\": \"1986\", \"mcname\": \"\\u9031\\u520a\\u5c11\\u5e74\\u30b5\\u30f3\\u30c7\\u30fc\", \"count\": 772}, {\"years\": \"1986\", \"mcname\": \"\\u9031\\u520a\\u5c11\\u5e74\\u30b8\\u30e3\\u30f3\\u30d7\", \"count\": 812}, {\"years\": \"1986\", \"mcname\": \"\\u9031\\u520a\\u5c11\\u5e74\\u30c1\\u30e3\\u30f3\\u30d4\\u30aa\\u30f3\", \"count\": 819}, {\"years\": \"1986\", \"mcname\": \"\\u9031\\u520a\\u5c11\\u5e74\\u30de\\u30ac\\u30b8\\u30f3\", \"count\": 765}, {\"years\": \"1987\", \"mcname\": \"\\u9031\\u520a\\u5c11\\u5e74\\u30b5\\u30f3\\u30c7\\u30fc\", \"count\": 816}, {\"years\": \"1987\", \"mcname\": \"\\u9031\\u520a\\u5c11\\u5e74\\u30b8\\u30e3\\u30f3\\u30d7\", \"count\": 867}, {\"years\": \"1987\", \"mcname\": \"\\u9031\\u520a\\u5c11\\u5e74\\u30c1\\u30e3\\u30f3\\u30d4\\u30aa\\u30f3\", \"count\": 946}, {\"years\": \"1987\", \"mcname\": \"\\u9031\\u520a\\u5c11\\u5e74\\u30de\\u30ac\\u30b8\\u30f3\", \"count\": 839}, {\"years\": \"1988\", \"mcname\": \"\\u9031\\u520a\\u5c11\\u5e74\\u30b5\\u30f3\\u30c7\\u30fc\", \"count\": 978}, {\"years\": \"1988\", \"mcname\": \"\\u9031\\u520a\\u5c11\\u5e74\\u30b8\\u30e3\\u30f3\\u30d7\", \"count\": 950}, {\"years\": \"1988\", \"mcname\": \"\\u9031\\u520a\\u5c11\\u5e74\\u30c1\\u30e3\\u30f3\\u30d4\\u30aa\\u30f3\", \"count\": 963}, {\"years\": \"1988\", \"mcname\": \"\\u9031\\u520a\\u5c11\\u5e74\\u30de\\u30ac\\u30b8\\u30f3\", \"count\": 958}, {\"years\": \"1989\", \"mcname\": \"\\u9031\\u520a\\u5c11\\u5e74\\u30b5\\u30f3\\u30c7\\u30fc\", \"count\": 1035}, {\"years\": \"1989\", \"mcname\": \"\\u9031\\u520a\\u5c11\\u5e74\\u30b8\\u30e3\\u30f3\\u30d7\", \"count\": 977}, {\"years\": \"1989\", \"mcname\": \"\\u9031\\u520a\\u5c11\\u5e74\\u30c1\\u30e3\\u30f3\\u30d4\\u30aa\\u30f3\", \"count\": 928}, {\"years\": \"1989\", \"mcname\": \"\\u9031\\u520a\\u5c11\\u5e74\\u30de\\u30ac\\u30b8\\u30f3\", \"count\": 1039}, {\"years\": \"1990\", \"mcname\": \"\\u9031\\u520a\\u5c11\\u5e74\\u30b5\\u30f3\\u30c7\\u30fc\", \"count\": 1061}, {\"years\": \"1990\", \"mcname\": \"\\u9031\\u520a\\u5c11\\u5e74\\u30b8\\u30e3\\u30f3\\u30d7\", \"count\": 997}, {\"years\": \"1990\", \"mcname\": \"\\u9031\\u520a\\u5c11\\u5e74\\u30c1\\u30e3\\u30f3\\u30d4\\u30aa\\u30f3\", \"count\": 945}, {\"years\": \"1990\", \"mcname\": \"\\u9031\\u520a\\u5c11\\u5e74\\u30de\\u30ac\\u30b8\\u30f3\", \"count\": 1013}, {\"years\": \"1991\", \"mcname\": \"\\u9031\\u520a\\u5c11\\u5e74\\u30b5\\u30f3\\u30c7\\u30fc\", \"count\": 1072}, {\"years\": \"1991\", \"mcname\": \"\\u9031\\u520a\\u5c11\\u5e74\\u30b8\\u30e3\\u30f3\\u30d7\", \"count\": 906}, {\"years\": \"1991\", \"mcname\": \"\\u9031\\u520a\\u5c11\\u5e74\\u30c1\\u30e3\\u30f3\\u30d4\\u30aa\\u30f3\", \"count\": 980}, {\"years\": \"1991\", \"mcname\": \"\\u9031\\u520a\\u5c11\\u5e74\\u30de\\u30ac\\u30b8\\u30f3\", \"count\": 974}, {\"years\": \"1992\", \"mcname\": \"\\u9031\\u520a\\u5c11\\u5e74\\u30b5\\u30f3\\u30c7\\u30fc\", \"count\": 1031}, {\"years\": \"1992\", \"mcname\": \"\\u9031\\u520a\\u5c11\\u5e74\\u30b8\\u30e3\\u30f3\\u30d7\", \"count\": 928}, {\"years\": \"1992\", \"mcname\": \"\\u9031\\u520a\\u5c11\\u5e74\\u30c1\\u30e3\\u30f3\\u30d4\\u30aa\\u30f3\", \"count\": 949}, {\"years\": \"1992\", \"mcname\": \"\\u9031\\u520a\\u5c11\\u5e74\\u30de\\u30ac\\u30b8\\u30f3\", \"count\": 925}, {\"years\": \"1993\", \"mcname\": \"\\u9031\\u520a\\u5c11\\u5e74\\u30b5\\u30f3\\u30c7\\u30fc\", \"count\": 1024}, {\"years\": \"1993\", \"mcname\": \"\\u9031\\u520a\\u5c11\\u5e74\\u30b8\\u30e3\\u30f3\\u30d7\", \"count\": 950}, {\"years\": \"1993\", \"mcname\": \"\\u9031\\u520a\\u5c11\\u5e74\\u30c1\\u30e3\\u30f3\\u30d4\\u30aa\\u30f3\", \"count\": 893}, {\"years\": \"1993\", \"mcname\": \"\\u9031\\u520a\\u5c11\\u5e74\\u30de\\u30ac\\u30b8\\u30f3\", \"count\": 938}, {\"years\": \"1994\", \"mcname\": \"\\u9031\\u520a\\u5c11\\u5e74\\u30b5\\u30f3\\u30c7\\u30fc\", \"count\": 1102}, {\"years\": \"1994\", \"mcname\": \"\\u9031\\u520a\\u5c11\\u5e74\\u30b8\\u30e3\\u30f3\\u30d7\", \"count\": 977}, {\"years\": \"1994\", \"mcname\": \"\\u9031\\u520a\\u5c11\\u5e74\\u30c1\\u30e3\\u30f3\\u30d4\\u30aa\\u30f3\", \"count\": 938}, {\"years\": \"1994\", \"mcname\": \"\\u9031\\u520a\\u5c11\\u5e74\\u30de\\u30ac\\u30b8\\u30f3\", \"count\": 975}, {\"years\": \"1995\", \"mcname\": \"\\u9031\\u520a\\u5c11\\u5e74\\u30b5\\u30f3\\u30c7\\u30fc\", \"count\": 1085}, {\"years\": \"1995\", \"mcname\": \"\\u9031\\u520a\\u5c11\\u5e74\\u30b8\\u30e3\\u30f3\\u30d7\", \"count\": 981}, {\"years\": \"1995\", \"mcname\": \"\\u9031\\u520a\\u5c11\\u5e74\\u30c1\\u30e3\\u30f3\\u30d4\\u30aa\\u30f3\", \"count\": 997}, {\"years\": \"1995\", \"mcname\": \"\\u9031\\u520a\\u5c11\\u5e74\\u30de\\u30ac\\u30b8\\u30f3\", \"count\": 1012}, {\"years\": \"1996\", \"mcname\": \"\\u9031\\u520a\\u5c11\\u5e74\\u30b5\\u30f3\\u30c7\\u30fc\", \"count\": 1099}, {\"years\": \"1996\", \"mcname\": \"\\u9031\\u520a\\u5c11\\u5e74\\u30b8\\u30e3\\u30f3\\u30d7\", \"count\": 961}, {\"years\": \"1996\", \"mcname\": \"\\u9031\\u520a\\u5c11\\u5e74\\u30c1\\u30e3\\u30f3\\u30d4\\u30aa\\u30f3\", \"count\": 970}, {\"years\": \"1996\", \"mcname\": \"\\u9031\\u520a\\u5c11\\u5e74\\u30de\\u30ac\\u30b8\\u30f3\", \"count\": 1023}, {\"years\": \"1997\", \"mcname\": \"\\u9031\\u520a\\u5c11\\u5e74\\u30b5\\u30f3\\u30c7\\u30fc\", \"count\": 1143}, {\"years\": \"1997\", \"mcname\": \"\\u9031\\u520a\\u5c11\\u5e74\\u30b8\\u30e3\\u30f3\\u30d7\", \"count\": 940}, {\"years\": \"1997\", \"mcname\": \"\\u9031\\u520a\\u5c11\\u5e74\\u30c1\\u30e3\\u30f3\\u30d4\\u30aa\\u30f3\", \"count\": 1050}, {\"years\": \"1997\", \"mcname\": \"\\u9031\\u520a\\u5c11\\u5e74\\u30de\\u30ac\\u30b8\\u30f3\", \"count\": 1069}, {\"years\": \"1998\", \"mcname\": \"\\u9031\\u520a\\u5c11\\u5e74\\u30b5\\u30f3\\u30c7\\u30fc\", \"count\": 1149}, {\"years\": \"1998\", \"mcname\": \"\\u9031\\u520a\\u5c11\\u5e74\\u30b8\\u30e3\\u30f3\\u30d7\", \"count\": 923}, {\"years\": \"1998\", \"mcname\": \"\\u9031\\u520a\\u5c11\\u5e74\\u30c1\\u30e3\\u30f3\\u30d4\\u30aa\\u30f3\", \"count\": 1108}, {\"years\": \"1998\", \"mcname\": \"\\u9031\\u520a\\u5c11\\u5e74\\u30de\\u30ac\\u30b8\\u30f3\", \"count\": 1037}, {\"years\": \"1999\", \"mcname\": \"\\u9031\\u520a\\u5c11\\u5e74\\u30b5\\u30f3\\u30c7\\u30fc\", \"count\": 1156}, {\"years\": \"1999\", \"mcname\": \"\\u9031\\u520a\\u5c11\\u5e74\\u30b8\\u30e3\\u30f3\\u30d7\", \"count\": 947}, {\"years\": \"1999\", \"mcname\": \"\\u9031\\u520a\\u5c11\\u5e74\\u30c1\\u30e3\\u30f3\\u30d4\\u30aa\\u30f3\", \"count\": 1132}, {\"years\": \"1999\", \"mcname\": \"\\u9031\\u520a\\u5c11\\u5e74\\u30de\\u30ac\\u30b8\\u30f3\", \"count\": 1072}, {\"years\": \"2000\", \"mcname\": \"\\u9031\\u520a\\u5c11\\u5e74\\u30b5\\u30f3\\u30c7\\u30fc\", \"count\": 1161}, {\"years\": \"2000\", \"mcname\": \"\\u9031\\u520a\\u5c11\\u5e74\\u30b8\\u30e3\\u30f3\\u30d7\", \"count\": 946}, {\"years\": \"2000\", \"mcname\": \"\\u9031\\u520a\\u5c11\\u5e74\\u30c1\\u30e3\\u30f3\\u30d4\\u30aa\\u30f3\", \"count\": 1145}, {\"years\": \"2000\", \"mcname\": \"\\u9031\\u520a\\u5c11\\u5e74\\u30de\\u30ac\\u30b8\\u30f3\", \"count\": 1090}, {\"years\": \"2001\", \"mcname\": \"\\u9031\\u520a\\u5c11\\u5e74\\u30b5\\u30f3\\u30c7\\u30fc\", \"count\": 1147}, {\"years\": \"2001\", \"mcname\": \"\\u9031\\u520a\\u5c11\\u5e74\\u30b8\\u30e3\\u30f3\\u30d7\", \"count\": 1002}, {\"years\": \"2001\", \"mcname\": \"\\u9031\\u520a\\u5c11\\u5e74\\u30c1\\u30e3\\u30f3\\u30d4\\u30aa\\u30f3\", \"count\": 1165}, {\"years\": \"2001\", \"mcname\": \"\\u9031\\u520a\\u5c11\\u5e74\\u30de\\u30ac\\u30b8\\u30f3\", \"count\": 1075}, {\"years\": \"2002\", \"mcname\": \"\\u9031\\u520a\\u5c11\\u5e74\\u30b5\\u30f3\\u30c7\\u30fc\", \"count\": 1102}, {\"years\": \"2002\", \"mcname\": \"\\u9031\\u520a\\u5c11\\u5e74\\u30b8\\u30e3\\u30f3\\u30d7\", \"count\": 988}, {\"years\": \"2002\", \"mcname\": \"\\u9031\\u520a\\u5c11\\u5e74\\u30c1\\u30e3\\u30f3\\u30d4\\u30aa\\u30f3\", \"count\": 1159}, {\"years\": \"2002\", \"mcname\": \"\\u9031\\u520a\\u5c11\\u5e74\\u30de\\u30ac\\u30b8\\u30f3\", \"count\": 1088}, {\"years\": \"2003\", \"mcname\": \"\\u9031\\u520a\\u5c11\\u5e74\\u30b5\\u30f3\\u30c7\\u30fc\", \"count\": 1097}, {\"years\": \"2003\", \"mcname\": \"\\u9031\\u520a\\u5c11\\u5e74\\u30b8\\u30e3\\u30f3\\u30d7\", \"count\": 980}, {\"years\": \"2003\", \"mcname\": \"\\u9031\\u520a\\u5c11\\u5e74\\u30c1\\u30e3\\u30f3\\u30d4\\u30aa\\u30f3\", \"count\": 1129}, {\"years\": \"2003\", \"mcname\": \"\\u9031\\u520a\\u5c11\\u5e74\\u30de\\u30ac\\u30b8\\u30f3\", \"count\": 1064}, {\"years\": \"2004\", \"mcname\": \"\\u9031\\u520a\\u5c11\\u5e74\\u30b5\\u30f3\\u30c7\\u30fc\", \"count\": 1091}, {\"years\": \"2004\", \"mcname\": \"\\u9031\\u520a\\u5c11\\u5e74\\u30b8\\u30e3\\u30f3\\u30d7\", \"count\": 975}, {\"years\": \"2004\", \"mcname\": \"\\u9031\\u520a\\u5c11\\u5e74\\u30c1\\u30e3\\u30f3\\u30d4\\u30aa\\u30f3\", \"count\": 1162}, {\"years\": \"2004\", \"mcname\": \"\\u9031\\u520a\\u5c11\\u5e74\\u30de\\u30ac\\u30b8\\u30f3\", \"count\": 1130}, {\"years\": \"2005\", \"mcname\": \"\\u9031\\u520a\\u5c11\\u5e74\\u30b5\\u30f3\\u30c7\\u30fc\", \"count\": 1095}, {\"years\": \"2005\", \"mcname\": \"\\u9031\\u520a\\u5c11\\u5e74\\u30b8\\u30e3\\u30f3\\u30d7\", \"count\": 976}, {\"years\": \"2005\", \"mcname\": \"\\u9031\\u520a\\u5c11\\u5e74\\u30c1\\u30e3\\u30f3\\u30d4\\u30aa\\u30f3\", \"count\": 1055}, {\"years\": \"2005\", \"mcname\": \"\\u9031\\u520a\\u5c11\\u5e74\\u30de\\u30ac\\u30b8\\u30f3\", \"count\": 1224}, {\"years\": \"2006\", \"mcname\": \"\\u9031\\u520a\\u5c11\\u5e74\\u30b5\\u30f3\\u30c7\\u30fc\", \"count\": 1157}, {\"years\": \"2006\", \"mcname\": \"\\u9031\\u520a\\u5c11\\u5e74\\u30b8\\u30e3\\u30f3\\u30d7\", \"count\": 1006}, {\"years\": \"2006\", \"mcname\": \"\\u9031\\u520a\\u5c11\\u5e74\\u30c1\\u30e3\\u30f3\\u30d4\\u30aa\\u30f3\", \"count\": 1253}, {\"years\": \"2006\", \"mcname\": \"\\u9031\\u520a\\u5c11\\u5e74\\u30de\\u30ac\\u30b8\\u30f3\", \"count\": 1192}, {\"years\": \"2007\", \"mcname\": \"\\u9031\\u520a\\u5c11\\u5e74\\u30b5\\u30f3\\u30c7\\u30fc\", \"count\": 1125}, {\"years\": \"2007\", \"mcname\": \"\\u9031\\u520a\\u5c11\\u5e74\\u30b8\\u30e3\\u30f3\\u30d7\", \"count\": 1024}, {\"years\": \"2007\", \"mcname\": \"\\u9031\\u520a\\u5c11\\u5e74\\u30c1\\u30e3\\u30f3\\u30d4\\u30aa\\u30f3\", \"count\": 1283}, {\"years\": \"2007\", \"mcname\": \"\\u9031\\u520a\\u5c11\\u5e74\\u30de\\u30ac\\u30b8\\u30f3\", \"count\": 1202}, {\"years\": \"2008\", \"mcname\": \"\\u9031\\u520a\\u5c11\\u5e74\\u30b5\\u30f3\\u30c7\\u30fc\", \"count\": 1209}, {\"years\": \"2008\", \"mcname\": \"\\u9031\\u520a\\u5c11\\u5e74\\u30b8\\u30e3\\u30f3\\u30d7\", \"count\": 1034}, {\"years\": \"2008\", \"mcname\": \"\\u9031\\u520a\\u5c11\\u5e74\\u30c1\\u30e3\\u30f3\\u30d4\\u30aa\\u30f3\", \"count\": 1204}, {\"years\": \"2008\", \"mcname\": \"\\u9031\\u520a\\u5c11\\u5e74\\u30de\\u30ac\\u30b8\\u30f3\", \"count\": 1206}, {\"years\": \"2009\", \"mcname\": \"\\u9031\\u520a\\u5c11\\u5e74\\u30b5\\u30f3\\u30c7\\u30fc\", \"count\": 1291}, {\"years\": \"2009\", \"mcname\": \"\\u9031\\u520a\\u5c11\\u5e74\\u30b8\\u30e3\\u30f3\\u30d7\", \"count\": 1167}, {\"years\": \"2009\", \"mcname\": \"\\u9031\\u520a\\u5c11\\u5e74\\u30c1\\u30e3\\u30f3\\u30d4\\u30aa\\u30f3\", \"count\": 1162}, {\"years\": \"2009\", \"mcname\": \"\\u9031\\u520a\\u5c11\\u5e74\\u30de\\u30ac\\u30b8\\u30f3\", \"count\": 1231}, {\"years\": \"2010\", \"mcname\": \"\\u9031\\u520a\\u5c11\\u5e74\\u30b5\\u30f3\\u30c7\\u30fc\", \"count\": 1170}, {\"years\": \"2010\", \"mcname\": \"\\u9031\\u520a\\u5c11\\u5e74\\u30b8\\u30e3\\u30f3\\u30d7\", \"count\": 1046}, {\"years\": \"2010\", \"mcname\": \"\\u9031\\u520a\\u5c11\\u5e74\\u30c1\\u30e3\\u30f3\\u30d4\\u30aa\\u30f3\", \"count\": 1178}, {\"years\": \"2010\", \"mcname\": \"\\u9031\\u520a\\u5c11\\u5e74\\u30de\\u30ac\\u30b8\\u30f3\", \"count\": 1309}, {\"years\": \"2011\", \"mcname\": \"\\u9031\\u520a\\u5c11\\u5e74\\u30b5\\u30f3\\u30c7\\u30fc\", \"count\": 1154}, {\"years\": \"2011\", \"mcname\": \"\\u9031\\u520a\\u5c11\\u5e74\\u30b8\\u30e3\\u30f3\\u30d7\", \"count\": 916}, {\"years\": \"2011\", \"mcname\": \"\\u9031\\u520a\\u5c11\\u5e74\\u30c1\\u30e3\\u30f3\\u30d4\\u30aa\\u30f3\", \"count\": 1151}, {\"years\": \"2011\", \"mcname\": \"\\u9031\\u520a\\u5c11\\u5e74\\u30de\\u30ac\\u30b8\\u30f3\", \"count\": 1285}, {\"years\": \"2012\", \"mcname\": \"\\u9031\\u520a\\u5c11\\u5e74\\u30b5\\u30f3\\u30c7\\u30fc\", \"count\": 1178}, {\"years\": \"2012\", \"mcname\": \"\\u9031\\u520a\\u5c11\\u5e74\\u30b8\\u30e3\\u30f3\\u30d7\", \"count\": 1083}, {\"years\": \"2012\", \"mcname\": \"\\u9031\\u520a\\u5c11\\u5e74\\u30c1\\u30e3\\u30f3\\u30d4\\u30aa\\u30f3\", \"count\": 1145}, {\"years\": \"2012\", \"mcname\": \"\\u9031\\u520a\\u5c11\\u5e74\\u30de\\u30ac\\u30b8\\u30f3\", \"count\": 1280}, {\"years\": \"2013\", \"mcname\": \"\\u9031\\u520a\\u5c11\\u5e74\\u30b5\\u30f3\\u30c7\\u30fc\", \"count\": 1236}, {\"years\": \"2013\", \"mcname\": \"\\u9031\\u520a\\u5c11\\u5e74\\u30b8\\u30e3\\u30f3\\u30d7\", \"count\": 1073}, {\"years\": \"2013\", \"mcname\": \"\\u9031\\u520a\\u5c11\\u5e74\\u30c1\\u30e3\\u30f3\\u30d4\\u30aa\\u30f3\", \"count\": 1098}, {\"years\": \"2013\", \"mcname\": \"\\u9031\\u520a\\u5c11\\u5e74\\u30de\\u30ac\\u30b8\\u30f3\", \"count\": 1259}, {\"years\": \"2014\", \"mcname\": \"\\u9031\\u520a\\u5c11\\u5e74\\u30b5\\u30f3\\u30c7\\u30fc\", \"count\": 1258}, {\"years\": \"2014\", \"mcname\": \"\\u9031\\u520a\\u5c11\\u5e74\\u30b8\\u30e3\\u30f3\\u30d7\", \"count\": 1165}, {\"years\": \"2014\", \"mcname\": \"\\u9031\\u520a\\u5c11\\u5e74\\u30c1\\u30e3\\u30f3\\u30d4\\u30aa\\u30f3\", \"count\": 1073}, {\"years\": \"2014\", \"mcname\": \"\\u9031\\u520a\\u5c11\\u5e74\\u30de\\u30ac\\u30b8\\u30f3\", \"count\": 1257}, {\"years\": \"2015\", \"mcname\": \"\\u9031\\u520a\\u5c11\\u5e74\\u30b5\\u30f3\\u30c7\\u30fc\", \"count\": 1385}, {\"years\": \"2015\", \"mcname\": \"\\u9031\\u520a\\u5c11\\u5e74\\u30b8\\u30e3\\u30f3\\u30d7\", \"count\": 1047}, {\"years\": \"2015\", \"mcname\": \"\\u9031\\u520a\\u5c11\\u5e74\\u30c1\\u30e3\\u30f3\\u30d4\\u30aa\\u30f3\", \"count\": 1051}, {\"years\": \"2015\", \"mcname\": \"\\u9031\\u520a\\u5c11\\u5e74\\u30de\\u30ac\\u30b8\\u30f3\", \"count\": 1225}, {\"years\": \"2016\", \"mcname\": \"\\u9031\\u520a\\u5c11\\u5e74\\u30b5\\u30f3\\u30c7\\u30fc\", \"count\": 1243}, {\"years\": \"2016\", \"mcname\": \"\\u9031\\u520a\\u5c11\\u5e74\\u30b8\\u30e3\\u30f3\\u30d7\", \"count\": 1053}, {\"years\": \"2016\", \"mcname\": \"\\u9031\\u520a\\u5c11\\u5e74\\u30c1\\u30e3\\u30f3\\u30d4\\u30aa\\u30f3\", \"count\": 1087}, {\"years\": \"2016\", \"mcname\": \"\\u9031\\u520a\\u5c11\\u5e74\\u30de\\u30ac\\u30b8\\u30f3\", \"count\": 1219}, {\"years\": \"2017\", \"mcname\": \"\\u9031\\u520a\\u5c11\\u5e74\\u30b5\\u30f3\\u30c7\\u30fc\", \"count\": 652}, {\"years\": \"2017\", \"mcname\": \"\\u9031\\u520a\\u5c11\\u5e74\\u30b8\\u30e3\\u30f3\\u30d7\", \"count\": 574}, {\"years\": \"2017\", \"mcname\": \"\\u9031\\u520a\\u5c11\\u5e74\\u30c1\\u30e3\\u30f3\\u30d4\\u30aa\\u30f3\", \"count\": 580}, {\"years\": \"2017\", \"mcname\": \"\\u9031\\u520a\\u5c11\\u5e74\\u30de\\u30ac\\u30b8\\u30f3\", \"count\": 670}]}}, {\"mode\": \"vega-lite\"});\n",
       "</script>"
      ],
      "text/plain": [
       "alt.Chart(...)"
      ]
     },
     "execution_count": 111,
     "metadata": {},
     "output_type": "execute_result"
    }
   ],
   "source": [
    "chart"
   ]
  },
  {
   "cell_type": "markdown",
   "id": "1b913932",
   "metadata": {},
   "source": [
    "---\n",
    "\n",
    "この演習は以上です。"
   ]
  }
 ],
 "metadata": {
  "kernelspec": {
   "display_name": ".venv",
   "language": "python",
   "name": "python3"
  },
  "language_info": {
   "codemirror_mode": {
    "name": "ipython",
    "version": 3
   },
   "file_extension": ".py",
   "mimetype": "text/x-python",
   "name": "python",
   "nbconvert_exporter": "python",
   "pygments_lexer": "ipython3",
   "version": "3.12.3"
  }
 },
 "nbformat": 4,
 "nbformat_minor": 5
}
