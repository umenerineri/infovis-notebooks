{
 "cells": [
  {
   "cell_type": "markdown",
   "id": "f3ef3f1e",
   "metadata": {},
   "source": [
    "# テキストデータの可視化の練習"
   ]
  },
  {
   "cell_type": "markdown",
   "id": "8261732d",
   "metadata": {},
   "source": [
    "『三四郎』は、夏目漱石の前記三部作と呼ばれる作品群の一部です。\n",
    "\n",
    "[『三四郎』](https://www.aozora.gr.jp/cards/000148/card794.html)（1909）・[『それから』](https://www.aozora.gr.jp/cards/000148/card1746.html)（1909）・[『門』](https://www.aozora.gr.jp/cards/000148/card785.html)（1910）の三部作を一つのコーパスとしてまとめて分析してみましょう。\n",
    "\n",
    "『三四郎』だけの分析と比べると、どのような特徴が出てくるでしょうか？"
   ]
  },
  {
   "cell_type": "markdown",
   "id": "e0a12dcf",
   "metadata": {},
   "source": [
    "## データの用意"
   ]
  },
  {
   "cell_type": "code",
   "execution_count": 1,
   "id": "0f4004e2",
   "metadata": {},
   "outputs": [
    {
     "name": "stdout",
     "output_type": "stream",
     "text": [
      "--2022-11-10 12:03:59--  https://www.aozora.gr.jp/cards/000148/files/794_ruby_4237.zip\n",
      "Resolving www.aozora.gr.jp (www.aozora.gr.jp)... 59.106.13.115\n",
      "Connecting to www.aozora.gr.jp (www.aozora.gr.jp)|59.106.13.115|:443... connected.\n",
      "HTTP request sent, awaiting response... 200 OK\n",
      "Length: 158711 (155K) [application/zip]\n",
      "Saving to: ‘794_ruby_4237.zip.1’\n",
      "\n",
      "794_ruby_4237.zip.1 100%[===================>] 154.99K  --.-KB/s    in 0.04s   \n",
      "\n",
      "2022-11-10 12:03:59 (4.21 MB/s) - ‘794_ruby_4237.zip.1’ saved [158711/158711]\n",
      "\n",
      "--2022-11-10 12:03:59--  https://www.aozora.gr.jp/cards/000148/files/1746_ruby_18324.zip\n",
      "Resolving www.aozora.gr.jp (www.aozora.gr.jp)... 59.106.13.115\n",
      "Connecting to www.aozora.gr.jp (www.aozora.gr.jp)|59.106.13.115|:443... connected.\n",
      "HTTP request sent, awaiting response... 200 OK\n",
      "Length: 202267 (198K) [application/zip]\n",
      "Saving to: ‘1746_ruby_18324.zip’\n",
      "\n",
      "1746_ruby_18324.zip 100%[===================>] 197.53K  --.-KB/s    in 0.07s   \n",
      "\n",
      "2022-11-10 12:03:59 (2.75 MB/s) - ‘1746_ruby_18324.zip’ saved [202267/202267]\n",
      "\n",
      "--2022-11-10 12:03:59--  https://www.aozora.gr.jp/cards/000148/files/785_ruby_1656.zip\n",
      "Resolving www.aozora.gr.jp (www.aozora.gr.jp)... 59.106.13.115\n",
      "Connecting to www.aozora.gr.jp (www.aozora.gr.jp)|59.106.13.115|:443... connected.\n",
      "HTTP request sent, awaiting response... 200 OK\n",
      "Length: 151079 (148K) [application/zip]\n",
      "Saving to: ‘785_ruby_1656.zip’\n",
      "\n",
      "785_ruby_1656.zip   100%[===================>] 147.54K  --.-KB/s    in 0.05s   \n",
      "\n",
      "2022-11-10 12:03:59 (2.65 MB/s) - ‘785_ruby_1656.zip’ saved [151079/151079]\n",
      "\n",
      "Archive:  794_ruby_4237.zip\n",
      "  inflating: text/sanshiro.txt       \n",
      "Archive:  1746_ruby_18324.zip\n",
      "Made with WinArchiver Lite (http://www.tida.bz/macwinzipper)\n",
      "  inflating: text/sorekara.txt       \n",
      "Archive:  785_ruby_1656.zip\n",
      "  inflating: text/mon.txt            \n"
     ]
    }
   ],
   "source": [
    "# ファイルをダウンロードする\n",
    "!wget https://www.aozora.gr.jp/cards/000148/files/794_ruby_4237.zip\n",
    "!wget https://www.aozora.gr.jp/cards/000148/files/1746_ruby_18324.zip\n",
    "!wget https://www.aozora.gr.jp/cards/000148/files/785_ruby_1656.zip\n",
    "# textフォルダ作る\n",
    "!mkdir -p text\n",
    "# ファイルをtextフォルダに解凍\n",
    "!unzip -d text -o 794_ruby_4237.zip\n",
    "!unzip -d text -o 1746_ruby_18324.zip\n",
    "!unzip -d text -o 785_ruby_1656.zip"
   ]
  },
  {
   "cell_type": "code",
   "execution_count": 2,
   "id": "c4512e6d",
   "metadata": {},
   "outputs": [],
   "source": [
    "# 青空文庫の記法を削除する\n",
    "\n",
    "import re\n",
    "\n",
    "input_fn = \"text/sanshiro.txt\"\n",
    "output_fn = \"text/sanshiro.stripruby.txt\"\n",
    "\n",
    "with open(input_fn, encoding=\"shift_jis\") as fin, open(output_fn, mode=\"w\") as fout:\n",
    "    for line in fin:\n",
    "        fout.write(re.sub(r\"《[^》]+》|［[^］]+］|〔[^〕]+〕| [｜]\", \"\", line))"
   ]
  },
  {
   "cell_type": "code",
   "execution_count": 8,
   "id": "eb27b025",
   "metadata": {},
   "outputs": [],
   "source": [
    "input_fn = \"text/sorekara.txt\"\n",
    "output_fn = \"text/sorekara.stripruby.txt\"\n",
    "\n",
    "with open(input_fn, encoding=\"shift_jis\") as fin, open(output_fn, mode=\"w\") as fout:\n",
    "    for line in fin:\n",
    "        fout.write(re.sub(r\"《[^》]+》|［[^］]+］|〔[^〕]+〕| [｜]\", \"\", line))"
   ]
  },
  {
   "cell_type": "code",
   "execution_count": 4,
   "id": "8aa4a898",
   "metadata": {},
   "outputs": [],
   "source": [
    "input_fn = \"text/mon.txt\"\n",
    "output_fn = \"text/mon.stripruby.txt\"\n",
    "\n",
    "with open(input_fn, encoding=\"shift_jis\") as fin, open(output_fn, mode=\"w\") as fout:\n",
    "    for line in fin:\n",
    "        fout.write(re.sub(r\"《[^》]+》|［[^］]+］|〔[^〕]+〕| [｜]\", \"\", line))"
   ]
  },
  {
   "cell_type": "code",
   "execution_count": null,
   "id": "c8bfff10",
   "metadata": {},
   "outputs": [],
   "source": [
    "import sys\n",
    "\n",
    "# 冒頭と末尾の説明を取り除く（何行取り除くかは目視で確認）\n",
    "\n",
    "if sys.platform == \"darwin\":\n",
    "    !brew install coreutils\n",
    "    !tail -n +22 text/sanshiro.stripruby.txt | ghead -n -14 > text/sanshiro.corpus.txt\n",
    "else:\n",
    "    !tail -n +22 text/sanshiro.stripruby.txt | head -n -14 > text/sanshiro.corpus.txt"
   ]
  },
  {
   "cell_type": "code",
   "execution_count": null,
   "id": "ecadd9b1",
   "metadata": {},
   "outputs": [],
   "source": [
    "if sys.platform == \"darwin\":\n",
    "    !brew install coreutils\n",
    "    !tail -n +22 text/sorekara.stripruby.txt | ghead -n -14 > text/sorekara.corpus.txt\n",
    "else:\n",
    "    !tail -n +22 text/sorekara.stripruby.txt | head -n -14 > text/sorekara.corpus.txt"
   ]
  },
  {
   "cell_type": "code",
   "execution_count": null,
   "id": "5486ccee",
   "metadata": {},
   "outputs": [],
   "source": [
    "if sys.platform == \"darwin\":\n",
    "    !brew install coreutils\n",
    "    !tail -n +18 text/mon.stripruby.txt | ghead -n -14 > text/mon.corpus.txt\n",
    "else:\n",
    "    !tail -n +18 text/mon.stripruby.txt | head -n -14 > text/mon.corpus.txt"
   ]
  },
  {
   "cell_type": "code",
   "execution_count": 15,
   "id": "b7ef2963",
   "metadata": {},
   "outputs": [],
   "source": [
    "# 3つのファイルを統合する\n",
    "\n",
    "!cat text/sanshiro.corpus.txt text/sorekara.corpus.txt text/mon.corpus.txt > text/all.corpus.txt"
   ]
  },
  {
   "cell_type": "markdown",
   "id": "830bd4e0",
   "metadata": {},
   "source": [
    "これで、三作品をまとめて分析する準備ができました。\n",
    "\n",
    "演習の内容を参考にして、ワードクラウド、共起ネットワーク、共起ヒートマップを作ってみましょう。"
   ]
  },
  {
   "cell_type": "markdown",
   "id": "e985a215",
   "metadata": {},
   "source": [
    "## ワードクラウド"
   ]
  },
  {
   "cell_type": "code",
   "execution_count": 16,
   "id": "e6e0941c",
   "metadata": {},
   "outputs": [],
   "source": [
    "# your code goes here"
   ]
  },
  {
   "cell_type": "markdown",
   "id": "018a9cb3",
   "metadata": {},
   "source": [
    "## 共起ネットワーク"
   ]
  },
  {
   "cell_type": "code",
   "execution_count": 17,
   "id": "a6307261",
   "metadata": {},
   "outputs": [],
   "source": [
    "# your code goes here"
   ]
  },
  {
   "cell_type": "markdown",
   "id": "d7ac0ae4",
   "metadata": {},
   "source": [
    "## 共起ヒートマップ"
   ]
  },
  {
   "cell_type": "code",
   "execution_count": 18,
   "id": "f4ad17ad",
   "metadata": {},
   "outputs": [],
   "source": [
    "# your code goes here"
   ]
  }
 ],
 "metadata": {
  "kernelspec": {
   "display_name": "Python 3 (ipykernel)",
   "language": "python",
   "name": "python3"
  },
  "language_info": {
   "codemirror_mode": {
    "name": "ipython",
    "version": 3
   },
   "file_extension": ".py",
   "mimetype": "text/x-python",
   "name": "python",
   "nbconvert_exporter": "python",
   "pygments_lexer": "ipython3",
   "version": "3.10.0"
  }
 },
 "nbformat": 4,
 "nbformat_minor": 5
}
