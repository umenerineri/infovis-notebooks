{
 "cells": [
  {
   "cell_type": "markdown",
   "metadata": {},
   "source": [
    "## お笑い（特に漫才）のテキストデータ分析\n",
    "\n",
    "### 問い\n",
    "\n",
    "1. 関西と関東で言葉の言い回しが違う？\n",
    "    1. 関西は単純な言葉とノリで、関東はひねった言い回し？\n",
    "2. 各芸人のネタを共起ネットワークに起こしてみると、芸人によって何か特徴が見られるか\n",
    "3. ...\n",
    "\n",
    "漫才のデータ分析をした記事もあったので参考にする。\n",
    "感情分析はちょっと面白そう\n",
    "- [データ分析で、M-1グランプリの\"高得点パターン\"を探してみた](https://note.com/natto_nebaneba/n/n11b4229f8b19)\n",
    "\n",
    "\n",
    "### データの用意\n",
    "\n",
    "ネタ台本の書き起こしをしているサイトからとってくる\n",
    "\n",
    "- https://himapucchi.com/\n",
    "- https://comedy.shivatax.com/category/manzaiwrite/\n",
    "- https://manzaidaihon.com/\n",
    "- https://bukiyo30.hateblo.jp/\n",
    "- https://waraitext.com/\n",
    "- https://hansode5.com/category/comedy-english/manzai/\n",
    "\n",
    "\n"
   ]
  },
  {
   "cell_type": "markdown",
   "metadata": {},
   "source": [
    "# Code"
   ]
  },
  {
   "cell_type": "markdown",
   "metadata": {},
   "source": [
    "## スクレイピング"
   ]
  },
  {
   "cell_type": "markdown",
   "metadata": {},
   "source": [
    "https://himapucchi.com/\n",
    "のスクレイピング"
   ]
  },
  {
   "cell_type": "code",
   "execution_count": 3,
   "metadata": {},
   "outputs": [],
   "source": [
    "import os\n",
    "import csv\n",
    "import requests\n",
    "from bs4 import BeautifulSoup\n",
    "import pandas as pd\n",
    "import time"
   ]
  },
  {
   "cell_type": "code",
   "execution_count": 29,
   "metadata": {},
   "outputs": [
    {
     "name": "stdout",
     "output_type": "stream",
     "text": [
      "True\n",
      "True\n"
     ]
    }
   ],
   "source": [
    "# フォルダ\n",
    "folder_name_raw = './data/raw'\n",
    "print(os.path.exists(folder_name_raw))\n",
    "\n",
    "folder_name_tidy = \"./data/tidy\"\n",
    "print(os.path.exists(folder_name_tidy))"
   ]
  },
  {
   "cell_type": "code",
   "execution_count": 21,
   "metadata": {},
   "outputs": [],
   "source": [
    "root_url = \"https://himapucchi.com/\""
   ]
  },
  {
   "cell_type": "code",
   "execution_count": 22,
   "metadata": {},
   "outputs": [
    {
     "data": {
      "text/plain": [
       "['https://himapucchi.com/',\n",
       " 'https://himapucchi.com/page/2',\n",
       " 'https://himapucchi.com/page/3',\n",
       " 'https://himapucchi.com/page/4',\n",
       " 'https://himapucchi.com/page/5',\n",
       " 'https://himapucchi.com/page/6',\n",
       " 'https://himapucchi.com/page/7',\n",
       " 'https://himapucchi.com/page/8',\n",
       " 'https://himapucchi.com/page/9',\n",
       " 'https://himapucchi.com/page/10',\n",
       " 'https://himapucchi.com/page/11',\n",
       " 'https://himapucchi.com/page/12',\n",
       " 'https://himapucchi.com/page/13',\n",
       " 'https://himapucchi.com/page/14',\n",
       " 'https://himapucchi.com/page/15',\n",
       " 'https://himapucchi.com/page/16',\n",
       " 'https://himapucchi.com/page/17']"
      ]
     },
     "execution_count": 22,
     "metadata": {},
     "output_type": "execute_result"
    }
   ],
   "source": [
    "# 17ページに分かれているのでlistを作成\n",
    "\n",
    "crawl_list = []\n",
    "crawl_list.append(root_url)\n",
    "\n",
    "for i in range(16):\n",
    "    crawl_list.append(f\"{root_url}page/{i+2}\")\n",
    "\n",
    "crawl_list"
   ]
  },
  {
   "cell_type": "code",
   "execution_count": 23,
   "metadata": {},
   "outputs": [],
   "source": [
    "# <a>のlistを引数に、<a>内のURLとtitleを取得しdict listを返す\n",
    "def extract_url_title_himapucchi(a_list):\n",
    "    page_url_title = []\n",
    "    for content in a_list:\n",
    "        url = content.get('href')  # href属性を取得\n",
    "        title = content.get(\"title\")  # titleを取得\n",
    "        page_url_title.append({\"page_url\": url, \"title\": title})\n",
    "    return page_url_title\n"
   ]
  },
  {
   "cell_type": "code",
   "execution_count": 24,
   "metadata": {},
   "outputs": [],
   "source": [
    "# User-Agent の設定\n",
    "dummy_user_agent = 'Mozilla/5.0 (Windows NT 6.1; Win64; x64; rv:47.0) Gecko/20100101 Firefox/47.0'\n"
   ]
  },
  {
   "cell_type": "code",
   "execution_count": 27,
   "metadata": {},
   "outputs": [],
   "source": [
    "# htmlリクエスト & soup\n",
    "\n",
    "page_url_title = []\n",
    "\n",
    "for crawl_url in crawl_list:\n",
    "    response = requests.get(crawl_url, headers={\"User-Agent\": dummy_user_agent}, timeout=10)\n",
    "    soup = BeautifulSoup(response.text, \"html.parser\")\n",
    "\n",
    "    page_list = soup.select(\"#main > #list > a\")\n",
    "    page_url_title.extend(extract_url_title_himapucchi(page_list))\n",
    "\n",
    "    time.sleep(3) # 負荷軽減\n"
   ]
  },
  {
   "cell_type": "code",
   "execution_count": 28,
   "metadata": {},
   "outputs": [
    {
     "data": {
      "text/html": [
       "<div>\n",
       "<style scoped>\n",
       "    .dataframe tbody tr th:only-of-type {\n",
       "        vertical-align: middle;\n",
       "    }\n",
       "\n",
       "    .dataframe tbody tr th {\n",
       "        vertical-align: top;\n",
       "    }\n",
       "\n",
       "    .dataframe thead th {\n",
       "        text-align: right;\n",
       "    }\n",
       "</style>\n",
       "<table border=\"1\" class=\"dataframe\">\n",
       "  <thead>\n",
       "    <tr style=\"text-align: right;\">\n",
       "      <th></th>\n",
       "      <th>page_url</th>\n",
       "      <th>title</th>\n",
       "    </tr>\n",
       "  </thead>\n",
       "  <tbody>\n",
       "    <tr>\n",
       "      <th>0</th>\n",
       "      <td>https://himapucchi.com/m2023-final-kurage/</td>\n",
       "      <td>【M-1グランプリ2023 1stラウンド】くらげ「物忘れ」</td>\n",
       "    </tr>\n",
       "    <tr>\n",
       "      <th>1</th>\n",
       "      <td>https://himapucchi.com/m2023-final-danbira/</td>\n",
       "      <td>【M-1グランプリ2023 1stラウンド】ダンビラムーチョ「カラオケボックス」</td>\n",
       "    </tr>\n",
       "    <tr>\n",
       "      <th>2</th>\n",
       "      <td>https://himapucchi.com/m2023-final-shinkujeshika/</td>\n",
       "      <td>【M-1グランプリ2023 1stラウンド】真空ジェシカ「B画館」</td>\n",
       "    </tr>\n",
       "    <tr>\n",
       "      <th>3</th>\n",
       "      <td>https://himapucchi.com/m2023-final-mayurika/</td>\n",
       "      <td>【M-1グランプリ2023 1stラウンド】マユリカ「倦怠期」</td>\n",
       "    </tr>\n",
       "    <tr>\n",
       "      <th>4</th>\n",
       "      <td>https://himapucchi.com/m2023-final-kabeposutar/</td>\n",
       "      <td>【M-1グランプリ2023 1stラウンド】カベポスター「おまじない」</td>\n",
       "    </tr>\n",
       "    <tr>\n",
       "      <th>...</th>\n",
       "      <td>...</td>\n",
       "      <td>...</td>\n",
       "    </tr>\n",
       "    <tr>\n",
       "      <th>163</th>\n",
       "      <td>https://himapucchi.com/m2019first-milkboy/</td>\n",
       "      <td>【M-1グランプリ2019 1stラウンド】&lt;br&gt;ミルクボーイ「コーンフレーク」</td>\n",
       "    </tr>\n",
       "    <tr>\n",
       "      <th>164</th>\n",
       "      <td>https://himapucchi.com/m2019first-kamaitachi/</td>\n",
       "      <td>【M-1グランプリ2019 1stラウンド】&lt;br&gt;かまいたち「UFJ」</td>\n",
       "    </tr>\n",
       "    <tr>\n",
       "      <th>165</th>\n",
       "      <td>https://himapucchi.com/m2019final-milkboy/</td>\n",
       "      <td>【M-1グランプリ2019 最終決戦】&lt;br&gt;ミルクボーイ「最中」</td>\n",
       "    </tr>\n",
       "    <tr>\n",
       "      <th>166</th>\n",
       "      <td>https://himapucchi.com/m2019final-kamaitachi/</td>\n",
       "      <td>【M-1グランプリ2019 最終決戦】&lt;br&gt;かまいたち「トトロ」</td>\n",
       "    </tr>\n",
       "    <tr>\n",
       "      <th>167</th>\n",
       "      <td>https://himapucchi.com/m2019final-pekopa/</td>\n",
       "      <td>【M-1グランプリ2019 最終決戦】&lt;br&gt;ぺこぱ「お年寄り」</td>\n",
       "    </tr>\n",
       "  </tbody>\n",
       "</table>\n",
       "<p>168 rows × 2 columns</p>\n",
       "</div>"
      ],
      "text/plain": [
       "                                              page_url  \\\n",
       "0           https://himapucchi.com/m2023-final-kurage/   \n",
       "1          https://himapucchi.com/m2023-final-danbira/   \n",
       "2    https://himapucchi.com/m2023-final-shinkujeshika/   \n",
       "3         https://himapucchi.com/m2023-final-mayurika/   \n",
       "4      https://himapucchi.com/m2023-final-kabeposutar/   \n",
       "..                                                 ...   \n",
       "163         https://himapucchi.com/m2019first-milkboy/   \n",
       "164      https://himapucchi.com/m2019first-kamaitachi/   \n",
       "165         https://himapucchi.com/m2019final-milkboy/   \n",
       "166      https://himapucchi.com/m2019final-kamaitachi/   \n",
       "167          https://himapucchi.com/m2019final-pekopa/   \n",
       "\n",
       "                                         title  \n",
       "0               【M-1グランプリ2023 1stラウンド】くらげ「物忘れ」  \n",
       "1     【M-1グランプリ2023 1stラウンド】ダンビラムーチョ「カラオケボックス」  \n",
       "2            【M-1グランプリ2023 1stラウンド】真空ジェシカ「B画館」  \n",
       "3              【M-1グランプリ2023 1stラウンド】マユリカ「倦怠期」  \n",
       "4         【M-1グランプリ2023 1stラウンド】カベポスター「おまじない」　  \n",
       "..                                         ...  \n",
       "163  【M-1グランプリ2019 1stラウンド】<br>ミルクボーイ「コーンフレーク」  \n",
       "164       【M-1グランプリ2019 1stラウンド】<br>かまいたち「UFJ」  \n",
       "165          【M-1グランプリ2019 最終決戦】<br>ミルクボーイ「最中」  \n",
       "166          【M-1グランプリ2019 最終決戦】<br>かまいたち「トトロ」  \n",
       "167           【M-1グランプリ2019 最終決戦】<br>ぺこぱ「お年寄り」  \n",
       "\n",
       "[168 rows x 2 columns]"
      ]
     },
     "execution_count": 28,
     "metadata": {},
     "output_type": "execute_result"
    }
   ],
   "source": [
    "page_df = pd.DataFrame(page_url_title)\n",
    "page_df"
   ]
  },
  {
   "cell_type": "code",
   "execution_count": 31,
   "metadata": {},
   "outputs": [],
   "source": [
    "# いったんcsvに保存\n",
    "page_df.to_csv(os.path.join(folder_name_raw, \"page_url_title.csv\"), index=False)"
   ]
  },
  {
   "cell_type": "code",
   "execution_count": null,
   "metadata": {},
   "outputs": [],
   "source": []
  }
 ],
 "metadata": {
  "kernelspec": {
   "display_name": "Python 3",
   "language": "python",
   "name": "python3"
  },
  "language_info": {
   "codemirror_mode": {
    "name": "ipython",
    "version": 3
   },
   "file_extension": ".py",
   "mimetype": "text/x-python",
   "name": "python",
   "nbconvert_exporter": "python",
   "pygments_lexer": "ipython3",
   "version": "3.8.7"
  }
 },
 "nbformat": 4,
 "nbformat_minor": 2
}
