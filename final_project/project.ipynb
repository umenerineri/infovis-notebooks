{
 "cells": [
  {
   "cell_type": "markdown",
   "metadata": {},
   "source": [
    "## お笑い（特に漫才）のテキストデータ分析\n",
    "\n",
    "### 問い\n",
    "\n",
    "1. 関西と関東で言葉の言い回しが違う？\n",
    "    1. 関西は単純な言葉とノリで、関東はひねった言い回し？\n",
    "2. 各芸人のネタを共起ネットワークに起こしてみると、芸人によって何か特徴が見られるか\n",
    "3. ...\n",
    "\n",
    "漫才のデータ分析をした記事もあったので参考にする。\n",
    "感情分析はちょっと面白そう\n",
    "- [データ分析で、M-1グランプリの\"高得点パターン\"を探してみた](https://note.com/natto_nebaneba/n/n11b4229f8b19)\n",
    "\n",
    "\n",
    "### データの用意\n",
    "\n",
    "ネタ台本の書き起こしをしているサイトからとってくる\n",
    "\n",
    "- https://himapucchi.com/\n",
    "- https://comedy.shivatax.com/category/manzaiwrite/\n",
    "- https://manzaidaihon.com/\n",
    "- https://bukiyo30.hateblo.jp/\n",
    "- https://waraitext.com/\n",
    "- https://hansode5.com/category/comedy-english/manzai/\n",
    "\n",
    "\n"
   ]
  }
 ],
 "metadata": {
  "language_info": {
   "name": "python"
  }
 },
 "nbformat": 4,
 "nbformat_minor": 2
}
