{
 "cells": [
  {
   "cell_type": "markdown",
   "id": "1ce2014f",
   "metadata": {},
   "source": [
    "# Pandasの復習"
   ]
  },
  {
   "cell_type": "markdown",
   "id": "b975bbbd",
   "metadata": {},
   "source": [
    "練習問題は、[gotty21/basic_pandas-64-knocks](https://github.com/gotty21/basic_pandas-64-knocks)をから抜粋しました。\n",
    "\n",
    "公式ドキュメントを参照しながら解いてください。\n",
    "\n",
    "* [10 minutes to pandas](https://pandas.pydata.org/docs/user_guide/10min.html)\n",
    "* [pandas documentation](https://pandas.pydata.org/docs/index.html)"
   ]
  },
  {
   "cell_type": "markdown",
   "id": "696241aa",
   "metadata": {},
   "source": [
    "## 事前準備\n",
    "\n",
    "データフレームを初期化するための関数`initialize()`を作ります。作業前にこの2つのセルを実行しましょう。\n",
    "\n",
    "`openpyxl`はExcelファイルの読み込みに必要です。必要に応じてインストールしてください。"
   ]
  },
  {
   "cell_type": "code",
   "execution_count": 1,
   "id": "c423312a",
   "metadata": {},
   "outputs": [
    {
     "name": "stdout",
     "output_type": "stream",
     "text": [
      "Collecting openpyxlNote: you may need to restart the kernel to use updated packages.\n",
      "\n",
      "  Downloading openpyxl-3.1.5-py2.py3-none-any.whl.metadata (2.5 kB)\n",
      "Collecting et-xmlfile (from openpyxl)\n",
      "  Downloading et_xmlfile-2.0.0-py3-none-any.whl.metadata (2.7 kB)\n",
      "Downloading openpyxl-3.1.5-py2.py3-none-any.whl (250 kB)\n",
      "Downloading et_xmlfile-2.0.0-py3-none-any.whl (18 kB)\n",
      "Installing collected packages: et-xmlfile, openpyxl\n",
      "Successfully installed et-xmlfile-2.0.0 openpyxl-3.1.5\n"
     ]
    }
   ],
   "source": [
    "%pip install openpyxl"
   ]
  },
  {
   "cell_type": "code",
   "execution_count": 2,
   "id": "ce977eda",
   "metadata": {},
   "outputs": [],
   "source": [
    "import pandas as pd\n",
    "\n",
    "def initialize(flag=0):\n",
    "    if flag == 0:\n",
    "        return pd.read_csv(\"./data/main.csv\")\n",
    "    if flag == 1:\n",
    "        return pd.read_csv(\"./data/add.csv\")\n",
    "    if flag == 2:\n",
    "        return pd.read_excel(\"./data/data.xlsx\")\n",
    "    else:\n",
    "        print(\"Please specify numbers between 0 to 2.\")\n",
    "        return None"
   ]
  },
  {
   "cell_type": "markdown",
   "id": "22c29118",
   "metadata": {},
   "source": [
    "## データの読み込み・確認"
   ]
  },
  {
   "cell_type": "markdown",
   "id": "1987f54c",
   "metadata": {},
   "source": [
    "### pandasインポート"
   ]
  },
  {
   "cell_type": "markdown",
   "id": "3dfc6363",
   "metadata": {},
   "source": [
    "【演習】pandasライブラリをpdという名前でインポートしてください。"
   ]
  },
  {
   "cell_type": "code",
   "execution_count": 3,
   "id": "5e414fbb",
   "metadata": {},
   "outputs": [],
   "source": [
    "# your code goes here\n",
    "import pandas as pd"
   ]
  },
  {
   "cell_type": "code",
   "execution_count": null,
   "id": "178d85fd-e874-433c-986d-f59601ba5486",
   "metadata": {},
   "outputs": [],
   "source": [
    "# answer\n",
    "\n",
    "import pandas as pd"
   ]
  },
  {
   "cell_type": "markdown",
   "id": "4b6ce1e1",
   "metadata": {},
   "source": [
    "### csvファイルの読み込み"
   ]
  },
  {
   "cell_type": "markdown",
   "id": "bacd9aef",
   "metadata": {},
   "source": [
    "`./data/main.csv`を読み込んでデータフレームを作成し、dfという変数に格納します。"
   ]
  },
  {
   "cell_type": "code",
   "execution_count": 7,
   "id": "8e68cfa9",
   "metadata": {},
   "outputs": [],
   "source": [
    "# your code goes here\n",
    "df = pd.read_csv(\"./data/main.csv\")"
   ]
  },
  {
   "cell_type": "code",
   "execution_count": null,
   "id": "fe05e40e-e8c2-456a-881c-bfb70e5636ac",
   "metadata": {},
   "outputs": [],
   "source": [
    "file = \"./data/main.csv\"\n",
    "df = pd.read_csv(file)"
   ]
  },
  {
   "cell_type": "markdown",
   "id": "407f78e3",
   "metadata": {},
   "source": [
    "【演習】\n",
    "\n",
    "`./data/add.csv`を読み込んでデータフレームを作成し、addという変数に格納してください。\n"
   ]
  },
  {
   "cell_type": "code",
   "execution_count": 8,
   "id": "e3013970",
   "metadata": {},
   "outputs": [],
   "source": [
    "# your code goes here\n",
    "add = pd.read_csv(\"./data/add.csv\")"
   ]
  },
  {
   "cell_type": "markdown",
   "id": "dfdf9f03",
   "metadata": {},
   "source": [
    "### DataFrameのサイズの確認"
   ]
  },
  {
   "cell_type": "markdown",
   "id": "2654bae6",
   "metadata": {},
   "source": [
    "【演習】dfのサイズを確認してください。"
   ]
  },
  {
   "cell_type": "code",
   "execution_count": 9,
   "id": "5f781178",
   "metadata": {},
   "outputs": [],
   "source": [
    "# 次の一行でデータフレームdfを初期化します。演習を行う前に都度実行してください。\n",
    "\n",
    "df = initialize(0)"
   ]
  },
  {
   "cell_type": "code",
   "execution_count": 10,
   "id": "c2ab6932",
   "metadata": {},
   "outputs": [
    {
     "data": {
      "text/plain": [
       "22000"
      ]
     },
     "execution_count": 10,
     "metadata": {},
     "output_type": "execute_result"
    }
   ],
   "source": [
    "# your code goes here\n",
    "df.size"
   ]
  },
  {
   "cell_type": "markdown",
   "id": "11db54d6",
   "metadata": {},
   "source": [
    "### DataFrameのレコード数の確認"
   ]
  },
  {
   "cell_type": "markdown",
   "id": "05bd8397",
   "metadata": {},
   "source": [
    "【演習】dfのレコード数を確認してください。"
   ]
  },
  {
   "cell_type": "code",
   "execution_count": 11,
   "id": "61952204",
   "metadata": {},
   "outputs": [],
   "source": [
    "df = initialize(0)"
   ]
  },
  {
   "cell_type": "code",
   "execution_count": 14,
   "id": "e4c63d44",
   "metadata": {},
   "outputs": [
    {
     "data": {
      "text/plain": [
       "2000"
      ]
     },
     "execution_count": 14,
     "metadata": {},
     "output_type": "execute_result"
    }
   ],
   "source": [
    "# your code goes here\n",
    "row, col = df.shape\n",
    "row"
   ]
  },
  {
   "cell_type": "markdown",
   "id": "544f0663",
   "metadata": {},
   "source": [
    "## ラベル"
   ]
  },
  {
   "cell_type": "markdown",
   "id": "b650bb9b",
   "metadata": {},
   "source": [
    "### DataFrameのカラム名の取得"
   ]
  },
  {
   "cell_type": "markdown",
   "id": "85deac68",
   "metadata": {},
   "source": [
    "【演習】dfのcolumn名をリスト形式で取得してください。"
   ]
  },
  {
   "cell_type": "code",
   "execution_count": 15,
   "id": "48b9e3aa",
   "metadata": {},
   "outputs": [],
   "source": [
    "df = initialize(0)"
   ]
  },
  {
   "cell_type": "code",
   "execution_count": 20,
   "id": "0af01bb9",
   "metadata": {},
   "outputs": [
    {
     "data": {
      "text/plain": [
       "['SK_ID_CURR',\n",
       " 'TARGET',\n",
       " 'NAME_CONTRACT_TYPE',\n",
       " 'CODE_GENDER',\n",
       " 'FLAG_OWN_CAR',\n",
       " 'FLAG_OWN_REALTY',\n",
       " 'CNT_CHILDREN',\n",
       " 'AMT_INCOME_TOTAL',\n",
       " 'FLAG_MOBIL',\n",
       " 'REGION_POPULATION_RELATIVE',\n",
       " 'OWN_CAR_AGE']"
      ]
     },
     "execution_count": 20,
     "metadata": {},
     "output_type": "execute_result"
    }
   ],
   "source": [
    "# your code goes here\n",
    "list(df.columns)"
   ]
  },
  {
   "cell_type": "markdown",
   "id": "2ac32e5d",
   "metadata": {},
   "source": [
    "### DataFrameのカラム名の一部を変更"
   ]
  },
  {
   "cell_type": "markdown",
   "id": "80902595",
   "metadata": {},
   "source": [
    "【演習】dfのcolumn名CODE_GENDERをGENDERに変更してください。"
   ]
  },
  {
   "cell_type": "code",
   "execution_count": 21,
   "id": "10842359",
   "metadata": {},
   "outputs": [],
   "source": [
    "df = initialize(0)"
   ]
  },
  {
   "cell_type": "code",
   "execution_count": 25,
   "id": "228b9165",
   "metadata": {},
   "outputs": [
    {
     "data": {
      "text/plain": [
       "['SK_ID_CURR',\n",
       " 'TARGET',\n",
       " 'NAME_CONTRACT_TYPE',\n",
       " 'GENDER',\n",
       " 'FLAG_OWN_CAR',\n",
       " 'FLAG_OWN_REALTY',\n",
       " 'CNT_CHILDREN',\n",
       " 'AMT_INCOME_TOTAL',\n",
       " 'FLAG_MOBIL',\n",
       " 'REGION_POPULATION_RELATIVE',\n",
       " 'OWN_CAR_AGE']"
      ]
     },
     "execution_count": 25,
     "metadata": {},
     "output_type": "execute_result"
    }
   ],
   "source": [
    "# your code goes here\n",
    "list(df.rename(columns={\"CODE_GENDER\": \"GENDER\"}).columns)"
   ]
  },
  {
   "cell_type": "markdown",
   "id": "e06fa372",
   "metadata": {},
   "source": [
    "### DataFrameのカラム名をすべて変更"
   ]
  },
  {
   "cell_type": "markdown",
   "id": "bee74f7c",
   "metadata": {},
   "source": [
    "【演習】column名をno1～no11というstr型の名前に変更してください。「リスト内包表記」を使用すると簡単です。調べてみてください。"
   ]
  },
  {
   "cell_type": "code",
   "execution_count": 26,
   "id": "6a50c84f",
   "metadata": {},
   "outputs": [],
   "source": [
    "df = initialize(0)"
   ]
  },
  {
   "cell_type": "code",
   "execution_count": 30,
   "id": "99d836d3",
   "metadata": {},
   "outputs": [
    {
     "data": {
      "text/plain": [
       "['no1', 'no2', 'no3', 'no4', 'no5', 'no6', 'no7', 'no8', 'no9', 'no10', 'no11']"
      ]
     },
     "execution_count": 30,
     "metadata": {},
     "output_type": "execute_result"
    }
   ],
   "source": [
    "# your code goes here\n",
    "df.columns = [f\"no{i}\" for i in range(1, 12)]\n",
    "list(df.columns)"
   ]
  },
  {
   "cell_type": "markdown",
   "id": "6cb0e568",
   "metadata": {},
   "source": [
    "## 各列のデータの確認"
   ]
  },
  {
   "cell_type": "markdown",
   "id": "890f3573",
   "metadata": {},
   "source": [
    "###  任意の列のユニーク（一意）な要素を確認"
   ]
  },
  {
   "cell_type": "code",
   "execution_count": 31,
   "id": "88b52b2b",
   "metadata": {},
   "outputs": [],
   "source": [
    "df = initialize(0)"
   ]
  },
  {
   "cell_type": "markdown",
   "id": "e9215b42",
   "metadata": {},
   "source": [
    "【演習】dfのCODE_GENDER列のユニークな要素を確認してください。"
   ]
  },
  {
   "cell_type": "code",
   "execution_count": 33,
   "id": "e4f23025",
   "metadata": {},
   "outputs": [
    {
     "data": {
      "text/plain": [
       "['M', 'F']"
      ]
     },
     "execution_count": 33,
     "metadata": {},
     "output_type": "execute_result"
    }
   ],
   "source": [
    "# your code goes here\n",
    "df[\"CODE_GENDER\"].unique().tolist()"
   ]
  },
  {
   "cell_type": "markdown",
   "id": "9f221198",
   "metadata": {},
   "source": [
    "### 各列のユニークな要素の数を確認"
   ]
  },
  {
   "cell_type": "markdown",
   "id": "d1292901",
   "metadata": {},
   "source": [
    "【演習】dfの各列のユニークな要素の数を出力してください。"
   ]
  },
  {
   "cell_type": "code",
   "execution_count": 34,
   "id": "718505f8",
   "metadata": {},
   "outputs": [],
   "source": [
    "df = initialize(0)"
   ]
  },
  {
   "cell_type": "code",
   "execution_count": 36,
   "id": "27107b6f",
   "metadata": {},
   "outputs": [
    {
     "data": {
      "text/plain": [
       "SK_ID_CURR                    2000\n",
       "TARGET                           2\n",
       "NAME_CONTRACT_TYPE               2\n",
       "CODE_GENDER                      2\n",
       "FLAG_OWN_CAR                     2\n",
       "FLAG_OWN_REALTY                  2\n",
       "CNT_CHILDREN                     5\n",
       "AMT_INCOME_TOTAL               139\n",
       "FLAG_MOBIL                       1\n",
       "REGION_POPULATION_RELATIVE      78\n",
       "OWN_CAR_AGE                     36\n",
       "dtype: int64"
      ]
     },
     "execution_count": 36,
     "metadata": {},
     "output_type": "execute_result"
    }
   ],
   "source": [
    "# your code goes here\n",
    "df.nunique()"
   ]
  },
  {
   "cell_type": "markdown",
   "id": "310b7305",
   "metadata": {},
   "source": [
    "### 任意の列のユニークな要素の数とその出現回数を確認"
   ]
  },
  {
   "cell_type": "markdown",
   "id": "4af8af1f",
   "metadata": {},
   "source": [
    "【演習】dfのCNT_CHILDREN列の要素とその出現回数を確認してください。"
   ]
  },
  {
   "cell_type": "code",
   "execution_count": 37,
   "id": "a81b9e83",
   "metadata": {},
   "outputs": [],
   "source": [
    "df = initialize(0)"
   ]
  },
  {
   "cell_type": "code",
   "execution_count": 39,
   "id": "4d748efb",
   "metadata": {},
   "outputs": [
    {
     "data": {
      "text/plain": [
       "CNT_CHILDREN\n",
       "0    1414\n",
       "1     388\n",
       "2     170\n",
       "3      26\n",
       "4       2\n",
       "Name: count, dtype: int64"
      ]
     },
     "execution_count": 39,
     "metadata": {},
     "output_type": "execute_result"
    }
   ],
   "source": [
    "# your code goes here\n",
    "df[\"CNT_CHILDREN\"].value_counts()"
   ]
  },
  {
   "cell_type": "markdown",
   "id": "1e22284d",
   "metadata": {},
   "source": [
    "## データの取り出し"
   ]
  },
  {
   "cell_type": "markdown",
   "id": "2462e9ab",
   "metadata": {},
   "source": [
    "### 任意の１つの列の取り出し"
   ]
  },
  {
   "cell_type": "markdown",
   "id": "ee2274ad",
   "metadata": {},
   "source": [
    "【演習】dfのTARGETの列のみ表示してください。"
   ]
  },
  {
   "cell_type": "code",
   "execution_count": 40,
   "id": "8f2308b3",
   "metadata": {},
   "outputs": [],
   "source": [
    "df = initialize(0)"
   ]
  },
  {
   "cell_type": "code",
   "execution_count": 42,
   "id": "cdb17ec5",
   "metadata": {},
   "outputs": [
    {
     "data": {
      "text/plain": [
       "0       1\n",
       "1       0\n",
       "2       0\n",
       "3       0\n",
       "4       0\n",
       "       ..\n",
       "1995    1\n",
       "1996    0\n",
       "1997    0\n",
       "1998    0\n",
       "1999    0\n",
       "Name: TARGET, Length: 2000, dtype: int64"
      ]
     },
     "execution_count": 42,
     "metadata": {},
     "output_type": "execute_result"
    }
   ],
   "source": [
    "# your code goes here\n",
    "df[\"TARGET\"]"
   ]
  },
  {
   "cell_type": "markdown",
   "id": "becb08b1",
   "metadata": {},
   "source": [
    "【演習】dfの左から3番目の列のみ表示してください。"
   ]
  },
  {
   "cell_type": "code",
   "execution_count": 43,
   "id": "385d3574",
   "metadata": {},
   "outputs": [],
   "source": [
    "df = initialize(0)"
   ]
  },
  {
   "cell_type": "code",
   "execution_count": 47,
   "id": "424cc741",
   "metadata": {},
   "outputs": [
    {
     "data": {
      "text/plain": [
       "0            Cash loans\n",
       "1            Cash loans\n",
       "2       Revolving loans\n",
       "3            Cash loans\n",
       "4            Cash loans\n",
       "             ...       \n",
       "1995         Cash loans\n",
       "1996         Cash loans\n",
       "1997    Revolving loans\n",
       "1998    Revolving loans\n",
       "1999         Cash loans\n",
       "Name: NAME_CONTRACT_TYPE, Length: 2000, dtype: object"
      ]
     },
     "execution_count": 47,
     "metadata": {},
     "output_type": "execute_result"
    }
   ],
   "source": [
    "# your code goes here\n",
    "df.iloc[:, 2]"
   ]
  },
  {
   "cell_type": "markdown",
   "id": "93952e8b",
   "metadata": {},
   "source": [
    "### 複数の列の取り出し"
   ]
  },
  {
   "cell_type": "markdown",
   "id": "03886ce0",
   "metadata": {},
   "source": [
    "【演習】dfのTARGET列とCODE_GENDER列のみ表示してください。"
   ]
  },
  {
   "cell_type": "code",
   "execution_count": 48,
   "id": "5c835a0e",
   "metadata": {},
   "outputs": [],
   "source": [
    "df = initialize(0)"
   ]
  },
  {
   "cell_type": "code",
   "execution_count": 50,
   "id": "e1b184ee",
   "metadata": {},
   "outputs": [
    {
     "data": {
      "text/html": [
       "<div>\n",
       "<style scoped>\n",
       "    .dataframe tbody tr th:only-of-type {\n",
       "        vertical-align: middle;\n",
       "    }\n",
       "\n",
       "    .dataframe tbody tr th {\n",
       "        vertical-align: top;\n",
       "    }\n",
       "\n",
       "    .dataframe thead th {\n",
       "        text-align: right;\n",
       "    }\n",
       "</style>\n",
       "<table border=\"1\" class=\"dataframe\">\n",
       "  <thead>\n",
       "    <tr style=\"text-align: right;\">\n",
       "      <th></th>\n",
       "      <th>TARGET</th>\n",
       "      <th>CODE_GENDER</th>\n",
       "    </tr>\n",
       "  </thead>\n",
       "  <tbody>\n",
       "    <tr>\n",
       "      <th>0</th>\n",
       "      <td>1</td>\n",
       "      <td>M</td>\n",
       "    </tr>\n",
       "    <tr>\n",
       "      <th>1</th>\n",
       "      <td>0</td>\n",
       "      <td>F</td>\n",
       "    </tr>\n",
       "    <tr>\n",
       "      <th>2</th>\n",
       "      <td>0</td>\n",
       "      <td>M</td>\n",
       "    </tr>\n",
       "    <tr>\n",
       "      <th>3</th>\n",
       "      <td>0</td>\n",
       "      <td>F</td>\n",
       "    </tr>\n",
       "    <tr>\n",
       "      <th>4</th>\n",
       "      <td>0</td>\n",
       "      <td>M</td>\n",
       "    </tr>\n",
       "    <tr>\n",
       "      <th>...</th>\n",
       "      <td>...</td>\n",
       "      <td>...</td>\n",
       "    </tr>\n",
       "    <tr>\n",
       "      <th>1995</th>\n",
       "      <td>1</td>\n",
       "      <td>F</td>\n",
       "    </tr>\n",
       "    <tr>\n",
       "      <th>1996</th>\n",
       "      <td>0</td>\n",
       "      <td>M</td>\n",
       "    </tr>\n",
       "    <tr>\n",
       "      <th>1997</th>\n",
       "      <td>0</td>\n",
       "      <td>F</td>\n",
       "    </tr>\n",
       "    <tr>\n",
       "      <th>1998</th>\n",
       "      <td>0</td>\n",
       "      <td>F</td>\n",
       "    </tr>\n",
       "    <tr>\n",
       "      <th>1999</th>\n",
       "      <td>0</td>\n",
       "      <td>M</td>\n",
       "    </tr>\n",
       "  </tbody>\n",
       "</table>\n",
       "<p>2000 rows × 2 columns</p>\n",
       "</div>"
      ],
      "text/plain": [
       "      TARGET CODE_GENDER\n",
       "0          1           M\n",
       "1          0           F\n",
       "2          0           M\n",
       "3          0           F\n",
       "4          0           M\n",
       "...      ...         ...\n",
       "1995       1           F\n",
       "1996       0           M\n",
       "1997       0           F\n",
       "1998       0           F\n",
       "1999       0           M\n",
       "\n",
       "[2000 rows x 2 columns]"
      ]
     },
     "execution_count": 50,
     "metadata": {},
     "output_type": "execute_result"
    }
   ],
   "source": [
    "# your code goes here\n",
    "df[[\"TARGET\", \"CODE_GENDER\"]]"
   ]
  },
  {
   "cell_type": "markdown",
   "id": "4eaa34bd",
   "metadata": {},
   "source": [
    "【演習】dfのTARGET列とCODE_GENDER列までの列を表示してください。"
   ]
  },
  {
   "cell_type": "code",
   "execution_count": 51,
   "id": "c4ab19c6",
   "metadata": {},
   "outputs": [],
   "source": [
    "df = initialize(0)"
   ]
  },
  {
   "cell_type": "code",
   "execution_count": 53,
   "id": "fd9fcb58",
   "metadata": {},
   "outputs": [
    {
     "data": {
      "text/html": [
       "<div>\n",
       "<style scoped>\n",
       "    .dataframe tbody tr th:only-of-type {\n",
       "        vertical-align: middle;\n",
       "    }\n",
       "\n",
       "    .dataframe tbody tr th {\n",
       "        vertical-align: top;\n",
       "    }\n",
       "\n",
       "    .dataframe thead th {\n",
       "        text-align: right;\n",
       "    }\n",
       "</style>\n",
       "<table border=\"1\" class=\"dataframe\">\n",
       "  <thead>\n",
       "    <tr style=\"text-align: right;\">\n",
       "      <th></th>\n",
       "      <th>TARGET</th>\n",
       "      <th>NAME_CONTRACT_TYPE</th>\n",
       "      <th>CODE_GENDER</th>\n",
       "    </tr>\n",
       "  </thead>\n",
       "  <tbody>\n",
       "    <tr>\n",
       "      <th>0</th>\n",
       "      <td>1</td>\n",
       "      <td>Cash loans</td>\n",
       "      <td>M</td>\n",
       "    </tr>\n",
       "    <tr>\n",
       "      <th>1</th>\n",
       "      <td>0</td>\n",
       "      <td>Cash loans</td>\n",
       "      <td>F</td>\n",
       "    </tr>\n",
       "    <tr>\n",
       "      <th>2</th>\n",
       "      <td>0</td>\n",
       "      <td>Revolving loans</td>\n",
       "      <td>M</td>\n",
       "    </tr>\n",
       "    <tr>\n",
       "      <th>3</th>\n",
       "      <td>0</td>\n",
       "      <td>Cash loans</td>\n",
       "      <td>F</td>\n",
       "    </tr>\n",
       "    <tr>\n",
       "      <th>4</th>\n",
       "      <td>0</td>\n",
       "      <td>Cash loans</td>\n",
       "      <td>M</td>\n",
       "    </tr>\n",
       "    <tr>\n",
       "      <th>...</th>\n",
       "      <td>...</td>\n",
       "      <td>...</td>\n",
       "      <td>...</td>\n",
       "    </tr>\n",
       "    <tr>\n",
       "      <th>1995</th>\n",
       "      <td>1</td>\n",
       "      <td>Cash loans</td>\n",
       "      <td>F</td>\n",
       "    </tr>\n",
       "    <tr>\n",
       "      <th>1996</th>\n",
       "      <td>0</td>\n",
       "      <td>Cash loans</td>\n",
       "      <td>M</td>\n",
       "    </tr>\n",
       "    <tr>\n",
       "      <th>1997</th>\n",
       "      <td>0</td>\n",
       "      <td>Revolving loans</td>\n",
       "      <td>F</td>\n",
       "    </tr>\n",
       "    <tr>\n",
       "      <th>1998</th>\n",
       "      <td>0</td>\n",
       "      <td>Revolving loans</td>\n",
       "      <td>F</td>\n",
       "    </tr>\n",
       "    <tr>\n",
       "      <th>1999</th>\n",
       "      <td>0</td>\n",
       "      <td>Cash loans</td>\n",
       "      <td>M</td>\n",
       "    </tr>\n",
       "  </tbody>\n",
       "</table>\n",
       "<p>2000 rows × 3 columns</p>\n",
       "</div>"
      ],
      "text/plain": [
       "      TARGET NAME_CONTRACT_TYPE CODE_GENDER\n",
       "0          1         Cash loans           M\n",
       "1          0         Cash loans           F\n",
       "2          0    Revolving loans           M\n",
       "3          0         Cash loans           F\n",
       "4          0         Cash loans           M\n",
       "...      ...                ...         ...\n",
       "1995       1         Cash loans           F\n",
       "1996       0         Cash loans           M\n",
       "1997       0    Revolving loans           F\n",
       "1998       0    Revolving loans           F\n",
       "1999       0         Cash loans           M\n",
       "\n",
       "[2000 rows x 3 columns]"
      ]
     },
     "execution_count": 53,
     "metadata": {},
     "output_type": "execute_result"
    }
   ],
   "source": [
    "# your code goes here\n",
    "df.loc[:, \"TARGET\": \"CODE_GENDER\"]"
   ]
  },
  {
   "cell_type": "markdown",
   "id": "8431ad57",
   "metadata": {},
   "source": [
    "### 条件検索"
   ]
  },
  {
   "cell_type": "markdown",
   "id": "5b19d4f1",
   "metadata": {},
   "source": [
    "【演習】CODE_GENDER列が'F'かつAMT_INCOME_TOTAL列が500000以上のデータポイントを表示してください。"
   ]
  },
  {
   "cell_type": "code",
   "execution_count": 54,
   "id": "e35c4c5d",
   "metadata": {},
   "outputs": [],
   "source": [
    "df = initialize(0)"
   ]
  },
  {
   "cell_type": "code",
   "execution_count": 60,
   "id": "ed6253a6",
   "metadata": {},
   "outputs": [
    {
     "data": {
      "text/html": [
       "<div>\n",
       "<style scoped>\n",
       "    .dataframe tbody tr th:only-of-type {\n",
       "        vertical-align: middle;\n",
       "    }\n",
       "\n",
       "    .dataframe tbody tr th {\n",
       "        vertical-align: top;\n",
       "    }\n",
       "\n",
       "    .dataframe thead th {\n",
       "        text-align: right;\n",
       "    }\n",
       "</style>\n",
       "<table border=\"1\" class=\"dataframe\">\n",
       "  <thead>\n",
       "    <tr style=\"text-align: right;\">\n",
       "      <th></th>\n",
       "      <th>SK_ID_CURR</th>\n",
       "      <th>TARGET</th>\n",
       "      <th>NAME_CONTRACT_TYPE</th>\n",
       "      <th>CODE_GENDER</th>\n",
       "      <th>FLAG_OWN_CAR</th>\n",
       "      <th>FLAG_OWN_REALTY</th>\n",
       "      <th>CNT_CHILDREN</th>\n",
       "      <th>AMT_INCOME_TOTAL</th>\n",
       "      <th>FLAG_MOBIL</th>\n",
       "      <th>REGION_POPULATION_RELATIVE</th>\n",
       "      <th>OWN_CAR_AGE</th>\n",
       "    </tr>\n",
       "  </thead>\n",
       "  <tbody>\n",
       "    <tr>\n",
       "      <th>332</th>\n",
       "      <td>100380</td>\n",
       "      <td>0</td>\n",
       "      <td>Cash loans</td>\n",
       "      <td>F</td>\n",
       "      <td>N</td>\n",
       "      <td>Y</td>\n",
       "      <td>0</td>\n",
       "      <td>630000.0</td>\n",
       "      <td>1</td>\n",
       "      <td>0.072508</td>\n",
       "      <td>NaN</td>\n",
       "    </tr>\n",
       "    <tr>\n",
       "      <th>930</th>\n",
       "      <td>101073</td>\n",
       "      <td>1</td>\n",
       "      <td>Cash loans</td>\n",
       "      <td>F</td>\n",
       "      <td>Y</td>\n",
       "      <td>N</td>\n",
       "      <td>0</td>\n",
       "      <td>540000.0</td>\n",
       "      <td>1</td>\n",
       "      <td>0.008474</td>\n",
       "      <td>18.0</td>\n",
       "    </tr>\n",
       "    <tr>\n",
       "      <th>1064</th>\n",
       "      <td>101235</td>\n",
       "      <td>0</td>\n",
       "      <td>Revolving loans</td>\n",
       "      <td>F</td>\n",
       "      <td>N</td>\n",
       "      <td>Y</td>\n",
       "      <td>0</td>\n",
       "      <td>720000.0</td>\n",
       "      <td>1</td>\n",
       "      <td>0.010147</td>\n",
       "      <td>NaN</td>\n",
       "    </tr>\n",
       "    <tr>\n",
       "      <th>1568</th>\n",
       "      <td>101839</td>\n",
       "      <td>0</td>\n",
       "      <td>Cash loans</td>\n",
       "      <td>F</td>\n",
       "      <td>N</td>\n",
       "      <td>N</td>\n",
       "      <td>0</td>\n",
       "      <td>630000.0</td>\n",
       "      <td>1</td>\n",
       "      <td>0.020713</td>\n",
       "      <td>NaN</td>\n",
       "    </tr>\n",
       "    <tr>\n",
       "      <th>1586</th>\n",
       "      <td>101857</td>\n",
       "      <td>0</td>\n",
       "      <td>Cash loans</td>\n",
       "      <td>F</td>\n",
       "      <td>N</td>\n",
       "      <td>Y</td>\n",
       "      <td>0</td>\n",
       "      <td>720000.0</td>\n",
       "      <td>1</td>\n",
       "      <td>0.046220</td>\n",
       "      <td>NaN</td>\n",
       "    </tr>\n",
       "    <tr>\n",
       "      <th>1644</th>\n",
       "      <td>101929</td>\n",
       "      <td>1</td>\n",
       "      <td>Revolving loans</td>\n",
       "      <td>F</td>\n",
       "      <td>Y</td>\n",
       "      <td>Y</td>\n",
       "      <td>0</td>\n",
       "      <td>697500.0</td>\n",
       "      <td>1</td>\n",
       "      <td>0.046220</td>\n",
       "      <td>7.0</td>\n",
       "    </tr>\n",
       "    <tr>\n",
       "      <th>1723</th>\n",
       "      <td>102015</td>\n",
       "      <td>0</td>\n",
       "      <td>Cash loans</td>\n",
       "      <td>F</td>\n",
       "      <td>N</td>\n",
       "      <td>Y</td>\n",
       "      <td>0</td>\n",
       "      <td>1935000.0</td>\n",
       "      <td>1</td>\n",
       "      <td>0.007114</td>\n",
       "      <td>NaN</td>\n",
       "    </tr>\n",
       "    <tr>\n",
       "      <th>1793</th>\n",
       "      <td>102097</td>\n",
       "      <td>0</td>\n",
       "      <td>Revolving loans</td>\n",
       "      <td>F</td>\n",
       "      <td>Y</td>\n",
       "      <td>Y</td>\n",
       "      <td>1</td>\n",
       "      <td>540000.0</td>\n",
       "      <td>1</td>\n",
       "      <td>0.032561</td>\n",
       "      <td>16.0</td>\n",
       "    </tr>\n",
       "  </tbody>\n",
       "</table>\n",
       "</div>"
      ],
      "text/plain": [
       "      SK_ID_CURR  TARGET NAME_CONTRACT_TYPE CODE_GENDER FLAG_OWN_CAR  \\\n",
       "332       100380       0         Cash loans           F            N   \n",
       "930       101073       1         Cash loans           F            Y   \n",
       "1064      101235       0    Revolving loans           F            N   \n",
       "1568      101839       0         Cash loans           F            N   \n",
       "1586      101857       0         Cash loans           F            N   \n",
       "1644      101929       1    Revolving loans           F            Y   \n",
       "1723      102015       0         Cash loans           F            N   \n",
       "1793      102097       0    Revolving loans           F            Y   \n",
       "\n",
       "     FLAG_OWN_REALTY  CNT_CHILDREN  AMT_INCOME_TOTAL  FLAG_MOBIL  \\\n",
       "332                Y             0          630000.0           1   \n",
       "930                N             0          540000.0           1   \n",
       "1064               Y             0          720000.0           1   \n",
       "1568               N             0          630000.0           1   \n",
       "1586               Y             0          720000.0           1   \n",
       "1644               Y             0          697500.0           1   \n",
       "1723               Y             0         1935000.0           1   \n",
       "1793               Y             1          540000.0           1   \n",
       "\n",
       "      REGION_POPULATION_RELATIVE  OWN_CAR_AGE  \n",
       "332                     0.072508          NaN  \n",
       "930                     0.008474         18.0  \n",
       "1064                    0.010147          NaN  \n",
       "1568                    0.020713          NaN  \n",
       "1586                    0.046220          NaN  \n",
       "1644                    0.046220          7.0  \n",
       "1723                    0.007114          NaN  \n",
       "1793                    0.032561         16.0  "
      ]
     },
     "execution_count": 60,
     "metadata": {},
     "output_type": "execute_result"
    }
   ],
   "source": [
    "# your code goes here\n",
    "df[(df[\"CODE_GENDER\"] == \"F\") & (df[\"AMT_INCOME_TOTAL\"] >= 500000)]"
   ]
  },
  {
   "cell_type": "markdown",
   "id": "ef2545b4",
   "metadata": {},
   "source": [
    "## ソート"
   ]
  },
  {
   "cell_type": "markdown",
   "id": "eaf53352",
   "metadata": {},
   "source": [
    "### 任意の一列で昇順ソート"
   ]
  },
  {
   "cell_type": "markdown",
   "id": "a902d6a7",
   "metadata": {},
   "source": [
    "【演習】dfのAMT_INCOME_TOTALの列で昇順ソートして表示してください。"
   ]
  },
  {
   "cell_type": "code",
   "execution_count": 61,
   "id": "1e6e5621",
   "metadata": {},
   "outputs": [],
   "source": [
    "df = initialize(0)"
   ]
  },
  {
   "cell_type": "code",
   "execution_count": 62,
   "id": "4e1fb4e6",
   "metadata": {},
   "outputs": [
    {
     "data": {
      "text/html": [
       "<div>\n",
       "<style scoped>\n",
       "    .dataframe tbody tr th:only-of-type {\n",
       "        vertical-align: middle;\n",
       "    }\n",
       "\n",
       "    .dataframe tbody tr th {\n",
       "        vertical-align: top;\n",
       "    }\n",
       "\n",
       "    .dataframe thead th {\n",
       "        text-align: right;\n",
       "    }\n",
       "</style>\n",
       "<table border=\"1\" class=\"dataframe\">\n",
       "  <thead>\n",
       "    <tr style=\"text-align: right;\">\n",
       "      <th></th>\n",
       "      <th>SK_ID_CURR</th>\n",
       "      <th>TARGET</th>\n",
       "      <th>NAME_CONTRACT_TYPE</th>\n",
       "      <th>CODE_GENDER</th>\n",
       "      <th>FLAG_OWN_CAR</th>\n",
       "      <th>FLAG_OWN_REALTY</th>\n",
       "      <th>CNT_CHILDREN</th>\n",
       "      <th>AMT_INCOME_TOTAL</th>\n",
       "      <th>FLAG_MOBIL</th>\n",
       "      <th>REGION_POPULATION_RELATIVE</th>\n",
       "      <th>OWN_CAR_AGE</th>\n",
       "    </tr>\n",
       "  </thead>\n",
       "  <tbody>\n",
       "    <tr>\n",
       "      <th>1678</th>\n",
       "      <td>101965</td>\n",
       "      <td>0</td>\n",
       "      <td>Cash loans</td>\n",
       "      <td>F</td>\n",
       "      <td>N</td>\n",
       "      <td>N</td>\n",
       "      <td>0</td>\n",
       "      <td>25650.0</td>\n",
       "      <td>1</td>\n",
       "      <td>0.018850</td>\n",
       "      <td>NaN</td>\n",
       "    </tr>\n",
       "    <tr>\n",
       "      <th>495</th>\n",
       "      <td>100572</td>\n",
       "      <td>0</td>\n",
       "      <td>Cash loans</td>\n",
       "      <td>F</td>\n",
       "      <td>N</td>\n",
       "      <td>Y</td>\n",
       "      <td>0</td>\n",
       "      <td>31500.0</td>\n",
       "      <td>1</td>\n",
       "      <td>0.031329</td>\n",
       "      <td>NaN</td>\n",
       "    </tr>\n",
       "    <tr>\n",
       "      <th>283</th>\n",
       "      <td>100326</td>\n",
       "      <td>1</td>\n",
       "      <td>Cash loans</td>\n",
       "      <td>M</td>\n",
       "      <td>Y</td>\n",
       "      <td>Y</td>\n",
       "      <td>0</td>\n",
       "      <td>36000.0</td>\n",
       "      <td>1</td>\n",
       "      <td>0.018209</td>\n",
       "      <td>27.0</td>\n",
       "    </tr>\n",
       "    <tr>\n",
       "      <th>1221</th>\n",
       "      <td>101442</td>\n",
       "      <td>0</td>\n",
       "      <td>Cash loans</td>\n",
       "      <td>F</td>\n",
       "      <td>N</td>\n",
       "      <td>N</td>\n",
       "      <td>0</td>\n",
       "      <td>36000.0</td>\n",
       "      <td>1</td>\n",
       "      <td>0.018850</td>\n",
       "      <td>NaN</td>\n",
       "    </tr>\n",
       "    <tr>\n",
       "      <th>651</th>\n",
       "      <td>100743</td>\n",
       "      <td>0</td>\n",
       "      <td>Cash loans</td>\n",
       "      <td>F</td>\n",
       "      <td>N</td>\n",
       "      <td>Y</td>\n",
       "      <td>0</td>\n",
       "      <td>38250.0</td>\n",
       "      <td>1</td>\n",
       "      <td>0.018850</td>\n",
       "      <td>NaN</td>\n",
       "    </tr>\n",
       "    <tr>\n",
       "      <th>...</th>\n",
       "      <td>...</td>\n",
       "      <td>...</td>\n",
       "      <td>...</td>\n",
       "      <td>...</td>\n",
       "      <td>...</td>\n",
       "      <td>...</td>\n",
       "      <td>...</td>\n",
       "      <td>...</td>\n",
       "      <td>...</td>\n",
       "      <td>...</td>\n",
       "      <td>...</td>\n",
       "    </tr>\n",
       "    <tr>\n",
       "      <th>1064</th>\n",
       "      <td>101235</td>\n",
       "      <td>0</td>\n",
       "      <td>Revolving loans</td>\n",
       "      <td>F</td>\n",
       "      <td>N</td>\n",
       "      <td>Y</td>\n",
       "      <td>0</td>\n",
       "      <td>720000.0</td>\n",
       "      <td>1</td>\n",
       "      <td>0.010147</td>\n",
       "      <td>NaN</td>\n",
       "    </tr>\n",
       "    <tr>\n",
       "      <th>319</th>\n",
       "      <td>100366</td>\n",
       "      <td>0</td>\n",
       "      <td>Revolving loans</td>\n",
       "      <td>M</td>\n",
       "      <td>Y</td>\n",
       "      <td>Y</td>\n",
       "      <td>0</td>\n",
       "      <td>765000.0</td>\n",
       "      <td>1</td>\n",
       "      <td>0.002506</td>\n",
       "      <td>3.0</td>\n",
       "    </tr>\n",
       "    <tr>\n",
       "      <th>1238</th>\n",
       "      <td>101461</td>\n",
       "      <td>0</td>\n",
       "      <td>Cash loans</td>\n",
       "      <td>M</td>\n",
       "      <td>Y</td>\n",
       "      <td>Y</td>\n",
       "      <td>0</td>\n",
       "      <td>810000.0</td>\n",
       "      <td>1</td>\n",
       "      <td>0.072508</td>\n",
       "      <td>5.0</td>\n",
       "    </tr>\n",
       "    <tr>\n",
       "      <th>1504</th>\n",
       "      <td>101769</td>\n",
       "      <td>0</td>\n",
       "      <td>Revolving loans</td>\n",
       "      <td>M</td>\n",
       "      <td>Y</td>\n",
       "      <td>Y</td>\n",
       "      <td>0</td>\n",
       "      <td>1080000.0</td>\n",
       "      <td>1</td>\n",
       "      <td>0.072508</td>\n",
       "      <td>7.0</td>\n",
       "    </tr>\n",
       "    <tr>\n",
       "      <th>1723</th>\n",
       "      <td>102015</td>\n",
       "      <td>0</td>\n",
       "      <td>Cash loans</td>\n",
       "      <td>F</td>\n",
       "      <td>N</td>\n",
       "      <td>Y</td>\n",
       "      <td>0</td>\n",
       "      <td>1935000.0</td>\n",
       "      <td>1</td>\n",
       "      <td>0.007114</td>\n",
       "      <td>NaN</td>\n",
       "    </tr>\n",
       "  </tbody>\n",
       "</table>\n",
       "<p>2000 rows × 11 columns</p>\n",
       "</div>"
      ],
      "text/plain": [
       "      SK_ID_CURR  TARGET NAME_CONTRACT_TYPE CODE_GENDER FLAG_OWN_CAR  \\\n",
       "1678      101965       0         Cash loans           F            N   \n",
       "495       100572       0         Cash loans           F            N   \n",
       "283       100326       1         Cash loans           M            Y   \n",
       "1221      101442       0         Cash loans           F            N   \n",
       "651       100743       0         Cash loans           F            N   \n",
       "...          ...     ...                ...         ...          ...   \n",
       "1064      101235       0    Revolving loans           F            N   \n",
       "319       100366       0    Revolving loans           M            Y   \n",
       "1238      101461       0         Cash loans           M            Y   \n",
       "1504      101769       0    Revolving loans           M            Y   \n",
       "1723      102015       0         Cash loans           F            N   \n",
       "\n",
       "     FLAG_OWN_REALTY  CNT_CHILDREN  AMT_INCOME_TOTAL  FLAG_MOBIL  \\\n",
       "1678               N             0           25650.0           1   \n",
       "495                Y             0           31500.0           1   \n",
       "283                Y             0           36000.0           1   \n",
       "1221               N             0           36000.0           1   \n",
       "651                Y             0           38250.0           1   \n",
       "...              ...           ...               ...         ...   \n",
       "1064               Y             0          720000.0           1   \n",
       "319                Y             0          765000.0           1   \n",
       "1238               Y             0          810000.0           1   \n",
       "1504               Y             0         1080000.0           1   \n",
       "1723               Y             0         1935000.0           1   \n",
       "\n",
       "      REGION_POPULATION_RELATIVE  OWN_CAR_AGE  \n",
       "1678                    0.018850          NaN  \n",
       "495                     0.031329          NaN  \n",
       "283                     0.018209         27.0  \n",
       "1221                    0.018850          NaN  \n",
       "651                     0.018850          NaN  \n",
       "...                          ...          ...  \n",
       "1064                    0.010147          NaN  \n",
       "319                     0.002506          3.0  \n",
       "1238                    0.072508          5.0  \n",
       "1504                    0.072508          7.0  \n",
       "1723                    0.007114          NaN  \n",
       "\n",
       "[2000 rows x 11 columns]"
      ]
     },
     "execution_count": 62,
     "metadata": {},
     "output_type": "execute_result"
    }
   ],
   "source": [
    "# your code goes here\n",
    "df.sort_values(\"AMT_INCOME_TOTAL\")"
   ]
  },
  {
   "cell_type": "markdown",
   "id": "2465d788",
   "metadata": {},
   "source": [
    "### 任意の一列で降順ソート\n"
   ]
  },
  {
   "cell_type": "markdown",
   "id": "54b22885",
   "metadata": {},
   "source": [
    "【演習】dfのAMT_INCOME_TOTALの列で降順ソート表示してください。"
   ]
  },
  {
   "cell_type": "code",
   "execution_count": 63,
   "id": "6acedf51",
   "metadata": {},
   "outputs": [],
   "source": [
    "df = initialize(0)"
   ]
  },
  {
   "cell_type": "code",
   "execution_count": 64,
   "id": "b8f7f018",
   "metadata": {},
   "outputs": [
    {
     "data": {
      "text/html": [
       "<div>\n",
       "<style scoped>\n",
       "    .dataframe tbody tr th:only-of-type {\n",
       "        vertical-align: middle;\n",
       "    }\n",
       "\n",
       "    .dataframe tbody tr th {\n",
       "        vertical-align: top;\n",
       "    }\n",
       "\n",
       "    .dataframe thead th {\n",
       "        text-align: right;\n",
       "    }\n",
       "</style>\n",
       "<table border=\"1\" class=\"dataframe\">\n",
       "  <thead>\n",
       "    <tr style=\"text-align: right;\">\n",
       "      <th></th>\n",
       "      <th>SK_ID_CURR</th>\n",
       "      <th>TARGET</th>\n",
       "      <th>NAME_CONTRACT_TYPE</th>\n",
       "      <th>CODE_GENDER</th>\n",
       "      <th>FLAG_OWN_CAR</th>\n",
       "      <th>FLAG_OWN_REALTY</th>\n",
       "      <th>CNT_CHILDREN</th>\n",
       "      <th>AMT_INCOME_TOTAL</th>\n",
       "      <th>FLAG_MOBIL</th>\n",
       "      <th>REGION_POPULATION_RELATIVE</th>\n",
       "      <th>OWN_CAR_AGE</th>\n",
       "    </tr>\n",
       "  </thead>\n",
       "  <tbody>\n",
       "    <tr>\n",
       "      <th>1723</th>\n",
       "      <td>102015</td>\n",
       "      <td>0</td>\n",
       "      <td>Cash loans</td>\n",
       "      <td>F</td>\n",
       "      <td>N</td>\n",
       "      <td>Y</td>\n",
       "      <td>0</td>\n",
       "      <td>1935000.0</td>\n",
       "      <td>1</td>\n",
       "      <td>0.007114</td>\n",
       "      <td>NaN</td>\n",
       "    </tr>\n",
       "    <tr>\n",
       "      <th>1504</th>\n",
       "      <td>101769</td>\n",
       "      <td>0</td>\n",
       "      <td>Revolving loans</td>\n",
       "      <td>M</td>\n",
       "      <td>Y</td>\n",
       "      <td>Y</td>\n",
       "      <td>0</td>\n",
       "      <td>1080000.0</td>\n",
       "      <td>1</td>\n",
       "      <td>0.072508</td>\n",
       "      <td>7.0</td>\n",
       "    </tr>\n",
       "    <tr>\n",
       "      <th>1238</th>\n",
       "      <td>101461</td>\n",
       "      <td>0</td>\n",
       "      <td>Cash loans</td>\n",
       "      <td>M</td>\n",
       "      <td>Y</td>\n",
       "      <td>Y</td>\n",
       "      <td>0</td>\n",
       "      <td>810000.0</td>\n",
       "      <td>1</td>\n",
       "      <td>0.072508</td>\n",
       "      <td>5.0</td>\n",
       "    </tr>\n",
       "    <tr>\n",
       "      <th>319</th>\n",
       "      <td>100366</td>\n",
       "      <td>0</td>\n",
       "      <td>Revolving loans</td>\n",
       "      <td>M</td>\n",
       "      <td>Y</td>\n",
       "      <td>Y</td>\n",
       "      <td>0</td>\n",
       "      <td>765000.0</td>\n",
       "      <td>1</td>\n",
       "      <td>0.002506</td>\n",
       "      <td>3.0</td>\n",
       "    </tr>\n",
       "    <tr>\n",
       "      <th>1586</th>\n",
       "      <td>101857</td>\n",
       "      <td>0</td>\n",
       "      <td>Cash loans</td>\n",
       "      <td>F</td>\n",
       "      <td>N</td>\n",
       "      <td>Y</td>\n",
       "      <td>0</td>\n",
       "      <td>720000.0</td>\n",
       "      <td>1</td>\n",
       "      <td>0.046220</td>\n",
       "      <td>NaN</td>\n",
       "    </tr>\n",
       "    <tr>\n",
       "      <th>...</th>\n",
       "      <td>...</td>\n",
       "      <td>...</td>\n",
       "      <td>...</td>\n",
       "      <td>...</td>\n",
       "      <td>...</td>\n",
       "      <td>...</td>\n",
       "      <td>...</td>\n",
       "      <td>...</td>\n",
       "      <td>...</td>\n",
       "      <td>...</td>\n",
       "      <td>...</td>\n",
       "    </tr>\n",
       "    <tr>\n",
       "      <th>651</th>\n",
       "      <td>100743</td>\n",
       "      <td>0</td>\n",
       "      <td>Cash loans</td>\n",
       "      <td>F</td>\n",
       "      <td>N</td>\n",
       "      <td>Y</td>\n",
       "      <td>0</td>\n",
       "      <td>38250.0</td>\n",
       "      <td>1</td>\n",
       "      <td>0.018850</td>\n",
       "      <td>NaN</td>\n",
       "    </tr>\n",
       "    <tr>\n",
       "      <th>1221</th>\n",
       "      <td>101442</td>\n",
       "      <td>0</td>\n",
       "      <td>Cash loans</td>\n",
       "      <td>F</td>\n",
       "      <td>N</td>\n",
       "      <td>N</td>\n",
       "      <td>0</td>\n",
       "      <td>36000.0</td>\n",
       "      <td>1</td>\n",
       "      <td>0.018850</td>\n",
       "      <td>NaN</td>\n",
       "    </tr>\n",
       "    <tr>\n",
       "      <th>283</th>\n",
       "      <td>100326</td>\n",
       "      <td>1</td>\n",
       "      <td>Cash loans</td>\n",
       "      <td>M</td>\n",
       "      <td>Y</td>\n",
       "      <td>Y</td>\n",
       "      <td>0</td>\n",
       "      <td>36000.0</td>\n",
       "      <td>1</td>\n",
       "      <td>0.018209</td>\n",
       "      <td>27.0</td>\n",
       "    </tr>\n",
       "    <tr>\n",
       "      <th>495</th>\n",
       "      <td>100572</td>\n",
       "      <td>0</td>\n",
       "      <td>Cash loans</td>\n",
       "      <td>F</td>\n",
       "      <td>N</td>\n",
       "      <td>Y</td>\n",
       "      <td>0</td>\n",
       "      <td>31500.0</td>\n",
       "      <td>1</td>\n",
       "      <td>0.031329</td>\n",
       "      <td>NaN</td>\n",
       "    </tr>\n",
       "    <tr>\n",
       "      <th>1678</th>\n",
       "      <td>101965</td>\n",
       "      <td>0</td>\n",
       "      <td>Cash loans</td>\n",
       "      <td>F</td>\n",
       "      <td>N</td>\n",
       "      <td>N</td>\n",
       "      <td>0</td>\n",
       "      <td>25650.0</td>\n",
       "      <td>1</td>\n",
       "      <td>0.018850</td>\n",
       "      <td>NaN</td>\n",
       "    </tr>\n",
       "  </tbody>\n",
       "</table>\n",
       "<p>2000 rows × 11 columns</p>\n",
       "</div>"
      ],
      "text/plain": [
       "      SK_ID_CURR  TARGET NAME_CONTRACT_TYPE CODE_GENDER FLAG_OWN_CAR  \\\n",
       "1723      102015       0         Cash loans           F            N   \n",
       "1504      101769       0    Revolving loans           M            Y   \n",
       "1238      101461       0         Cash loans           M            Y   \n",
       "319       100366       0    Revolving loans           M            Y   \n",
       "1586      101857       0         Cash loans           F            N   \n",
       "...          ...     ...                ...         ...          ...   \n",
       "651       100743       0         Cash loans           F            N   \n",
       "1221      101442       0         Cash loans           F            N   \n",
       "283       100326       1         Cash loans           M            Y   \n",
       "495       100572       0         Cash loans           F            N   \n",
       "1678      101965       0         Cash loans           F            N   \n",
       "\n",
       "     FLAG_OWN_REALTY  CNT_CHILDREN  AMT_INCOME_TOTAL  FLAG_MOBIL  \\\n",
       "1723               Y             0         1935000.0           1   \n",
       "1504               Y             0         1080000.0           1   \n",
       "1238               Y             0          810000.0           1   \n",
       "319                Y             0          765000.0           1   \n",
       "1586               Y             0          720000.0           1   \n",
       "...              ...           ...               ...         ...   \n",
       "651                Y             0           38250.0           1   \n",
       "1221               N             0           36000.0           1   \n",
       "283                Y             0           36000.0           1   \n",
       "495                Y             0           31500.0           1   \n",
       "1678               N             0           25650.0           1   \n",
       "\n",
       "      REGION_POPULATION_RELATIVE  OWN_CAR_AGE  \n",
       "1723                    0.007114          NaN  \n",
       "1504                    0.072508          7.0  \n",
       "1238                    0.072508          5.0  \n",
       "319                     0.002506          3.0  \n",
       "1586                    0.046220          NaN  \n",
       "...                          ...          ...  \n",
       "651                     0.018850          NaN  \n",
       "1221                    0.018850          NaN  \n",
       "283                     0.018209         27.0  \n",
       "495                     0.031329          NaN  \n",
       "1678                    0.018850          NaN  \n",
       "\n",
       "[2000 rows x 11 columns]"
      ]
     },
     "execution_count": 64,
     "metadata": {},
     "output_type": "execute_result"
    }
   ],
   "source": [
    "# your code goes here\n",
    "df.sort_values(\"AMT_INCOME_TOTAL\", ascending=False)"
   ]
  },
  {
   "cell_type": "markdown",
   "id": "4cbf3e86",
   "metadata": {},
   "source": [
    "## 統計量"
   ]
  },
  {
   "cell_type": "markdown",
   "id": "cea7b81e",
   "metadata": {},
   "source": [
    "### 基本統計量"
   ]
  },
  {
   "cell_type": "markdown",
   "id": "4bce0453",
   "metadata": {},
   "source": [
    "【演習】dfのAMT_INCOME_TOTAL列の平均、中央値、合計、最大値、最小値、最頻値をそれぞれ出力してください。"
   ]
  },
  {
   "cell_type": "code",
   "execution_count": 65,
   "id": "96a8f500",
   "metadata": {},
   "outputs": [],
   "source": [
    "df = initialize(0)"
   ]
  },
  {
   "cell_type": "code",
   "execution_count": 81,
   "id": "c6365a0c",
   "metadata": {},
   "outputs": [
    {
     "name": "stdout",
     "output_type": "stream",
     "text": [
      "170118.76182749998\n",
      "144000.0\n",
      "340237523.655\n",
      "1935000.0\n",
      "25650.0\n",
      "112500.0\n"
     ]
    }
   ],
   "source": [
    "# your code goes here\n",
    "desc = df[\"AMT_INCOME_TOTAL\"].describe()\n",
    "sum = df[\"AMT_INCOME_TOTAL\"].sum()\n",
    "mode = df[\"AMT_INCOME_TOTAL\"].mode()[0]\n",
    "print(desc[\"mean\"])\n",
    "print(desc[\"50%\"])\n",
    "print(sum)\n",
    "print(desc[\"max\"])\n",
    "print(desc[\"min\"])\n",
    "print(mode)\n"
   ]
  },
  {
   "cell_type": "markdown",
   "id": "130a7854",
   "metadata": {},
   "source": [
    "### 要約統計量"
   ]
  },
  {
   "cell_type": "markdown",
   "id": "8548bfce",
   "metadata": {},
   "source": [
    "【演習】dfのAMT_INCOME_TOTAL列の要約統計量を出力してください。"
   ]
  },
  {
   "cell_type": "code",
   "execution_count": 82,
   "id": "5d22651b",
   "metadata": {},
   "outputs": [],
   "source": [
    "df = initialize(0)"
   ]
  },
  {
   "cell_type": "code",
   "execution_count": 83,
   "id": "799cb899",
   "metadata": {},
   "outputs": [
    {
     "data": {
      "text/plain": [
       "count    2.000000e+03\n",
       "mean     1.701188e+05\n",
       "std      1.017594e+05\n",
       "min      2.565000e+04\n",
       "25%      1.125000e+05\n",
       "50%      1.440000e+05\n",
       "75%      2.025000e+05\n",
       "max      1.935000e+06\n",
       "Name: AMT_INCOME_TOTAL, dtype: float64"
      ]
     },
     "execution_count": 83,
     "metadata": {},
     "output_type": "execute_result"
    }
   ],
   "source": [
    "# your code goes here\n",
    "df[\"AMT_INCOME_TOTAL\"].describe()"
   ]
  },
  {
   "cell_type": "markdown",
   "id": "c8e88501",
   "metadata": {},
   "source": [
    "### groupby"
   ]
  },
  {
   "cell_type": "markdown",
   "id": "59ffa127",
   "metadata": {},
   "source": [
    "【演習】dfのCODE_GENDERで集約し、それぞれのAMT_INCOME_TOTALの最大値を出力してください。"
   ]
  },
  {
   "cell_type": "code",
   "execution_count": 84,
   "id": "31d1bc74",
   "metadata": {},
   "outputs": [],
   "source": [
    "df = initialize(0)"
   ]
  },
  {
   "cell_type": "code",
   "execution_count": 93,
   "id": "cfef4845",
   "metadata": {},
   "outputs": [
    {
     "data": {
      "text/plain": [
       "CODE_GENDER\n",
       "F    1935000.0\n",
       "M    1080000.0\n",
       "Name: AMT_INCOME_TOTAL, dtype: float64"
      ]
     },
     "execution_count": 93,
     "metadata": {},
     "output_type": "execute_result"
    }
   ],
   "source": [
    "# your code goes here\n",
    "df.groupby(\"CODE_GENDER\")[\"AMT_INCOME_TOTAL\"].max()"
   ]
  },
  {
   "cell_type": "markdown",
   "id": "6b073f43",
   "metadata": {},
   "source": [
    "【演習】dfのCODE_GENDERごとにNAME_CONTRACT_TYPEで集約し、各グループ内の平均と分散を出力してください。また、出力を見やすくするためにindexをリセットしてください。"
   ]
  },
  {
   "cell_type": "code",
   "execution_count": 99,
   "id": "7d404f5e",
   "metadata": {},
   "outputs": [],
   "source": [
    "df = initialize(0)"
   ]
  },
  {
   "cell_type": "code",
   "execution_count": 105,
   "id": "1b9062a4",
   "metadata": {},
   "outputs": [
    {
     "data": {
      "text/html": [
       "<div>\n",
       "<style scoped>\n",
       "    .dataframe tbody tr th:only-of-type {\n",
       "        vertical-align: middle;\n",
       "    }\n",
       "\n",
       "    .dataframe tbody tr th {\n",
       "        vertical-align: top;\n",
       "    }\n",
       "\n",
       "    .dataframe thead th {\n",
       "        text-align: right;\n",
       "    }\n",
       "</style>\n",
       "<table border=\"1\" class=\"dataframe\">\n",
       "  <thead>\n",
       "    <tr style=\"text-align: right;\">\n",
       "      <th></th>\n",
       "      <th>CODE_GENDER</th>\n",
       "      <th>NAME_CONTRACT_TYPE</th>\n",
       "      <th>mean</th>\n",
       "      <th>var</th>\n",
       "    </tr>\n",
       "  </thead>\n",
       "  <tbody>\n",
       "    <tr>\n",
       "      <th>0</th>\n",
       "      <td>F</td>\n",
       "      <td>Cash loans</td>\n",
       "      <td>156289.567886</td>\n",
       "      <td>9.266765e+09</td>\n",
       "    </tr>\n",
       "    <tr>\n",
       "      <th>1</th>\n",
       "      <td>F</td>\n",
       "      <td>Revolving loans</td>\n",
       "      <td>158903.500000</td>\n",
       "      <td>1.214862e+10</td>\n",
       "    </tr>\n",
       "    <tr>\n",
       "      <th>2</th>\n",
       "      <td>M</td>\n",
       "      <td>Cash loans</td>\n",
       "      <td>189622.313091</td>\n",
       "      <td>8.419663e+09</td>\n",
       "    </tr>\n",
       "    <tr>\n",
       "      <th>3</th>\n",
       "      <td>M</td>\n",
       "      <td>Revolving loans</td>\n",
       "      <td>240020.270270</td>\n",
       "      <td>3.032855e+10</td>\n",
       "    </tr>\n",
       "  </tbody>\n",
       "</table>\n",
       "</div>"
      ],
      "text/plain": [
       "  CODE_GENDER NAME_CONTRACT_TYPE           mean           var\n",
       "0           F         Cash loans  156289.567886  9.266765e+09\n",
       "1           F    Revolving loans  158903.500000  1.214862e+10\n",
       "2           M         Cash loans  189622.313091  8.419663e+09\n",
       "3           M    Revolving loans  240020.270270  3.032855e+10"
      ]
     },
     "execution_count": 105,
     "metadata": {},
     "output_type": "execute_result"
    }
   ],
   "source": [
    "# your code goes here\n",
    "df.groupby([\"CODE_GENDER\", \"NAME_CONTRACT_TYPE\"])[\"AMT_INCOME_TOTAL\"].agg(['mean', 'var']).reset_index()"
   ]
  },
  {
   "cell_type": "markdown",
   "id": "23799f5a",
   "metadata": {},
   "source": [
    "## ファイル出力"
   ]
  },
  {
   "cell_type": "markdown",
   "id": "4e483b86",
   "metadata": {},
   "source": [
    "### csvファイルに出力"
   ]
  },
  {
   "cell_type": "markdown",
   "id": "efcb675d",
   "metadata": {},
   "source": [
    "【演習】dfを、行番号、列番号なしで、`./data`ディレクトリ内に`output.csv`という名前で出力してください。"
   ]
  },
  {
   "cell_type": "code",
   "execution_count": 106,
   "id": "b8591620",
   "metadata": {},
   "outputs": [],
   "source": [
    "df = initialize(0)"
   ]
  },
  {
   "cell_type": "code",
   "execution_count": 111,
   "id": "3cf8f2ff",
   "metadata": {},
   "outputs": [],
   "source": [
    "# your code goes here\n",
    "df.to_csv(\"./data/output.csv\", header=False, index=False)"
   ]
  },
  {
   "cell_type": "markdown",
   "id": "716af110-a8d2-4c0e-9a45-a030fb7b52b7",
   "metadata": {},
   "source": [
    "---"
   ]
  },
  {
   "cell_type": "markdown",
   "id": "801f24f3-9639-40d5-95ac-4a5fa728af68",
   "metadata": {},
   "source": [
    "この演習は以上です。"
   ]
  }
 ],
 "metadata": {
  "kernelspec": {
   "display_name": "Python 3",
   "language": "python",
   "name": "python3"
  },
  "language_info": {
   "codemirror_mode": {
    "name": "ipython",
    "version": 3
   },
   "file_extension": ".py",
   "mimetype": "text/x-python",
   "name": "python",
   "nbconvert_exporter": "python",
   "pygments_lexer": "ipython3",
   "version": "3.8.7"
  }
 },
 "nbformat": 4,
 "nbformat_minor": 5
}
