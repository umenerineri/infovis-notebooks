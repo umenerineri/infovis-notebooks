{
 "cells": [
  {
   "cell_type": "markdown",
   "id": "ffc725fd",
   "metadata": {},
   "source": [
    "# ウェブスクレイピング"
   ]
  },
  {
   "cell_type": "markdown",
   "id": "aaf06dea",
   "metadata": {},
   "source": [
    "ウェブスクレイピングは、ウェブページの内容を取得する技術です。\n",
    "\n",
    "静的なウェブページに対しては、HTMLを取得し、HTMLの構造を解析（パース）することで内容を抽出することができます。\n",
    "\n",
    "動的なウェブページに対しては（アクセスがあって初めて内容が生成されるようなもの）、ブラウザの動きをエミュレートするライブラリを使って内容を取得します。\n",
    "\n",
    "短時間に大量のアクセスをしてしまうと、相手側のサーバーに負担がかかるため、関連する法律やサイトの利用規約、倫理的な問題に気をつけて行いましょう（例：3秒に1回アクセスする、などの設定にする）。"
   ]
  },
  {
   "cell_type": "markdown",
   "id": "713ee452",
   "metadata": {},
   "source": [
    "## 静的ページのスクレイピング"
   ]
  },
  {
   "cell_type": "markdown",
   "id": "9966dc0a",
   "metadata": {},
   "source": [
    "* [requests](https://requests.readthedocs.io/en/latest/): 指定したURLに対してリクエストを投げてレスポンスを取得するライブラリ\n",
    "* [BeautifulSoup](https://www.crummy.com/software/BeautifulSoup/bs4/doc/): HTMLやXMLをパースするライブラリ"
   ]
  },
  {
   "cell_type": "markdown",
   "id": "7cb7398c",
   "metadata": {},
   "source": [
    "### ページを取得する\n",
    "\n",
    "[DIPEx Japan](https://www.dipex-j.org/)の認知症患者と家族の語りを収集します。"
   ]
  },
  {
   "cell_type": "code",
   "execution_count": null,
   "id": "534f4708",
   "metadata": {},
   "outputs": [],
   "source": [
    "import time # 時間の処理\n",
    "import re # 正規表現\n",
    "import requests\n",
    "from bs4 import BeautifulSoup"
   ]
  },
  {
   "cell_type": "code",
   "execution_count": null,
   "id": "6c9a2b4a",
   "metadata": {},
   "outputs": [],
   "source": [
    "index_page_url = \"https://www.dipex-j.org/dementia/profid\""
   ]
  },
  {
   "cell_type": "code",
   "execution_count": null,
   "id": "e3540d5f",
   "metadata": {},
   "outputs": [],
   "source": [
    "# HTMLを取得する\n",
    "html = requests.get(index_page_url)"
   ]
  },
  {
   "cell_type": "code",
   "execution_count": null,
   "id": "ff3ef272",
   "metadata": {},
   "outputs": [],
   "source": [
    "# 取得したHTMLを解析する\n",
    "soup = BeautifulSoup(html.content, \"html.parser\")"
   ]
  },
  {
   "cell_type": "code",
   "execution_count": null,
   "id": "136e8f55",
   "metadata": {},
   "outputs": [],
   "source": [
    "# 生のHTMLを確認する\n",
    "soup"
   ]
  },
  {
   "cell_type": "code",
   "execution_count": null,
   "id": "b5d9f1a8",
   "metadata": {},
   "outputs": [],
   "source": [
    "# 目当ての要素を取り出す（それぞれの語り手ページへのリンク）\n",
    "elem = soup.select(\"div[class='profid-link'] > ul > li\")"
   ]
  },
  {
   "cell_type": "code",
   "execution_count": null,
   "id": "f67077f3",
   "metadata": {},
   "outputs": [],
   "source": [
    "# リンクをリストに格納する\n",
    "links = []\n",
    "for e in elem:\n",
    "    link = e.select(\"a\")[0].attrs[\"href\"]\n",
    "    links.append(link)"
   ]
  },
  {
   "cell_type": "code",
   "execution_count": null,
   "id": "9d7718ce",
   "metadata": {},
   "outputs": [],
   "source": [
    "# リンクを取得できた\n",
    "links"
   ]
  },
  {
   "cell_type": "markdown",
   "id": "a8b5a787",
   "metadata": {},
   "source": [
    "---\n",
    "\n",
    "まとめて処理するための前準備"
   ]
  },
  {
   "cell_type": "code",
   "execution_count": null,
   "id": "e73e24d9",
   "metadata": {},
   "outputs": [],
   "source": [
    "# 1つ目のリンクにアクセスして様子を見る"
   ]
  },
  {
   "cell_type": "code",
   "execution_count": null,
   "id": "a7da962e",
   "metadata": {},
   "outputs": [],
   "source": [
    "html = requests.get(links[0])"
   ]
  },
  {
   "cell_type": "code",
   "execution_count": null,
   "id": "dff33a7d",
   "metadata": {},
   "outputs": [],
   "source": [
    "soup = BeautifulSoup(html.content, \"html.parser\")"
   ]
  },
  {
   "cell_type": "code",
   "execution_count": null,
   "id": "6b02b7e6",
   "metadata": {},
   "outputs": [],
   "source": [
    "soup"
   ]
  },
  {
   "cell_type": "code",
   "execution_count": null,
   "id": "219154f6",
   "metadata": {},
   "outputs": [],
   "source": [
    "# 体験談一覧を取得する\n",
    "elem = soup.select(\"li[class='interviewItem']\")"
   ]
  },
  {
   "cell_type": "code",
   "execution_count": null,
   "id": "6e219cb0",
   "metadata": {},
   "outputs": [],
   "source": [
    "elem"
   ]
  },
  {
   "cell_type": "code",
   "execution_count": null,
   "id": "5f4ec91d",
   "metadata": {},
   "outputs": [],
   "source": [
    "# ひとつひとつの体験談へのリンクを取得する\n",
    "episode_links = []\n",
    "for e in elem:\n",
    "    link = e.select(\"a\")[0].attrs[\"href\"]\n",
    "    episode_links.append(link)"
   ]
  },
  {
   "cell_type": "code",
   "execution_count": null,
   "id": "515905df",
   "metadata": {},
   "outputs": [],
   "source": [
    "# エピソードリンクを取得できた\n",
    "episode_links"
   ]
  },
  {
   "cell_type": "code",
   "execution_count": null,
   "id": "cae9c0d8",
   "metadata": {},
   "outputs": [],
   "source": [
    "# 1つ目の体験談にアクセスしてみる"
   ]
  },
  {
   "cell_type": "code",
   "execution_count": null,
   "id": "5d250284",
   "metadata": {},
   "outputs": [],
   "source": [
    "html = requests.get(episode_links[0])"
   ]
  },
  {
   "cell_type": "code",
   "execution_count": null,
   "id": "b0952b77",
   "metadata": {},
   "outputs": [],
   "source": [
    "soup = BeautifulSoup(html.content, \"html.parser\")"
   ]
  },
  {
   "cell_type": "code",
   "execution_count": null,
   "id": "ec1917c3",
   "metadata": {},
   "outputs": [],
   "source": [
    "soup"
   ]
  },
  {
   "cell_type": "code",
   "execution_count": null,
   "id": "d2ee4c9c",
   "metadata": {},
   "outputs": [],
   "source": [
    "# 語りの内容のテキストを取得する（これが最終的な目的）\n",
    "katari = soup.select(\"div[class='interview-text-box']\")\n",
    "katari = katari[0].get_text().strip().replace(\"\\n\", \"\")"
   ]
  },
  {
   "cell_type": "code",
   "execution_count": null,
   "id": "c64603fc",
   "metadata": {},
   "outputs": [],
   "source": [
    "katari"
   ]
  },
  {
   "cell_type": "code",
   "execution_count": null,
   "id": "da9a553e",
   "metadata": {},
   "outputs": [],
   "source": [
    "# URLを見ると、トピックがあらかじめ分類されているようなので、ついでに取得する\n",
    "episode_links[0]"
   ]
  },
  {
   "cell_type": "code",
   "execution_count": null,
   "id": "20845799",
   "metadata": {},
   "outputs": [],
   "source": [
    "# 正規表現を使う\n",
    "topic = re.search(r'/topic/(.*)/[0-9]+', episode_links[0]).groups()[0]"
   ]
  },
  {
   "cell_type": "code",
   "execution_count": null,
   "id": "94ddaa4b",
   "metadata": {},
   "outputs": [],
   "source": [
    "topic"
   ]
  },
  {
   "cell_type": "code",
   "execution_count": null,
   "id": "0337571f",
   "metadata": {},
   "outputs": [],
   "source": [
    "# 語り手番号も取得しておく\n",
    "links[0]"
   ]
  },
  {
   "cell_type": "code",
   "execution_count": null,
   "id": "36a0c609",
   "metadata": {},
   "outputs": [],
   "source": [
    "katarite = re.search(r'/profile/(.*).html', links[0]).groups()[0]"
   ]
  },
  {
   "cell_type": "code",
   "execution_count": null,
   "id": "d3c0acde",
   "metadata": {},
   "outputs": [],
   "source": [
    "katarite"
   ]
  },
  {
   "cell_type": "markdown",
   "id": "a2ab279f",
   "metadata": {},
   "source": [
    "これで1人目の語り手の1つ目のエピソードを取得できたので、ループを回してこれを全体に適用する。"
   ]
  },
  {
   "cell_type": "markdown",
   "id": "74fbc891",
   "metadata": {},
   "source": [
    "---"
   ]
  },
  {
   "cell_type": "code",
   "execution_count": null,
   "id": "2e97b41a",
   "metadata": {},
   "outputs": [],
   "source": [
    "# 保存用のファイルを作る\n",
    "with open(\"./data/episodes.tsv\", \"w\") as f:\n",
    "    f.write(\"topic\\tkatarite\\tepisode\\n\")"
   ]
  },
  {
   "cell_type": "code",
   "execution_count": null,
   "id": "0947ea01",
   "metadata": {},
   "outputs": [],
   "source": [
    "for link in links:\n",
    "    html = requests.get(link)\n",
    "    soup = BeautifulSoup(html.content, \"html.parser\")\n",
    "    # URLから語り手番号を取得する\n",
    "    katarite = re.search(r'/profile/(.*).html', link).groups()[0]\n",
    "    # 体験談一覧を取得する\n",
    "    elem = soup.select(\"li[class='interviewItem']\")\n",
    "    # ひとつひとつの体験談へのリンクを取得する\n",
    "    episode_links = []\n",
    "    for e in elem:\n",
    "        link = e.select(\"a\")[0].attrs[\"href\"]\n",
    "        episode_links.append(link)\n",
    "    # 体験談にアクセスする\n",
    "    for episode_link in episode_links:\n",
    "        html = requests.get(episode_link)\n",
    "        soup = BeautifulSoup(html.content, \"html.parser\")\n",
    "        # 語りの内容のテキストを取得する\n",
    "        katari = soup.select(\"div[class='interview-text-box']\")\n",
    "        katari = katari[0].get_text().strip().replace(\"\\n\", \"\")\n",
    "        # URLからトピックを取得する\n",
    "        topic = re.search(r'/topic/(.*)/[0-9]+', episode_link).groups()[0]\n",
    "        # ファイルに保存する\n",
    "        with open(\"./data/episodes.tsv\", \"a\") as f:\n",
    "            f.write(f\"{topic}\\t{katarite}\\t{katari}\\n\")\n",
    "        # 3秒休んでから次のページにアクセスする\n",
    "        time.sleep(3)\n",
    "    # 3秒休んでから次のページにアクセスする\n",
    "    time.sleep(3)"
   ]
  },
  {
   "cell_type": "markdown",
   "id": "eba490e9",
   "metadata": {},
   "source": [
    "## 動的ページのスクレイピング"
   ]
  },
  {
   "cell_type": "markdown",
   "id": "74fe512b",
   "metadata": {},
   "source": [
    "* [Selenium](https://www.selenium.dev/ja/documentation/): ブラウザのエミュレーションをするライブラリ"
   ]
  },
  {
   "cell_type": "code",
   "execution_count": null,
   "id": "99525b3c",
   "metadata": {},
   "outputs": [],
   "source": [
    "# Seleniumのインストール\n",
    "!pip install selenium"
   ]
  },
  {
   "cell_type": "code",
   "execution_count": null,
   "id": "fedfcd77",
   "metadata": {},
   "outputs": [],
   "source": [
    "from selenium import webdriver\n",
    "from selenium.webdriver.chrome.options import Options\n",
    "from selenium.webdriver.common.by import By\n",
    "from selenium.webdriver.support.ui import WebDriverWait\n",
    "from selenium.webdriver.support import expected_conditions as EC"
   ]
  },
  {
   "cell_type": "code",
   "execution_count": null,
   "id": "2dab9abf",
   "metadata": {},
   "outputs": [],
   "source": [
    "# WebDriverの設定\n",
    "options = Options()\n",
    "options.add_argument(\"--headless\")\n",
    "options.add_argument(\"--no-sandbox\")\n",
    "options.add_argument(\"--disable-dev-shm-usage\")"
   ]
  },
  {
   "cell_type": "code",
   "execution_count": null,
   "id": "602673e4",
   "metadata": {},
   "outputs": [],
   "source": [
    "# WebDriverを呼び出す\n",
    "driver = webdriver.Chrome(options=options)"
   ]
  },
  {
   "cell_type": "code",
   "execution_count": null,
   "id": "edee4fcf",
   "metadata": {},
   "outputs": [],
   "source": [
    "url = \"https://google.com\""
   ]
  },
  {
   "cell_type": "code",
   "execution_count": null,
   "id": "54704446",
   "metadata": {},
   "outputs": [],
   "source": [
    "# Webサイトにアクセスする\n",
    "driver.get(url)"
   ]
  },
  {
   "cell_type": "code",
   "execution_count": null,
   "id": "a9835ebc",
   "metadata": {},
   "outputs": [],
   "source": [
    "# ページ内のすべての要素が読み込まれるまで待機する。ただし、10秒たったらタイムアウトする。\n",
    "element = WebDriverWait(driver, 10).until(\n",
    "    EC.presence_of_all_elements_located\n",
    ")"
   ]
  },
  {
   "cell_type": "code",
   "execution_count": null,
   "id": "9aca02ba",
   "metadata": {},
   "outputs": [],
   "source": [
    "# 取得したHTMLを解析して、検索ボックスを選択する\n",
    "search = driver.find_element(By.NAME, \"q\")"
   ]
  },
  {
   "cell_type": "code",
   "execution_count": null,
   "id": "90d39db3",
   "metadata": {},
   "outputs": [],
   "source": [
    "# 検索キーワードを入力して、実行する\n",
    "search.send_keys(\"情報可視化\")\n",
    "search.submit()\n",
    "\n",
    "element = WebDriverWait(driver, 10).until(\n",
    "    EC.presence_of_all_elements_located\n",
    ")"
   ]
  },
  {
   "cell_type": "code",
   "execution_count": null,
   "id": "f417b24a",
   "metadata": {},
   "outputs": [],
   "source": [
    "# 検索結果を取得\n",
    "result = driver.find_element(By.ID, \"search\")"
   ]
  },
  {
   "cell_type": "code",
   "execution_count": null,
   "id": "57263698",
   "metadata": {},
   "outputs": [],
   "source": [
    "# 検索結果ののタイトルを表示\n",
    "links = result.find_elements(By.TAG_NAME, \"h3\")\n",
    "for link in links:\n",
    "    print(link.text)"
   ]
  }
 ],
 "metadata": {
  "kernelspec": {
   "display_name": ".venv",
   "language": "python",
   "name": "python3"
  },
  "language_info": {
   "codemirror_mode": {
    "name": "ipython",
    "version": 3
   },
   "file_extension": ".py",
   "mimetype": "text/x-python",
   "name": "python",
   "nbconvert_exporter": "python",
   "pygments_lexer": "ipython3",
   "version": "3.12.3"
  }
 },
 "nbformat": 4,
 "nbformat_minor": 5
}
