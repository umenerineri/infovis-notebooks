{
 "cells": [
  {
   "cell_type": "markdown",
   "id": "a92879f3",
   "metadata": {},
   "source": [
    "# Altairで「マンガ雑誌のデータ」の図を作り直す"
   ]
  },
  {
   "cell_type": "markdown",
   "id": "44dc45d7",
   "metadata": {},
   "source": [
    "今回は、文化庁の[メディア芸術データベース・ラボ（MADB Lab）](https://mediag.bunka.go.jp/madb_lab/)で公開されている四大少年誌（週刊少年サンデー、週刊少年ジャンプ、週刊少年チャンピオン、週刊少年マガジン）のデータを使って、量的データと質的データの可視化を練習します。\n",
    "\n",
    "まず、「四大少年誌それぞれの掲載作品のジャンルと著者にはどのような特徴があるのか？」という大きな問いを立て、可視化手法を学びながらデータを見て、具体的な問いを決めていきましょう。\n",
    "\n",
    "[マンガと学ぶデータビジュアライゼーション](https://kakeami.github.io/viz-madb/index.html)の内容を全面的に参考にし、一部改変しています。"
   ]
  },
  {
   "cell_type": "markdown",
   "id": "1a7aa910",
   "metadata": {},
   "source": [
    "[Plotlyで作られた図](./visualizing-quantitative-and-qualitative-data.ipynb)の中から、好きな図を3つ選んで、Altairで再現しましょう。\n",
    "\n",
    "再現する時には、変数の性質（名義、順序、間隔、比例）に注意して、どのタイプの図がどの変数をうまく扱えるかを考えてみましょう。\n",
    "\n",
    "複雑な図を再現したい時は、[Altair Example Gallery](https://altair-viz.github.io/gallery/index.html)を参考にしてみてください。"
   ]
  },
  {
   "cell_type": "markdown",
   "id": "2f0144b1",
   "metadata": {},
   "source": [
    "## ライブラリの読み込み"
   ]
  },
  {
   "cell_type": "code",
   "execution_count": null,
   "id": "4fbc3526",
   "metadata": {},
   "outputs": [],
   "source": [
    "# ライブラリのインストール。必要に応じてコメントアウトする。\n",
    "# !pip install altair"
   ]
  },
  {
   "cell_type": "code",
   "execution_count": null,
   "id": "018f7d95",
   "metadata": {},
   "outputs": [],
   "source": [
    "import pandas as pd\n",
    "\n",
    "import altair as alt"
   ]
  },
  {
   "cell_type": "code",
   "execution_count": null,
   "id": "476bdae1",
   "metadata": {},
   "outputs": [],
   "source": [
    "import itertools\n",
    "import warnings\n",
    "warnings.filterwarnings('ignore')"
   ]
  },
  {
   "cell_type": "code",
   "execution_count": null,
   "id": "351803ca",
   "metadata": {},
   "outputs": [],
   "source": [
    "# 5000行の制限をはずす\n",
    "alt.data_transformers.disable_max_rows()"
   ]
  },
  {
   "cell_type": "markdown",
   "id": "80181144",
   "metadata": {},
   "source": [
    "## 準備関数"
   ]
  },
  {
   "cell_type": "code",
   "execution_count": null,
   "id": "824154b1",
   "metadata": {},
   "outputs": [],
   "source": [
    "# weekdayを曜日に変換\n",
    "WD2STR = {\n",
    "    0: 'Mon.',\n",
    "    1: 'Tue.',\n",
    "    2: 'Wed.',\n",
    "    3: 'Thu.',\n",
    "    4: 'Fri.',\n",
    "    5: 'Sat.',\n",
    "    6: 'Sun.',}"
   ]
  },
  {
   "cell_type": "code",
   "execution_count": null,
   "id": "c7ffca46",
   "metadata": {},
   "outputs": [],
   "source": [
    "def add_years_to_df(df, unit_years=10):\n",
    "    \"\"\"unit_years単位で区切ったyears列を追加\"\"\"\n",
    "    df_new = df.copy()\n",
    "    df_new['years'] = \\\n",
    "        pd.to_datetime(df['datePublished']).dt.year \\\n",
    "        // unit_years * unit_years\n",
    "    df_new['years'] = df_new['years'].astype(str)\n",
    "    return df_new"
   ]
  },
  {
   "cell_type": "code",
   "execution_count": null,
   "id": "d060fcbb",
   "metadata": {},
   "outputs": [],
   "source": [
    "def add_weekday_to_df(df):\n",
    "    \"\"\"曜日情報をdfに追加\"\"\"\n",
    "    df_new = df.copy()\n",
    "    df_new['weekday'] = \\\n",
    "        pd.to_datetime(df_new['datePublished']).dt.weekday\n",
    "    df_new['weekday_str'] = df_new['weekday'].apply(\n",
    "        lambda x: WD2STR[x])\n",
    "    return df_new"
   ]
  },
  {
   "cell_type": "code",
   "execution_count": null,
   "id": "c4b2b5ac",
   "metadata": {},
   "outputs": [],
   "source": [
    "def add_mcid_to_df(df):\n",
    "    \"\"\"mcnameのindexをdfに追加\"\"\"\n",
    "    df_new = df.copy()\n",
    "    mcname2mcid = {\n",
    "        x: i for i, x in enumerate(df['mcname'].unique())}\n",
    "    df_new['mcid'] = df_new['mcname'].apply(\n",
    "        lambda x: mcname2mcid[x])\n",
    "    return df_new"
   ]
  },
  {
   "cell_type": "code",
   "execution_count": null,
   "id": "fe78c1d1",
   "metadata": {},
   "outputs": [],
   "source": [
    "def resample_df_by_cname_and_years(df):\n",
    "    \"\"\"cnameとyearsのすべての組み合わせが存在するように0埋め\n",
    "    この処理を実施しないと作図時にX軸方向の順序が変わってしまう\"\"\"\n",
    "    df_new = df.copy()\n",
    "    yearss = df['years'].unique()\n",
    "    cnames = df['cname'].unique()\n",
    "    for cname, years in itertools.product(cnames, yearss):\n",
    "        df_tmp = df_new[\n",
    "            (df_new['cname'] == cname)&\\\n",
    "            (df_new['years'] == years)]\n",
    "        if df_tmp.shape[0] == 0:\n",
    "            s = pd.DataFrame(\n",
    "                {'cname': cname,\n",
    "                 'years': years,\n",
    "                 'weeks': 0,},\n",
    "                index=df_tmp.columns)\n",
    "            df_new = pd.concat(\n",
    "                [df_new, s], ignore_index=True)\n",
    "    return df_new"
   ]
  },
  {
   "cell_type": "code",
   "execution_count": null,
   "id": "f708ba0d",
   "metadata": {},
   "outputs": [],
   "source": [
    "def resample_df_by_creator_and_years(df):\n",
    "    \"\"\"creatorとyearsのすべての組み合わせが存在するように0埋め\n",
    "    この処理を実施しないと作図時にX軸方向の順序が変わってしまう\"\"\"\n",
    "    df_new = df.copy()\n",
    "    yearss = df['years'].unique()\n",
    "    creators = df['creator'].unique()\n",
    "    for creator, years in itertools.product(creators, yearss):\n",
    "        df_tmp = df_new[\n",
    "            (df_new['creator'] == creator)&\\\n",
    "            (df_new['years'] == years)]\n",
    "        if df_tmp.shape[0] == 0:\n",
    "            s = pd.Series(\n",
    "                {'creator': creator,\n",
    "                 'years': years,\n",
    "                 'weeks': 0,},\n",
    "                index=df_tmp.columns)\n",
    "            df_new = pd.concat(\n",
    "                [df_new, s], ignore_index=True)\n",
    "    return df_new"
   ]
  },
  {
   "cell_type": "markdown",
   "id": "860c6585",
   "metadata": {},
   "source": [
    "## データの用意\n",
    "\n",
    "四大少年誌の`1970-07-27`から`2017-07-06`までの全ての掲載作品のデータを使います。\n",
    "\n",
    "すでに前処理がされているデータがあるので、そちらを使います。"
   ]
  },
  {
   "cell_type": "code",
   "execution_count": null,
   "id": "636aad5d",
   "metadata": {},
   "outputs": [],
   "source": [
    "file = \"./data/episodes.csv\""
   ]
  },
  {
   "cell_type": "code",
   "execution_count": null,
   "id": "e68fa0c8",
   "metadata": {},
   "outputs": [],
   "source": [
    "df = pd.read_csv(file)"
   ]
  },
  {
   "cell_type": "code",
   "execution_count": null,
   "id": "b8a15294",
   "metadata": {},
   "outputs": [],
   "source": [
    "df.shape"
   ]
  },
  {
   "cell_type": "markdown",
   "id": "947c9925",
   "metadata": {},
   "source": [
    "各週の掲載作品を一行ずつ格納しているため、合計で約18万行程度になります。"
   ]
  },
  {
   "cell_type": "code",
   "execution_count": null,
   "id": "377d9456",
   "metadata": {},
   "outputs": [],
   "source": [
    "df.columns"
   ]
  },
  {
   "cell_type": "markdown",
   "id": "1617c9de",
   "metadata": {},
   "source": [
    "- `mcname`: 雑誌名（**M**gazine **C**ollection **NAME**）\n",
    "- `miid`：雑誌巻号ID（**M**agazine **I**tem **ID**）\n",
    "- `miname`: 雑誌巻号名（**M**agazine **I**tem **NAME**）\n",
    "- `cid`: マンガ作品ID（**C**omic **ID**）\n",
    "- `cname`: マンガ作品名（**C**omic **NAME**）\n",
    "- `epname`: 各話タイトル（**EP**isode **NAME**）\n",
    "- `creator`: 作者名\n",
    "- `pageStart`: 開始ページ\n",
    "- `pageEnd`: 終了ページ\n",
    "- `numberOfPages`: 雑誌の合計ページ数\n",
    "- `datePublished`: 雑誌の発行日\n",
    "- `price`: 雑誌の価格\n",
    "- `publisher`: 雑誌の出版社\n",
    "- `editor`: 雑誌の編集者（編集長）\n",
    "- `pages`: 各話のページ数（`pageEnd` - `pageStart` + 1）\n",
    "- `pageEndMax`: 雑誌に掲載されているマンガ作品のうち，`pageEnd`の最大値\n",
    "- `pageStartPosition`: 各話の`pageStart`の相対的な位置（`pageStart` / `pageEndMax`）"
   ]
  },
  {
   "cell_type": "code",
   "execution_count": null,
   "id": "1095370b",
   "metadata": {},
   "outputs": [],
   "source": [
    "df.head()"
   ]
  },
  {
   "cell_type": "code",
   "execution_count": null,
   "id": "5601cb80",
   "metadata": {},
   "outputs": [],
   "source": [
    "df.describe()"
   ]
  },
  {
   "cell_type": "markdown",
   "id": "fecac2e1",
   "metadata": {},
   "source": [
    "欠損値を確認してみます。\n",
    "\n",
    "特に`epname`と`publisher`の欠測が多いことがわかります．"
   ]
  },
  {
   "cell_type": "code",
   "execution_count": null,
   "id": "4e058698",
   "metadata": {},
   "outputs": [],
   "source": [
    "df.isna().sum().reset_index()"
   ]
  },
  {
   "cell_type": "markdown",
   "id": "e4035870",
   "metadata": {},
   "source": [
    "## （例）Altairで再現1：作品別の掲載週数（上位20作品）"
   ]
  },
  {
   "cell_type": "code",
   "execution_count": null,
   "id": "504f4b10",
   "metadata": {},
   "outputs": [],
   "source": [
    "# 作品ごとの週数を数える\n",
    "df_plot = df.value_counts(\"cname\").reset_index(name=\"weeks\").head(20)"
   ]
  },
  {
   "cell_type": "code",
   "execution_count": null,
   "id": "d2d7e1f1",
   "metadata": {},
   "outputs": [],
   "source": [
    "alt.Chart(df_plot).mark_bar().encode(\n",
    "    alt.X(\"cname:N\", sort=\"-y\", title=\"作品名\"),\n",
    "    alt.Y(\"weeks:Q\", title=\"掲載週数\"),\n",
    "    alt.Tooltip([\"weeks\"])\n",
    ").properties(\n",
    "    title=\"作品ごとの掲載週数\"\n",
    ").configure_axis(\n",
    "    labelFontSize=14,\n",
    "    titleFontSize=16\n",
    ").configure_title(\n",
    "    fontSize=16\n",
    ")"
   ]
  },
  {
   "cell_type": "markdown",
   "id": "966be9c4",
   "metadata": {},
   "source": [
    "## （例）Altairで再現2：長期連載作品の掲載位置の分布"
   ]
  },
  {
   "cell_type": "code",
   "execution_count": null,
   "id": "fc175663",
   "metadata": {},
   "outputs": [],
   "source": [
    "df_tmp = \\\n",
    "    df.groupby('cname')['pageStartPosition']\\\n",
    "    .agg(['count', 'mean']).reset_index()\n",
    "df_tmp = \\\n",
    "    df_tmp.sort_values('count', ascending=False, ignore_index=True)\\\n",
    "    .head(10)\n",
    "cname2position = df_tmp.groupby('cname')['mean'].first().to_dict()"
   ]
  },
  {
   "cell_type": "code",
   "execution_count": null,
   "id": "822cc3c3",
   "metadata": {},
   "outputs": [],
   "source": [
    "df_plot = df[df['cname'].isin(list(cname2position.keys()))]\\\n",
    "    .reset_index(drop=True)\n",
    "df_plot['position'] = df_plot['cname'].apply(\n",
    "    lambda x: cname2position[x])\n",
    "df_plot = df_plot.sort_values('position', ignore_index=True)"
   ]
  },
  {
   "cell_type": "code",
   "execution_count": null,
   "id": "ea540365",
   "metadata": {},
   "outputs": [],
   "source": [
    "alt.Chart(df_plot).transform_density(\n",
    "    'pageStartPosition',\n",
    "    as_=['pageStartPosition', 'density'],\n",
    "    extent=[0, 1],\n",
    "    groupby=['cname']\n",
    ").mark_area(orient='horizontal').encode(\n",
    "    alt.Y('pageStartPosition:Q'),\n",
    "    alt.X(\n",
    "        'density:Q',\n",
    "        stack='center',\n",
    "        impute=None,\n",
    "        title=None,\n",
    "        axis=alt.Axis(labels=False, values=[0], grid=False, ticks=True)\n",
    "    ),\n",
    "    alt.Column(\n",
    "        'cname:N'\n",
    "    ),\n",
    "    alt.Tooltip(['pageStartPosition:Q'])\n",
    ").properties(\n",
    "    width=100\n",
    ").configure_facet(\n",
    "    spacing=0\n",
    ").configure_view(\n",
    "    stroke=None\n",
    ")"
   ]
  },
  {
   "cell_type": "markdown",
   "id": "f986a468",
   "metadata": {},
   "source": [
    "---"
   ]
  },
  {
   "cell_type": "markdown",
   "id": "82ec33ed",
   "metadata": {},
   "source": [
    "## Altairで再現1：[図のタイトル]"
   ]
  },
  {
   "cell_type": "code",
   "execution_count": null,
   "id": "d550d80e",
   "metadata": {},
   "outputs": [],
   "source": [
    "# your code goes here"
   ]
  },
  {
   "cell_type": "markdown",
   "id": "508424f2",
   "metadata": {},
   "source": [
    "## Altairで再現2：[図のタイトル]"
   ]
  },
  {
   "cell_type": "code",
   "execution_count": null,
   "id": "2709cbec",
   "metadata": {},
   "outputs": [],
   "source": [
    "# your code goes here"
   ]
  },
  {
   "cell_type": "markdown",
   "id": "0ea40324",
   "metadata": {},
   "source": [
    "## Altairで再現3：[図のタイトル]"
   ]
  },
  {
   "cell_type": "code",
   "execution_count": null,
   "id": "fa570e0f",
   "metadata": {},
   "outputs": [],
   "source": [
    "# your code goes here"
   ]
  },
  {
   "cell_type": "markdown",
   "id": "1b913932",
   "metadata": {},
   "source": [
    "---\n",
    "\n",
    "この演習は以上です。"
   ]
  }
 ],
 "metadata": {
  "kernelspec": {
   "display_name": ".venv",
   "language": "python",
   "name": "python3"
  },
  "language_info": {
   "codemirror_mode": {
    "name": "ipython",
    "version": 3
   },
   "file_extension": ".py",
   "mimetype": "text/x-python",
   "name": "python",
   "nbconvert_exporter": "python",
   "pygments_lexer": "ipython3",
   "version": "3.12.3"
  }
 },
 "nbformat": 4,
 "nbformat_minor": 5
}
